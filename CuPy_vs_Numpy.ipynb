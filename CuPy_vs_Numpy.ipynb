{
  "nbformat": 4,
  "nbformat_minor": 0,
  "metadata": {
    "colab": {
      "name": "CuPy vs Numpy.ipynb",
      "provenance": [],
      "authorship_tag": "ABX9TyP1Mi0q1hYwo42Soa9El39f",
      "include_colab_link": true
    },
    "kernelspec": {
      "name": "python3",
      "display_name": "Python 3"
    },
    "accelerator": "GPU"
  },
  "cells": [
    {
      "cell_type": "markdown",
      "metadata": {
        "id": "view-in-github",
        "colab_type": "text"
      },
      "source": [
        "<a href=\"https://colab.research.google.com/github/DavorJordacevic/InterestingThings/blob/main/CuPy_vs_Numpy.ipynb\" target=\"_parent\"><img src=\"https://colab.research.google.com/assets/colab-badge.svg\" alt=\"Open In Colab\"/></a>"
      ]
    },
    {
      "cell_type": "code",
      "metadata": {
        "id": "HosVw_kaHJB7"
      },
      "source": [
        "import time\n",
        "import cupy as cp\n",
        "import numpy as np"
      ],
      "execution_count": null,
      "outputs": []
    },
    {
      "cell_type": "code",
      "metadata": {
        "id": "K-HMJzACI65A",
        "colab": {
          "base_uri": "https://localhost:8080/",
          "height": 51
        },
        "outputId": "a100d366-f097-4ef6-c260-758715ecaf59"
      },
      "source": [
        "### Numpy and CPU\n",
        "s = time.time()\n",
        "x_cpu = np.ones((5,5,5))\n",
        "e = time.time()\n",
        "print(e - s)\n",
        "\n",
        "### CuPy and GPU\n",
        "s = time.time()\n",
        "x_gpu = cp.ones((5,5,5))\n",
        "cp.cuda.Stream.null.synchronize()\n",
        "e = time.time()\n",
        "print(e - s)"
      ],
      "execution_count": null,
      "outputs": [
        {
          "output_type": "stream",
          "text": [
            "0.002657175064086914\n",
            "0.0009860992431640625\n"
          ],
          "name": "stdout"
        }
      ]
    },
    {
      "cell_type": "code",
      "metadata": {
        "id": "qhHDZToSHYD1",
        "colab": {
          "base_uri": "https://localhost:8080/",
          "height": 51
        },
        "outputId": "4895245b-99d3-4708-d4d2-5aaa8e52a34c"
      },
      "source": [
        "### Numpy and CPU\n",
        "s = time.time()\n",
        "x_cpu = np.ones((1000,1000,1000))\n",
        "e = time.time()\n",
        "print(e - s)\n",
        "\n",
        "### CuPy and GPU\n",
        "s = time.time()\n",
        "x_gpu = cp.ones((1000,1000,1000))\n",
        "cp.cuda.Stream.null.synchronize()\n",
        "e = time.time()\n",
        "print(e - s)"
      ],
      "execution_count": null,
      "outputs": [
        {
          "output_type": "stream",
          "text": [
            "0.7698607444763184\n",
            "0.03423881530761719\n"
          ],
          "name": "stdout"
        }
      ]
    },
    {
      "cell_type": "code",
      "metadata": {
        "id": "6w_Dma6KHhgF",
        "colab": {
          "base_uri": "https://localhost:8080/",
          "height": 51
        },
        "outputId": "16988415-83fb-48e4-e0a6-efc03335aeed"
      },
      "source": [
        "### Numpy and CPU\n",
        "s = time.time()\n",
        "x_cpu *= 5\n",
        "e = time.time()\n",
        "print(e - s)\n",
        "\n",
        "### CuPy and GPU\n",
        "s = time.time()\n",
        "x_gpu *= 5\n",
        "cp.cuda.Stream.null.synchronize()\n",
        "e = time.time()\n",
        "print(e - s)"
      ],
      "execution_count": null,
      "outputs": [
        {
          "output_type": "stream",
          "text": [
            "0.7429323196411133\n",
            "0.0630795955657959\n"
          ],
          "name": "stdout"
        }
      ]
    },
    {
      "cell_type": "code",
      "metadata": {
        "id": "IV5sqTgxHkEY",
        "colab": {
          "base_uri": "https://localhost:8080/",
          "height": 51
        },
        "outputId": "4a42c5ea-f8de-4315-e20a-9c8d8ae26720"
      },
      "source": [
        "### Numpy and CPU\n",
        "s = time.time()\n",
        "x_cpu *= 5\n",
        "x_cpu *= x_cpu\n",
        "x_cpu += x_cpu\n",
        "e = time.time()\n",
        "print(e - s)\n",
        "\n",
        "### CuPy and GPU\n",
        "s = time.time()\n",
        "x_gpu *= 5\n",
        "x_gpu *= x_gpu\n",
        "x_gpu += x_gpu\n",
        "cp.cuda.Stream.null.synchronize()\n",
        "e = time.time()\n",
        "print(e - s)"
      ],
      "execution_count": null,
      "outputs": [
        {
          "output_type": "stream",
          "text": [
            "2.202629804611206\n",
            "0.18866920471191406\n"
          ],
          "name": "stdout"
        }
      ]
    },
    {
      "cell_type": "code",
      "metadata": {
        "id": "dvpro0rQHnuI"
      },
      "source": [
        ""
      ],
      "execution_count": null,
      "outputs": []
    }
  ]
}