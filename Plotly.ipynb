{
  "nbformat": 4,
  "nbformat_minor": 0,
  "metadata": {
    "colab": {
      "name": "Plotly.ipynb",
      "provenance": [],
      "collapsed_sections": []
    },
    "kernelspec": {
      "name": "python3",
      "display_name": "Python 3"
    }
  },
  "cells": [
    {
      "cell_type": "code",
      "metadata": {
        "id": "V4QQsgeQdwiV"
      },
      "source": [
        "import plotly\n",
        "import numpy as np\n",
        "import pandas as pd\n",
        "from plotly import graph_objects as go"
      ],
      "execution_count": null,
      "outputs": []
    },
    {
      "cell_type": "markdown",
      "metadata": {
        "id": "TtRVRHGkiTJM"
      },
      "source": [
        "## Pie Charts"
      ]
    },
    {
      "cell_type": "code",
      "metadata": {
        "id": "Kyfz9RqJhaM4"
      },
      "source": [
        "X = [50, 10, 30, 100]\n",
        "y = ['Audi', 'BMW', 'Cadilac', 'Skoda']"
      ],
      "execution_count": null,
      "outputs": []
    },
    {
      "cell_type": "code",
      "metadata": {
        "id": "w4wSnA55g3dq",
        "colab": {
          "base_uri": "https://localhost:8080/",
          "height": 542
        },
        "outputId": "d59d5d89-607d-4860-c335-8d35af1d4df2"
      },
      "source": [
        "fig = go.Figure(data=[go.Pie(labels=y, values=X)])\n",
        "fig.show()"
      ],
      "execution_count": null,
      "outputs": [
        {
          "output_type": "display_data",
          "data": {
            "text/html": [
              "<html>\n",
              "<head><meta charset=\"utf-8\" /></head>\n",
              "<body>\n",
              "    <div>\n",
              "            <script src=\"https://cdnjs.cloudflare.com/ajax/libs/mathjax/2.7.5/MathJax.js?config=TeX-AMS-MML_SVG\"></script><script type=\"text/javascript\">if (window.MathJax) {MathJax.Hub.Config({SVG: {font: \"STIX-Web\"}});}</script>\n",
              "                <script type=\"text/javascript\">window.PlotlyConfig = {MathJaxConfig: 'local'};</script>\n",
              "        <script src=\"https://cdn.plot.ly/plotly-latest.min.js\"></script>    \n",
              "            <div id=\"8d75426c-2616-4321-a1bb-d857f7aadc6f\" class=\"plotly-graph-div\" style=\"height:525px; width:100%;\"></div>\n",
              "            <script type=\"text/javascript\">\n",
              "                \n",
              "                    window.PLOTLYENV=window.PLOTLYENV || {};\n",
              "                    \n",
              "                if (document.getElementById(\"8d75426c-2616-4321-a1bb-d857f7aadc6f\")) {\n",
              "                    Plotly.newPlot(\n",
              "                        '8d75426c-2616-4321-a1bb-d857f7aadc6f',\n",
              "                        [{\"labels\": [\"Audi\", \"BMW\", \"Cadilac\", \"Skoda\"], \"type\": \"pie\", \"values\": [50, 10, 30, 100]}],\n",
              "                        {\"template\": {\"data\": {\"bar\": [{\"error_x\": {\"color\": \"#2a3f5f\"}, \"error_y\": {\"color\": \"#2a3f5f\"}, \"marker\": {\"line\": {\"color\": \"#E5ECF6\", \"width\": 0.5}}, \"type\": \"bar\"}], \"barpolar\": [{\"marker\": {\"line\": {\"color\": \"#E5ECF6\", \"width\": 0.5}}, \"type\": \"barpolar\"}], \"carpet\": [{\"aaxis\": {\"endlinecolor\": \"#2a3f5f\", \"gridcolor\": \"white\", \"linecolor\": \"white\", \"minorgridcolor\": \"white\", \"startlinecolor\": \"#2a3f5f\"}, \"baxis\": {\"endlinecolor\": \"#2a3f5f\", \"gridcolor\": \"white\", \"linecolor\": \"white\", \"minorgridcolor\": \"white\", \"startlinecolor\": \"#2a3f5f\"}, \"type\": \"carpet\"}], \"choropleth\": [{\"colorbar\": {\"outlinewidth\": 0, \"ticks\": \"\"}, \"type\": \"choropleth\"}], \"contour\": [{\"colorbar\": {\"outlinewidth\": 0, \"ticks\": \"\"}, \"colorscale\": [[0.0, \"#0d0887\"], [0.1111111111111111, \"#46039f\"], [0.2222222222222222, \"#7201a8\"], [0.3333333333333333, \"#9c179e\"], [0.4444444444444444, \"#bd3786\"], [0.5555555555555556, \"#d8576b\"], [0.6666666666666666, \"#ed7953\"], [0.7777777777777778, \"#fb9f3a\"], [0.8888888888888888, \"#fdca26\"], [1.0, \"#f0f921\"]], \"type\": \"contour\"}], \"contourcarpet\": [{\"colorbar\": {\"outlinewidth\": 0, \"ticks\": \"\"}, \"type\": \"contourcarpet\"}], \"heatmap\": [{\"colorbar\": {\"outlinewidth\": 0, \"ticks\": \"\"}, \"colorscale\": [[0.0, \"#0d0887\"], [0.1111111111111111, \"#46039f\"], [0.2222222222222222, \"#7201a8\"], [0.3333333333333333, \"#9c179e\"], [0.4444444444444444, \"#bd3786\"], [0.5555555555555556, \"#d8576b\"], [0.6666666666666666, \"#ed7953\"], [0.7777777777777778, \"#fb9f3a\"], [0.8888888888888888, \"#fdca26\"], [1.0, \"#f0f921\"]], \"type\": \"heatmap\"}], \"heatmapgl\": [{\"colorbar\": {\"outlinewidth\": 0, \"ticks\": \"\"}, \"colorscale\": [[0.0, \"#0d0887\"], [0.1111111111111111, \"#46039f\"], [0.2222222222222222, \"#7201a8\"], [0.3333333333333333, \"#9c179e\"], [0.4444444444444444, \"#bd3786\"], [0.5555555555555556, \"#d8576b\"], [0.6666666666666666, \"#ed7953\"], [0.7777777777777778, \"#fb9f3a\"], [0.8888888888888888, \"#fdca26\"], [1.0, \"#f0f921\"]], \"type\": \"heatmapgl\"}], \"histogram\": [{\"marker\": {\"colorbar\": {\"outlinewidth\": 0, \"ticks\": \"\"}}, \"type\": \"histogram\"}], \"histogram2d\": [{\"colorbar\": {\"outlinewidth\": 0, \"ticks\": \"\"}, \"colorscale\": [[0.0, \"#0d0887\"], [0.1111111111111111, \"#46039f\"], [0.2222222222222222, \"#7201a8\"], [0.3333333333333333, \"#9c179e\"], [0.4444444444444444, \"#bd3786\"], [0.5555555555555556, \"#d8576b\"], [0.6666666666666666, \"#ed7953\"], [0.7777777777777778, \"#fb9f3a\"], [0.8888888888888888, \"#fdca26\"], [1.0, \"#f0f921\"]], \"type\": \"histogram2d\"}], \"histogram2dcontour\": [{\"colorbar\": {\"outlinewidth\": 0, \"ticks\": \"\"}, \"colorscale\": [[0.0, \"#0d0887\"], [0.1111111111111111, \"#46039f\"], [0.2222222222222222, \"#7201a8\"], [0.3333333333333333, \"#9c179e\"], [0.4444444444444444, \"#bd3786\"], [0.5555555555555556, \"#d8576b\"], [0.6666666666666666, \"#ed7953\"], [0.7777777777777778, \"#fb9f3a\"], [0.8888888888888888, \"#fdca26\"], [1.0, \"#f0f921\"]], \"type\": \"histogram2dcontour\"}], \"mesh3d\": [{\"colorbar\": {\"outlinewidth\": 0, \"ticks\": \"\"}, \"type\": \"mesh3d\"}], \"parcoords\": [{\"line\": {\"colorbar\": {\"outlinewidth\": 0, \"ticks\": \"\"}}, \"type\": \"parcoords\"}], \"scatter\": [{\"marker\": {\"colorbar\": {\"outlinewidth\": 0, \"ticks\": \"\"}}, \"type\": \"scatter\"}], \"scatter3d\": [{\"line\": {\"colorbar\": {\"outlinewidth\": 0, \"ticks\": \"\"}}, \"marker\": {\"colorbar\": {\"outlinewidth\": 0, \"ticks\": \"\"}}, \"type\": \"scatter3d\"}], \"scattercarpet\": [{\"marker\": {\"colorbar\": {\"outlinewidth\": 0, \"ticks\": \"\"}}, \"type\": \"scattercarpet\"}], \"scattergeo\": [{\"marker\": {\"colorbar\": {\"outlinewidth\": 0, \"ticks\": \"\"}}, \"type\": \"scattergeo\"}], \"scattergl\": [{\"marker\": {\"colorbar\": {\"outlinewidth\": 0, \"ticks\": \"\"}}, \"type\": \"scattergl\"}], \"scattermapbox\": [{\"marker\": {\"colorbar\": {\"outlinewidth\": 0, \"ticks\": \"\"}}, \"type\": \"scattermapbox\"}], \"scatterpolar\": [{\"marker\": {\"colorbar\": {\"outlinewidth\": 0, \"ticks\": \"\"}}, \"type\": \"scatterpolar\"}], \"scatterpolargl\": [{\"marker\": {\"colorbar\": {\"outlinewidth\": 0, \"ticks\": \"\"}}, \"type\": \"scatterpolargl\"}], \"scatterternary\": [{\"marker\": {\"colorbar\": {\"outlinewidth\": 0, \"ticks\": \"\"}}, \"type\": \"scatterternary\"}], \"surface\": [{\"colorbar\": {\"outlinewidth\": 0, \"ticks\": \"\"}, \"colorscale\": [[0.0, \"#0d0887\"], [0.1111111111111111, \"#46039f\"], [0.2222222222222222, \"#7201a8\"], [0.3333333333333333, \"#9c179e\"], [0.4444444444444444, \"#bd3786\"], [0.5555555555555556, \"#d8576b\"], [0.6666666666666666, \"#ed7953\"], [0.7777777777777778, \"#fb9f3a\"], [0.8888888888888888, \"#fdca26\"], [1.0, \"#f0f921\"]], \"type\": \"surface\"}], \"table\": [{\"cells\": {\"fill\": {\"color\": \"#EBF0F8\"}, \"line\": {\"color\": \"white\"}}, \"header\": {\"fill\": {\"color\": \"#C8D4E3\"}, \"line\": {\"color\": \"white\"}}, \"type\": \"table\"}]}, \"layout\": {\"annotationdefaults\": {\"arrowcolor\": \"#2a3f5f\", \"arrowhead\": 0, \"arrowwidth\": 1}, \"colorscale\": {\"diverging\": [[0, \"#8e0152\"], [0.1, \"#c51b7d\"], [0.2, \"#de77ae\"], [0.3, \"#f1b6da\"], [0.4, \"#fde0ef\"], [0.5, \"#f7f7f7\"], [0.6, \"#e6f5d0\"], [0.7, \"#b8e186\"], [0.8, \"#7fbc41\"], [0.9, \"#4d9221\"], [1, \"#276419\"]], \"sequential\": [[0.0, \"#0d0887\"], [0.1111111111111111, \"#46039f\"], [0.2222222222222222, \"#7201a8\"], [0.3333333333333333, \"#9c179e\"], [0.4444444444444444, \"#bd3786\"], [0.5555555555555556, \"#d8576b\"], [0.6666666666666666, \"#ed7953\"], [0.7777777777777778, \"#fb9f3a\"], [0.8888888888888888, \"#fdca26\"], [1.0, \"#f0f921\"]], \"sequentialminus\": [[0.0, \"#0d0887\"], [0.1111111111111111, \"#46039f\"], [0.2222222222222222, \"#7201a8\"], [0.3333333333333333, \"#9c179e\"], [0.4444444444444444, \"#bd3786\"], [0.5555555555555556, \"#d8576b\"], [0.6666666666666666, \"#ed7953\"], [0.7777777777777778, \"#fb9f3a\"], [0.8888888888888888, \"#fdca26\"], [1.0, \"#f0f921\"]]}, \"colorway\": [\"#636efa\", \"#EF553B\", \"#00cc96\", \"#ab63fa\", \"#FFA15A\", \"#19d3f3\", \"#FF6692\", \"#B6E880\", \"#FF97FF\", \"#FECB52\"], \"font\": {\"color\": \"#2a3f5f\"}, \"geo\": {\"bgcolor\": \"white\", \"lakecolor\": \"white\", \"landcolor\": \"#E5ECF6\", \"showlakes\": true, \"showland\": true, \"subunitcolor\": \"white\"}, \"hoverlabel\": {\"align\": \"left\"}, \"hovermode\": \"closest\", \"mapbox\": {\"style\": \"light\"}, \"paper_bgcolor\": \"white\", \"plot_bgcolor\": \"#E5ECF6\", \"polar\": {\"angularaxis\": {\"gridcolor\": \"white\", \"linecolor\": \"white\", \"ticks\": \"\"}, \"bgcolor\": \"#E5ECF6\", \"radialaxis\": {\"gridcolor\": \"white\", \"linecolor\": \"white\", \"ticks\": \"\"}}, \"scene\": {\"xaxis\": {\"backgroundcolor\": \"#E5ECF6\", \"gridcolor\": \"white\", \"gridwidth\": 2, \"linecolor\": \"white\", \"showbackground\": true, \"ticks\": \"\", \"zerolinecolor\": \"white\"}, \"yaxis\": {\"backgroundcolor\": \"#E5ECF6\", \"gridcolor\": \"white\", \"gridwidth\": 2, \"linecolor\": \"white\", \"showbackground\": true, \"ticks\": \"\", \"zerolinecolor\": \"white\"}, \"zaxis\": {\"backgroundcolor\": \"#E5ECF6\", \"gridcolor\": \"white\", \"gridwidth\": 2, \"linecolor\": \"white\", \"showbackground\": true, \"ticks\": \"\", \"zerolinecolor\": \"white\"}}, \"shapedefaults\": {\"line\": {\"color\": \"#2a3f5f\"}}, \"ternary\": {\"aaxis\": {\"gridcolor\": \"white\", \"linecolor\": \"white\", \"ticks\": \"\"}, \"baxis\": {\"gridcolor\": \"white\", \"linecolor\": \"white\", \"ticks\": \"\"}, \"bgcolor\": \"#E5ECF6\", \"caxis\": {\"gridcolor\": \"white\", \"linecolor\": \"white\", \"ticks\": \"\"}}, \"title\": {\"x\": 0.05}, \"xaxis\": {\"automargin\": true, \"gridcolor\": \"white\", \"linecolor\": \"white\", \"ticks\": \"\", \"zerolinecolor\": \"white\", \"zerolinewidth\": 2}, \"yaxis\": {\"automargin\": true, \"gridcolor\": \"white\", \"linecolor\": \"white\", \"ticks\": \"\", \"zerolinecolor\": \"white\", \"zerolinewidth\": 2}}}},\n",
              "                        {\"responsive\": true}\n",
              "                    ).then(function(){\n",
              "                            \n",
              "var gd = document.getElementById('8d75426c-2616-4321-a1bb-d857f7aadc6f');\n",
              "var x = new MutationObserver(function (mutations, observer) {{\n",
              "        var display = window.getComputedStyle(gd).display;\n",
              "        if (!display || display === 'none') {{\n",
              "            console.log([gd, 'removed!']);\n",
              "            Plotly.purge(gd);\n",
              "            observer.disconnect();\n",
              "        }}\n",
              "}});\n",
              "\n",
              "// Listen for the removal of the full notebook cells\n",
              "var notebookContainer = gd.closest('#notebook-container');\n",
              "if (notebookContainer) {{\n",
              "    x.observe(notebookContainer, {childList: true});\n",
              "}}\n",
              "\n",
              "// Listen for the clearing of the current output cell\n",
              "var outputEl = gd.closest('.output');\n",
              "if (outputEl) {{\n",
              "    x.observe(outputEl, {childList: true});\n",
              "}}\n",
              "\n",
              "                        })\n",
              "                };\n",
              "                \n",
              "            </script>\n",
              "        </div>\n",
              "</body>\n",
              "</html>"
            ]
          },
          "metadata": {
            "tags": []
          }
        }
      ]
    },
    {
      "cell_type": "markdown",
      "metadata": {
        "id": "_mpefqoEiVyu"
      },
      "source": [
        "## Displots"
      ]
    },
    {
      "cell_type": "code",
      "metadata": {
        "id": "TcrqseYWh-_9"
      },
      "source": [
        "from plotly import express as px"
      ],
      "execution_count": null,
      "outputs": []
    },
    {
      "cell_type": "code",
      "metadata": {
        "id": "yoCpzNj0iiby"
      },
      "source": [
        "from sklearn import datasets\n",
        "\n",
        "iris = datasets.load_iris()\n",
        "data = pd.DataFrame(iris.data)\n",
        "data.columns = iris.feature_names"
      ],
      "execution_count": null,
      "outputs": []
    },
    {
      "cell_type": "code",
      "metadata": {
        "id": "TUeFJ-60jN7c",
        "colab": {
          "base_uri": "https://localhost:8080/",
          "height": 204
        },
        "outputId": "1c2c743c-4ae1-418f-b766-d55a5bd1538b"
      },
      "source": [
        "data.head()"
      ],
      "execution_count": null,
      "outputs": [
        {
          "output_type": "execute_result",
          "data": {
            "text/html": [
              "<div>\n",
              "<style scoped>\n",
              "    .dataframe tbody tr th:only-of-type {\n",
              "        vertical-align: middle;\n",
              "    }\n",
              "\n",
              "    .dataframe tbody tr th {\n",
              "        vertical-align: top;\n",
              "    }\n",
              "\n",
              "    .dataframe thead th {\n",
              "        text-align: right;\n",
              "    }\n",
              "</style>\n",
              "<table border=\"1\" class=\"dataframe\">\n",
              "  <thead>\n",
              "    <tr style=\"text-align: right;\">\n",
              "      <th></th>\n",
              "      <th>sepal length (cm)</th>\n",
              "      <th>sepal width (cm)</th>\n",
              "      <th>petal length (cm)</th>\n",
              "      <th>petal width (cm)</th>\n",
              "    </tr>\n",
              "  </thead>\n",
              "  <tbody>\n",
              "    <tr>\n",
              "      <th>0</th>\n",
              "      <td>5.1</td>\n",
              "      <td>3.5</td>\n",
              "      <td>1.4</td>\n",
              "      <td>0.2</td>\n",
              "    </tr>\n",
              "    <tr>\n",
              "      <th>1</th>\n",
              "      <td>4.9</td>\n",
              "      <td>3.0</td>\n",
              "      <td>1.4</td>\n",
              "      <td>0.2</td>\n",
              "    </tr>\n",
              "    <tr>\n",
              "      <th>2</th>\n",
              "      <td>4.7</td>\n",
              "      <td>3.2</td>\n",
              "      <td>1.3</td>\n",
              "      <td>0.2</td>\n",
              "    </tr>\n",
              "    <tr>\n",
              "      <th>3</th>\n",
              "      <td>4.6</td>\n",
              "      <td>3.1</td>\n",
              "      <td>1.5</td>\n",
              "      <td>0.2</td>\n",
              "    </tr>\n",
              "    <tr>\n",
              "      <th>4</th>\n",
              "      <td>5.0</td>\n",
              "      <td>3.6</td>\n",
              "      <td>1.4</td>\n",
              "      <td>0.2</td>\n",
              "    </tr>\n",
              "  </tbody>\n",
              "</table>\n",
              "</div>"
            ],
            "text/plain": [
              "   sepal length (cm)  sepal width (cm)  petal length (cm)  petal width (cm)\n",
              "0                5.1               3.5                1.4               0.2\n",
              "1                4.9               3.0                1.4               0.2\n",
              "2                4.7               3.2                1.3               0.2\n",
              "3                4.6               3.1                1.5               0.2\n",
              "4                5.0               3.6                1.4               0.2"
            ]
          },
          "metadata": {
            "tags": []
          },
          "execution_count": 47
        }
      ]
    },
    {
      "cell_type": "code",
      "metadata": {
        "id": "nrQVEwaqjfLM",
        "colab": {
          "base_uri": "https://localhost:8080/",
          "height": 617
        },
        "outputId": "06a81f4d-3605-47d1-c53f-a01f0084d003"
      },
      "source": [
        "fig  = px.histogram(data, x='sepal length (cm)', y='sepal width (cm)', marginal='box')\n",
        "\n",
        "fig.show()"
      ],
      "execution_count": null,
      "outputs": [
        {
          "output_type": "display_data",
          "data": {
            "text/html": [
              "<html>\n",
              "<head><meta charset=\"utf-8\" /></head>\n",
              "<body>\n",
              "    <div>\n",
              "            <script src=\"https://cdnjs.cloudflare.com/ajax/libs/mathjax/2.7.5/MathJax.js?config=TeX-AMS-MML_SVG\"></script><script type=\"text/javascript\">if (window.MathJax) {MathJax.Hub.Config({SVG: {font: \"STIX-Web\"}});}</script>\n",
              "                <script type=\"text/javascript\">window.PlotlyConfig = {MathJaxConfig: 'local'};</script>\n",
              "        <script src=\"https://cdn.plot.ly/plotly-latest.min.js\"></script>    \n",
              "            <div id=\"45e1c7f9-e2b7-45a8-895b-1b8b1a504a0d\" class=\"plotly-graph-div\" style=\"height:600px; width:100%;\"></div>\n",
              "            <script type=\"text/javascript\">\n",
              "                \n",
              "                    window.PLOTLYENV=window.PLOTLYENV || {};\n",
              "                    \n",
              "                if (document.getElementById(\"45e1c7f9-e2b7-45a8-895b-1b8b1a504a0d\")) {\n",
              "                    Plotly.newPlot(\n",
              "                        '45e1c7f9-e2b7-45a8-895b-1b8b1a504a0d',\n",
              "                        [{\"alignmentgroup\": \"True\", \"bingroup\": \"x\", \"hoverlabel\": {\"namelength\": 0}, \"hovertemplate\": \"sepal length (cm)=%{x}<br>count of sepal width (cm)=%{y}\", \"legendgroup\": \"\", \"marker\": {\"color\": \"#636efa\"}, \"name\": \"\", \"offsetgroup\": \"\", \"orientation\": \"v\", \"showlegend\": false, \"type\": \"histogram\", \"x\": [5.1, 4.9, 4.7, 4.6, 5.0, 5.4, 4.6, 5.0, 4.4, 4.9, 5.4, 4.8, 4.8, 4.3, 5.8, 5.7, 5.4, 5.1, 5.7, 5.1, 5.4, 5.1, 4.6, 5.1, 4.8, 5.0, 5.0, 5.2, 5.2, 4.7, 4.8, 5.4, 5.2, 5.5, 4.9, 5.0, 5.5, 4.9, 4.4, 5.1, 5.0, 4.5, 4.4, 5.0, 5.1, 4.8, 5.1, 4.6, 5.3, 5.0, 7.0, 6.4, 6.9, 5.5, 6.5, 5.7, 6.3, 4.9, 6.6, 5.2, 5.0, 5.9, 6.0, 6.1, 5.6, 6.7, 5.6, 5.8, 6.2, 5.6, 5.9, 6.1, 6.3, 6.1, 6.4, 6.6, 6.8, 6.7, 6.0, 5.7, 5.5, 5.5, 5.8, 6.0, 5.4, 6.0, 6.7, 6.3, 5.6, 5.5, 5.5, 6.1, 5.8, 5.0, 5.6, 5.7, 5.7, 6.2, 5.1, 5.7, 6.3, 5.8, 7.1, 6.3, 6.5, 7.6, 4.9, 7.3, 6.7, 7.2, 6.5, 6.4, 6.8, 5.7, 5.8, 6.4, 6.5, 7.7, 7.7, 6.0, 6.9, 5.6, 7.7, 6.3, 6.7, 7.2, 6.2, 6.1, 6.4, 7.2, 7.4, 7.9, 6.4, 6.3, 6.1, 7.7, 6.3, 6.4, 6.0, 6.9, 6.7, 6.9, 5.8, 6.8, 6.7, 6.7, 6.3, 6.5, 6.2, 5.9], \"xaxis\": \"x\", \"y\": [3.5, 3.0, 3.2, 3.1, 3.6, 3.9, 3.4, 3.4, 2.9, 3.1, 3.7, 3.4, 3.0, 3.0, 4.0, 4.4, 3.9, 3.5, 3.8, 3.8, 3.4, 3.7, 3.6, 3.3, 3.4, 3.0, 3.4, 3.5, 3.4, 3.2, 3.1, 3.4, 4.1, 4.2, 3.1, 3.2, 3.5, 3.6, 3.0, 3.4, 3.5, 2.3, 3.2, 3.5, 3.8, 3.0, 3.8, 3.2, 3.7, 3.3, 3.2, 3.2, 3.1, 2.3, 2.8, 2.8, 3.3, 2.4, 2.9, 2.7, 2.0, 3.0, 2.2, 2.9, 2.9, 3.1, 3.0, 2.7, 2.2, 2.5, 3.2, 2.8, 2.5, 2.8, 2.9, 3.0, 2.8, 3.0, 2.9, 2.6, 2.4, 2.4, 2.7, 2.7, 3.0, 3.4, 3.1, 2.3, 3.0, 2.5, 2.6, 3.0, 2.6, 2.3, 2.7, 3.0, 2.9, 2.9, 2.5, 2.8, 3.3, 2.7, 3.0, 2.9, 3.0, 3.0, 2.5, 2.9, 2.5, 3.6, 3.2, 2.7, 3.0, 2.5, 2.8, 3.2, 3.0, 3.8, 2.6, 2.2, 3.2, 2.8, 2.8, 2.7, 3.3, 3.2, 2.8, 3.0, 2.8, 3.0, 2.8, 3.8, 2.8, 2.8, 2.6, 3.0, 3.4, 3.1, 3.0, 3.1, 3.1, 3.1, 2.7, 3.2, 3.3, 3.0, 2.5, 3.0, 3.4, 3.0], \"yaxis\": \"y\"}, {\"alignmentgroup\": \"True\", \"hoverlabel\": {\"namelength\": 0}, \"hovertemplate\": \"sepal length (cm)=%{x}\", \"legendgroup\": \"\", \"marker\": {\"color\": \"#636efa\"}, \"name\": \"\", \"notched\": true, \"offsetgroup\": \"\", \"showlegend\": false, \"type\": \"box\", \"x\": [5.1, 4.9, 4.7, 4.6, 5.0, 5.4, 4.6, 5.0, 4.4, 4.9, 5.4, 4.8, 4.8, 4.3, 5.8, 5.7, 5.4, 5.1, 5.7, 5.1, 5.4, 5.1, 4.6, 5.1, 4.8, 5.0, 5.0, 5.2, 5.2, 4.7, 4.8, 5.4, 5.2, 5.5, 4.9, 5.0, 5.5, 4.9, 4.4, 5.1, 5.0, 4.5, 4.4, 5.0, 5.1, 4.8, 5.1, 4.6, 5.3, 5.0, 7.0, 6.4, 6.9, 5.5, 6.5, 5.7, 6.3, 4.9, 6.6, 5.2, 5.0, 5.9, 6.0, 6.1, 5.6, 6.7, 5.6, 5.8, 6.2, 5.6, 5.9, 6.1, 6.3, 6.1, 6.4, 6.6, 6.8, 6.7, 6.0, 5.7, 5.5, 5.5, 5.8, 6.0, 5.4, 6.0, 6.7, 6.3, 5.6, 5.5, 5.5, 6.1, 5.8, 5.0, 5.6, 5.7, 5.7, 6.2, 5.1, 5.7, 6.3, 5.8, 7.1, 6.3, 6.5, 7.6, 4.9, 7.3, 6.7, 7.2, 6.5, 6.4, 6.8, 5.7, 5.8, 6.4, 6.5, 7.7, 7.7, 6.0, 6.9, 5.6, 7.7, 6.3, 6.7, 7.2, 6.2, 6.1, 6.4, 7.2, 7.4, 7.9, 6.4, 6.3, 6.1, 7.7, 6.3, 6.4, 6.0, 6.9, 6.7, 6.9, 5.8, 6.8, 6.7, 6.7, 6.3, 6.5, 6.2, 5.9], \"xaxis\": \"x2\", \"yaxis\": \"y2\"}],\n",
              "                        {\"barmode\": \"relative\", \"height\": 600, \"legend\": {\"tracegroupgap\": 0}, \"margin\": {\"t\": 60}, \"template\": {\"data\": {\"bar\": [{\"error_x\": {\"color\": \"#2a3f5f\"}, \"error_y\": {\"color\": \"#2a3f5f\"}, \"marker\": {\"line\": {\"color\": \"#E5ECF6\", \"width\": 0.5}}, \"type\": \"bar\"}], \"barpolar\": [{\"marker\": {\"line\": {\"color\": \"#E5ECF6\", \"width\": 0.5}}, \"type\": \"barpolar\"}], \"carpet\": [{\"aaxis\": {\"endlinecolor\": \"#2a3f5f\", \"gridcolor\": \"white\", \"linecolor\": \"white\", \"minorgridcolor\": \"white\", \"startlinecolor\": \"#2a3f5f\"}, \"baxis\": {\"endlinecolor\": \"#2a3f5f\", \"gridcolor\": \"white\", \"linecolor\": \"white\", \"minorgridcolor\": \"white\", \"startlinecolor\": \"#2a3f5f\"}, \"type\": \"carpet\"}], \"choropleth\": [{\"colorbar\": {\"outlinewidth\": 0, \"ticks\": \"\"}, \"type\": \"choropleth\"}], \"contour\": [{\"colorbar\": {\"outlinewidth\": 0, \"ticks\": \"\"}, \"colorscale\": [[0.0, \"#0d0887\"], [0.1111111111111111, \"#46039f\"], [0.2222222222222222, \"#7201a8\"], [0.3333333333333333, \"#9c179e\"], [0.4444444444444444, \"#bd3786\"], [0.5555555555555556, \"#d8576b\"], [0.6666666666666666, \"#ed7953\"], [0.7777777777777778, \"#fb9f3a\"], [0.8888888888888888, \"#fdca26\"], [1.0, \"#f0f921\"]], \"type\": \"contour\"}], \"contourcarpet\": [{\"colorbar\": {\"outlinewidth\": 0, \"ticks\": \"\"}, \"type\": \"contourcarpet\"}], \"heatmap\": [{\"colorbar\": {\"outlinewidth\": 0, \"ticks\": \"\"}, \"colorscale\": [[0.0, \"#0d0887\"], [0.1111111111111111, \"#46039f\"], [0.2222222222222222, \"#7201a8\"], [0.3333333333333333, \"#9c179e\"], [0.4444444444444444, \"#bd3786\"], [0.5555555555555556, \"#d8576b\"], [0.6666666666666666, \"#ed7953\"], [0.7777777777777778, \"#fb9f3a\"], [0.8888888888888888, \"#fdca26\"], [1.0, \"#f0f921\"]], \"type\": \"heatmap\"}], \"heatmapgl\": [{\"colorbar\": {\"outlinewidth\": 0, \"ticks\": \"\"}, \"colorscale\": [[0.0, \"#0d0887\"], [0.1111111111111111, \"#46039f\"], [0.2222222222222222, \"#7201a8\"], [0.3333333333333333, \"#9c179e\"], [0.4444444444444444, \"#bd3786\"], [0.5555555555555556, \"#d8576b\"], [0.6666666666666666, \"#ed7953\"], [0.7777777777777778, \"#fb9f3a\"], [0.8888888888888888, \"#fdca26\"], [1.0, \"#f0f921\"]], \"type\": \"heatmapgl\"}], \"histogram\": [{\"marker\": {\"colorbar\": {\"outlinewidth\": 0, \"ticks\": \"\"}}, \"type\": \"histogram\"}], \"histogram2d\": [{\"colorbar\": {\"outlinewidth\": 0, \"ticks\": \"\"}, \"colorscale\": [[0.0, \"#0d0887\"], [0.1111111111111111, \"#46039f\"], [0.2222222222222222, \"#7201a8\"], [0.3333333333333333, \"#9c179e\"], [0.4444444444444444, \"#bd3786\"], [0.5555555555555556, \"#d8576b\"], [0.6666666666666666, \"#ed7953\"], [0.7777777777777778, \"#fb9f3a\"], [0.8888888888888888, \"#fdca26\"], [1.0, \"#f0f921\"]], \"type\": \"histogram2d\"}], \"histogram2dcontour\": [{\"colorbar\": {\"outlinewidth\": 0, \"ticks\": \"\"}, \"colorscale\": [[0.0, \"#0d0887\"], [0.1111111111111111, \"#46039f\"], [0.2222222222222222, \"#7201a8\"], [0.3333333333333333, \"#9c179e\"], [0.4444444444444444, \"#bd3786\"], [0.5555555555555556, \"#d8576b\"], [0.6666666666666666, \"#ed7953\"], [0.7777777777777778, \"#fb9f3a\"], [0.8888888888888888, \"#fdca26\"], [1.0, \"#f0f921\"]], \"type\": \"histogram2dcontour\"}], \"mesh3d\": [{\"colorbar\": {\"outlinewidth\": 0, \"ticks\": \"\"}, \"type\": \"mesh3d\"}], \"parcoords\": [{\"line\": {\"colorbar\": {\"outlinewidth\": 0, \"ticks\": \"\"}}, \"type\": \"parcoords\"}], \"scatter\": [{\"marker\": {\"colorbar\": {\"outlinewidth\": 0, \"ticks\": \"\"}}, \"type\": \"scatter\"}], \"scatter3d\": [{\"line\": {\"colorbar\": {\"outlinewidth\": 0, \"ticks\": \"\"}}, \"marker\": {\"colorbar\": {\"outlinewidth\": 0, \"ticks\": \"\"}}, \"type\": \"scatter3d\"}], \"scattercarpet\": [{\"marker\": {\"colorbar\": {\"outlinewidth\": 0, \"ticks\": \"\"}}, \"type\": \"scattercarpet\"}], \"scattergeo\": [{\"marker\": {\"colorbar\": {\"outlinewidth\": 0, \"ticks\": \"\"}}, \"type\": \"scattergeo\"}], \"scattergl\": [{\"marker\": {\"colorbar\": {\"outlinewidth\": 0, \"ticks\": \"\"}}, \"type\": \"scattergl\"}], \"scattermapbox\": [{\"marker\": {\"colorbar\": {\"outlinewidth\": 0, \"ticks\": \"\"}}, \"type\": \"scattermapbox\"}], \"scatterpolar\": [{\"marker\": {\"colorbar\": {\"outlinewidth\": 0, \"ticks\": \"\"}}, \"type\": \"scatterpolar\"}], \"scatterpolargl\": [{\"marker\": {\"colorbar\": {\"outlinewidth\": 0, \"ticks\": \"\"}}, \"type\": \"scatterpolargl\"}], \"scatterternary\": [{\"marker\": {\"colorbar\": {\"outlinewidth\": 0, \"ticks\": \"\"}}, \"type\": \"scatterternary\"}], \"surface\": [{\"colorbar\": {\"outlinewidth\": 0, \"ticks\": \"\"}, \"colorscale\": [[0.0, \"#0d0887\"], [0.1111111111111111, \"#46039f\"], [0.2222222222222222, \"#7201a8\"], [0.3333333333333333, \"#9c179e\"], [0.4444444444444444, \"#bd3786\"], [0.5555555555555556, \"#d8576b\"], [0.6666666666666666, \"#ed7953\"], [0.7777777777777778, \"#fb9f3a\"], [0.8888888888888888, \"#fdca26\"], [1.0, \"#f0f921\"]], \"type\": \"surface\"}], \"table\": [{\"cells\": {\"fill\": {\"color\": \"#EBF0F8\"}, \"line\": {\"color\": \"white\"}}, \"header\": {\"fill\": {\"color\": \"#C8D4E3\"}, \"line\": {\"color\": \"white\"}}, \"type\": \"table\"}]}, \"layout\": {\"annotationdefaults\": {\"arrowcolor\": \"#2a3f5f\", \"arrowhead\": 0, \"arrowwidth\": 1}, \"colorscale\": {\"diverging\": [[0, \"#8e0152\"], [0.1, \"#c51b7d\"], [0.2, \"#de77ae\"], [0.3, \"#f1b6da\"], [0.4, \"#fde0ef\"], [0.5, \"#f7f7f7\"], [0.6, \"#e6f5d0\"], [0.7, \"#b8e186\"], [0.8, \"#7fbc41\"], [0.9, \"#4d9221\"], [1, \"#276419\"]], \"sequential\": [[0.0, \"#0d0887\"], [0.1111111111111111, \"#46039f\"], [0.2222222222222222, \"#7201a8\"], [0.3333333333333333, \"#9c179e\"], [0.4444444444444444, \"#bd3786\"], [0.5555555555555556, \"#d8576b\"], [0.6666666666666666, \"#ed7953\"], [0.7777777777777778, \"#fb9f3a\"], [0.8888888888888888, \"#fdca26\"], [1.0, \"#f0f921\"]], \"sequentialminus\": [[0.0, \"#0d0887\"], [0.1111111111111111, \"#46039f\"], [0.2222222222222222, \"#7201a8\"], [0.3333333333333333, \"#9c179e\"], [0.4444444444444444, \"#bd3786\"], [0.5555555555555556, \"#d8576b\"], [0.6666666666666666, \"#ed7953\"], [0.7777777777777778, \"#fb9f3a\"], [0.8888888888888888, \"#fdca26\"], [1.0, \"#f0f921\"]]}, \"colorway\": [\"#636efa\", \"#EF553B\", \"#00cc96\", \"#ab63fa\", \"#FFA15A\", \"#19d3f3\", \"#FF6692\", \"#B6E880\", \"#FF97FF\", \"#FECB52\"], \"font\": {\"color\": \"#2a3f5f\"}, \"geo\": {\"bgcolor\": \"white\", \"lakecolor\": \"white\", \"landcolor\": \"#E5ECF6\", \"showlakes\": true, \"showland\": true, \"subunitcolor\": \"white\"}, \"hoverlabel\": {\"align\": \"left\"}, \"hovermode\": \"closest\", \"mapbox\": {\"style\": \"light\"}, \"paper_bgcolor\": \"white\", \"plot_bgcolor\": \"#E5ECF6\", \"polar\": {\"angularaxis\": {\"gridcolor\": \"white\", \"linecolor\": \"white\", \"ticks\": \"\"}, \"bgcolor\": \"#E5ECF6\", \"radialaxis\": {\"gridcolor\": \"white\", \"linecolor\": \"white\", \"ticks\": \"\"}}, \"scene\": {\"xaxis\": {\"backgroundcolor\": \"#E5ECF6\", \"gridcolor\": \"white\", \"gridwidth\": 2, \"linecolor\": \"white\", \"showbackground\": true, \"ticks\": \"\", \"zerolinecolor\": \"white\"}, \"yaxis\": {\"backgroundcolor\": \"#E5ECF6\", \"gridcolor\": \"white\", \"gridwidth\": 2, \"linecolor\": \"white\", \"showbackground\": true, \"ticks\": \"\", \"zerolinecolor\": \"white\"}, \"zaxis\": {\"backgroundcolor\": \"#E5ECF6\", \"gridcolor\": \"white\", \"gridwidth\": 2, \"linecolor\": \"white\", \"showbackground\": true, \"ticks\": \"\", \"zerolinecolor\": \"white\"}}, \"shapedefaults\": {\"line\": {\"color\": \"#2a3f5f\"}}, \"ternary\": {\"aaxis\": {\"gridcolor\": \"white\", \"linecolor\": \"white\", \"ticks\": \"\"}, \"baxis\": {\"gridcolor\": \"white\", \"linecolor\": \"white\", \"ticks\": \"\"}, \"bgcolor\": \"#E5ECF6\", \"caxis\": {\"gridcolor\": \"white\", \"linecolor\": \"white\", \"ticks\": \"\"}}, \"title\": {\"x\": 0.05}, \"xaxis\": {\"automargin\": true, \"gridcolor\": \"white\", \"linecolor\": \"white\", \"ticks\": \"\", \"zerolinecolor\": \"white\", \"zerolinewidth\": 2}, \"yaxis\": {\"automargin\": true, \"gridcolor\": \"white\", \"linecolor\": \"white\", \"ticks\": \"\", \"zerolinecolor\": \"white\", \"zerolinewidth\": 2}}}, \"xaxis\": {\"anchor\": \"y\", \"domain\": [0.0, 0.98], \"title\": {\"text\": \"sepal length (cm)\"}}, \"xaxis2\": {\"anchor\": \"y2\", \"domain\": [0.0, 0.98], \"matches\": \"x\", \"showgrid\": true, \"showticklabels\": false}, \"yaxis\": {\"anchor\": \"x\", \"domain\": [0.0, 0.8316], \"title\": {\"text\": \"count of sepal width (cm)\"}}, \"yaxis2\": {\"anchor\": \"x2\", \"domain\": [0.8416, 1.0], \"matches\": \"y2\", \"showgrid\": false, \"showticklabels\": false}},\n",
              "                        {\"responsive\": true}\n",
              "                    ).then(function(){\n",
              "                            \n",
              "var gd = document.getElementById('45e1c7f9-e2b7-45a8-895b-1b8b1a504a0d');\n",
              "var x = new MutationObserver(function (mutations, observer) {{\n",
              "        var display = window.getComputedStyle(gd).display;\n",
              "        if (!display || display === 'none') {{\n",
              "            console.log([gd, 'removed!']);\n",
              "            Plotly.purge(gd);\n",
              "            observer.disconnect();\n",
              "        }}\n",
              "}});\n",
              "\n",
              "// Listen for the removal of the full notebook cells\n",
              "var notebookContainer = gd.closest('#notebook-container');\n",
              "if (notebookContainer) {{\n",
              "    x.observe(notebookContainer, {childList: true});\n",
              "}}\n",
              "\n",
              "// Listen for the clearing of the current output cell\n",
              "var outputEl = gd.closest('.output');\n",
              "if (outputEl) {{\n",
              "    x.observe(outputEl, {childList: true});\n",
              "}}\n",
              "\n",
              "                        })\n",
              "                };\n",
              "                \n",
              "            </script>\n",
              "        </div>\n",
              "</body>\n",
              "</html>"
            ]
          },
          "metadata": {
            "tags": []
          }
        }
      ]
    },
    {
      "cell_type": "code",
      "metadata": {
        "id": "o4cg8W6Dkg1p"
      },
      "source": [
        "from plotly import figure_factory as ff"
      ],
      "execution_count": null,
      "outputs": []
    },
    {
      "cell_type": "code",
      "metadata": {
        "id": "KTrZH3G-kpEs"
      },
      "source": [
        "labels = [data.columns[0], data.columns[1], data.columns[2], data.columns[3]]"
      ],
      "execution_count": null,
      "outputs": []
    },
    {
      "cell_type": "code",
      "metadata": {
        "id": "4sxonFhJkraD",
        "colab": {
          "base_uri": "https://localhost:8080/",
          "height": 85
        },
        "outputId": "7f9be2cc-2509-4eac-a2c5-ca0f6e16ef0d"
      },
      "source": [
        "labels"
      ],
      "execution_count": null,
      "outputs": [
        {
          "output_type": "execute_result",
          "data": {
            "text/plain": [
              "['sepal length (cm)',\n",
              " 'sepal width (cm)',\n",
              " 'petal length (cm)',\n",
              " 'petal width (cm)']"
            ]
          },
          "metadata": {
            "tags": []
          },
          "execution_count": 72
        }
      ]
    },
    {
      "cell_type": "code",
      "metadata": {
        "id": "7FalswL6lrbF",
        "colab": {
          "base_uri": "https://localhost:8080/",
          "height": 221
        },
        "outputId": "9e6d874a-4c5b-4ef3-c4cc-3115985f5090"
      },
      "source": [
        "data.values[:,0]"
      ],
      "execution_count": null,
      "outputs": [
        {
          "output_type": "execute_result",
          "data": {
            "text/plain": [
              "array([5.1, 4.9, 4.7, 4.6, 5. , 5.4, 4.6, 5. , 4.4, 4.9, 5.4, 4.8, 4.8,\n",
              "       4.3, 5.8, 5.7, 5.4, 5.1, 5.7, 5.1, 5.4, 5.1, 4.6, 5.1, 4.8, 5. ,\n",
              "       5. , 5.2, 5.2, 4.7, 4.8, 5.4, 5.2, 5.5, 4.9, 5. , 5.5, 4.9, 4.4,\n",
              "       5.1, 5. , 4.5, 4.4, 5. , 5.1, 4.8, 5.1, 4.6, 5.3, 5. , 7. , 6.4,\n",
              "       6.9, 5.5, 6.5, 5.7, 6.3, 4.9, 6.6, 5.2, 5. , 5.9, 6. , 6.1, 5.6,\n",
              "       6.7, 5.6, 5.8, 6.2, 5.6, 5.9, 6.1, 6.3, 6.1, 6.4, 6.6, 6.8, 6.7,\n",
              "       6. , 5.7, 5.5, 5.5, 5.8, 6. , 5.4, 6. , 6.7, 6.3, 5.6, 5.5, 5.5,\n",
              "       6.1, 5.8, 5. , 5.6, 5.7, 5.7, 6.2, 5.1, 5.7, 6.3, 5.8, 7.1, 6.3,\n",
              "       6.5, 7.6, 4.9, 7.3, 6.7, 7.2, 6.5, 6.4, 6.8, 5.7, 5.8, 6.4, 6.5,\n",
              "       7.7, 7.7, 6. , 6.9, 5.6, 7.7, 6.3, 6.7, 7.2, 6.2, 6.1, 6.4, 7.2,\n",
              "       7.4, 7.9, 6.4, 6.3, 6.1, 7.7, 6.3, 6.4, 6. , 6.9, 6.7, 6.9, 5.8,\n",
              "       6.8, 6.7, 6.7, 6.3, 6.5, 6.2, 5.9])"
            ]
          },
          "metadata": {
            "tags": []
          },
          "execution_count": 82
        }
      ]
    },
    {
      "cell_type": "code",
      "metadata": {
        "id": "wEBRpNkulTkb"
      },
      "source": [
        "hist_data = [data.values[:,0], data.values[:,1], data.values[:,2], data.values[:,3]]"
      ],
      "execution_count": null,
      "outputs": []
    },
    {
      "cell_type": "code",
      "metadata": {
        "id": "sc7_B9SrlbAf",
        "colab": {
          "base_uri": "https://localhost:8080/",
          "height": 542
        },
        "outputId": "1e6aef13-968f-412e-9aa1-8ae0bc834ea1"
      },
      "source": [
        "fig = ff.create_distplot(hist_data, labels, bin_size=.2)\n",
        "fig.show()"
      ],
      "execution_count": null,
      "outputs": [
        {
          "output_type": "display_data",
          "data": {
            "text/html": [
              "<html>\n",
              "<head><meta charset=\"utf-8\" /></head>\n",
              "<body>\n",
              "    <div>\n",
              "            <script src=\"https://cdnjs.cloudflare.com/ajax/libs/mathjax/2.7.5/MathJax.js?config=TeX-AMS-MML_SVG\"></script><script type=\"text/javascript\">if (window.MathJax) {MathJax.Hub.Config({SVG: {font: \"STIX-Web\"}});}</script>\n",
              "                <script type=\"text/javascript\">window.PlotlyConfig = {MathJaxConfig: 'local'};</script>\n",
              "        <script src=\"https://cdn.plot.ly/plotly-latest.min.js\"></script>    \n",
              "            <div id=\"cfd5512a-1a38-4c42-b691-a5bdc40372a6\" class=\"plotly-graph-div\" style=\"height:525px; width:100%;\"></div>\n",
              "            <script type=\"text/javascript\">\n",
              "                \n",
              "                    window.PLOTLYENV=window.PLOTLYENV || {};\n",
              "                    \n",
              "                if (document.getElementById(\"cfd5512a-1a38-4c42-b691-a5bdc40372a6\")) {\n",
              "                    Plotly.newPlot(\n",
              "                        'cfd5512a-1a38-4c42-b691-a5bdc40372a6',\n",
              "                        [{\"autobinx\": false, \"histnorm\": \"probability density\", \"legendgroup\": \"sepal length (cm)\", \"marker\": {\"color\": \"rgb(31, 119, 180)\"}, \"name\": \"sepal length (cm)\", \"opacity\": 0.7, \"type\": \"histogram\", \"x\": [5.1, 4.9, 4.7, 4.6, 5.0, 5.4, 4.6, 5.0, 4.4, 4.9, 5.4, 4.8, 4.8, 4.3, 5.8, 5.7, 5.4, 5.1, 5.7, 5.1, 5.4, 5.1, 4.6, 5.1, 4.8, 5.0, 5.0, 5.2, 5.2, 4.7, 4.8, 5.4, 5.2, 5.5, 4.9, 5.0, 5.5, 4.9, 4.4, 5.1, 5.0, 4.5, 4.4, 5.0, 5.1, 4.8, 5.1, 4.6, 5.3, 5.0, 7.0, 6.4, 6.9, 5.5, 6.5, 5.7, 6.3, 4.9, 6.6, 5.2, 5.0, 5.9, 6.0, 6.1, 5.6, 6.7, 5.6, 5.8, 6.2, 5.6, 5.9, 6.1, 6.3, 6.1, 6.4, 6.6, 6.8, 6.7, 6.0, 5.7, 5.5, 5.5, 5.8, 6.0, 5.4, 6.0, 6.7, 6.3, 5.6, 5.5, 5.5, 6.1, 5.8, 5.0, 5.6, 5.7, 5.7, 6.2, 5.1, 5.7, 6.3, 5.8, 7.1, 6.3, 6.5, 7.6, 4.9, 7.3, 6.7, 7.2, 6.5, 6.4, 6.8, 5.7, 5.8, 6.4, 6.5, 7.7, 7.7, 6.0, 6.9, 5.6, 7.7, 6.3, 6.7, 7.2, 6.2, 6.1, 6.4, 7.2, 7.4, 7.9, 6.4, 6.3, 6.1, 7.7, 6.3, 6.4, 6.0, 6.9, 6.7, 6.9, 5.8, 6.8, 6.7, 6.7, 6.3, 6.5, 6.2, 5.9], \"xaxis\": \"x\", \"xbins\": {\"end\": 7.9, \"size\": 0.2, \"start\": 4.3}, \"yaxis\": \"y\"}, {\"autobinx\": false, \"histnorm\": \"probability density\", \"legendgroup\": \"sepal width (cm)\", \"marker\": {\"color\": \"rgb(255, 127, 14)\"}, \"name\": \"sepal width (cm)\", \"opacity\": 0.7, \"type\": \"histogram\", \"x\": [3.5, 3.0, 3.2, 3.1, 3.6, 3.9, 3.4, 3.4, 2.9, 3.1, 3.7, 3.4, 3.0, 3.0, 4.0, 4.4, 3.9, 3.5, 3.8, 3.8, 3.4, 3.7, 3.6, 3.3, 3.4, 3.0, 3.4, 3.5, 3.4, 3.2, 3.1, 3.4, 4.1, 4.2, 3.1, 3.2, 3.5, 3.6, 3.0, 3.4, 3.5, 2.3, 3.2, 3.5, 3.8, 3.0, 3.8, 3.2, 3.7, 3.3, 3.2, 3.2, 3.1, 2.3, 2.8, 2.8, 3.3, 2.4, 2.9, 2.7, 2.0, 3.0, 2.2, 2.9, 2.9, 3.1, 3.0, 2.7, 2.2, 2.5, 3.2, 2.8, 2.5, 2.8, 2.9, 3.0, 2.8, 3.0, 2.9, 2.6, 2.4, 2.4, 2.7, 2.7, 3.0, 3.4, 3.1, 2.3, 3.0, 2.5, 2.6, 3.0, 2.6, 2.3, 2.7, 3.0, 2.9, 2.9, 2.5, 2.8, 3.3, 2.7, 3.0, 2.9, 3.0, 3.0, 2.5, 2.9, 2.5, 3.6, 3.2, 2.7, 3.0, 2.5, 2.8, 3.2, 3.0, 3.8, 2.6, 2.2, 3.2, 2.8, 2.8, 2.7, 3.3, 3.2, 2.8, 3.0, 2.8, 3.0, 2.8, 3.8, 2.8, 2.8, 2.6, 3.0, 3.4, 3.1, 3.0, 3.1, 3.1, 3.1, 2.7, 3.2, 3.3, 3.0, 2.5, 3.0, 3.4, 3.0], \"xaxis\": \"x\", \"xbins\": {\"end\": 4.4, \"size\": 0.2, \"start\": 2.0}, \"yaxis\": \"y\"}, {\"autobinx\": false, \"histnorm\": \"probability density\", \"legendgroup\": \"petal length (cm)\", \"marker\": {\"color\": \"rgb(44, 160, 44)\"}, \"name\": \"petal length (cm)\", \"opacity\": 0.7, \"type\": \"histogram\", \"x\": [1.4, 1.4, 1.3, 1.5, 1.4, 1.7, 1.4, 1.5, 1.4, 1.5, 1.5, 1.6, 1.4, 1.1, 1.2, 1.5, 1.3, 1.4, 1.7, 1.5, 1.7, 1.5, 1.0, 1.7, 1.9, 1.6, 1.6, 1.5, 1.4, 1.6, 1.6, 1.5, 1.5, 1.4, 1.5, 1.2, 1.3, 1.4, 1.3, 1.5, 1.3, 1.3, 1.3, 1.6, 1.9, 1.4, 1.6, 1.4, 1.5, 1.4, 4.7, 4.5, 4.9, 4.0, 4.6, 4.5, 4.7, 3.3, 4.6, 3.9, 3.5, 4.2, 4.0, 4.7, 3.6, 4.4, 4.5, 4.1, 4.5, 3.9, 4.8, 4.0, 4.9, 4.7, 4.3, 4.4, 4.8, 5.0, 4.5, 3.5, 3.8, 3.7, 3.9, 5.1, 4.5, 4.5, 4.7, 4.4, 4.1, 4.0, 4.4, 4.6, 4.0, 3.3, 4.2, 4.2, 4.2, 4.3, 3.0, 4.1, 6.0, 5.1, 5.9, 5.6, 5.8, 6.6, 4.5, 6.3, 5.8, 6.1, 5.1, 5.3, 5.5, 5.0, 5.1, 5.3, 5.5, 6.7, 6.9, 5.0, 5.7, 4.9, 6.7, 4.9, 5.7, 6.0, 4.8, 4.9, 5.6, 5.8, 6.1, 6.4, 5.6, 5.1, 5.6, 6.1, 5.6, 5.5, 4.8, 5.4, 5.6, 5.1, 5.1, 5.9, 5.7, 5.2, 5.0, 5.2, 5.4, 5.1], \"xaxis\": \"x\", \"xbins\": {\"end\": 6.9, \"size\": 0.2, \"start\": 1.0}, \"yaxis\": \"y\"}, {\"autobinx\": false, \"histnorm\": \"probability density\", \"legendgroup\": \"petal width (cm)\", \"marker\": {\"color\": \"rgb(214, 39, 40)\"}, \"name\": \"petal width (cm)\", \"opacity\": 0.7, \"type\": \"histogram\", \"x\": [0.2, 0.2, 0.2, 0.2, 0.2, 0.4, 0.3, 0.2, 0.2, 0.1, 0.2, 0.2, 0.1, 0.1, 0.2, 0.4, 0.4, 0.3, 0.3, 0.3, 0.2, 0.4, 0.2, 0.5, 0.2, 0.2, 0.4, 0.2, 0.2, 0.2, 0.2, 0.4, 0.1, 0.2, 0.2, 0.2, 0.2, 0.1, 0.2, 0.2, 0.3, 0.3, 0.2, 0.6, 0.4, 0.3, 0.2, 0.2, 0.2, 0.2, 1.4, 1.5, 1.5, 1.3, 1.5, 1.3, 1.6, 1.0, 1.3, 1.4, 1.0, 1.5, 1.0, 1.4, 1.3, 1.4, 1.5, 1.0, 1.5, 1.1, 1.8, 1.3, 1.5, 1.2, 1.3, 1.4, 1.4, 1.7, 1.5, 1.0, 1.1, 1.0, 1.2, 1.6, 1.5, 1.6, 1.5, 1.3, 1.3, 1.3, 1.2, 1.4, 1.2, 1.0, 1.3, 1.2, 1.3, 1.3, 1.1, 1.3, 2.5, 1.9, 2.1, 1.8, 2.2, 2.1, 1.7, 1.8, 1.8, 2.5, 2.0, 1.9, 2.1, 2.0, 2.4, 2.3, 1.8, 2.2, 2.3, 1.5, 2.3, 2.0, 2.0, 1.8, 2.1, 1.8, 1.8, 1.8, 2.1, 1.6, 1.9, 2.0, 2.2, 1.5, 1.4, 2.3, 2.4, 1.8, 1.8, 2.1, 2.4, 2.3, 1.9, 2.3, 2.5, 2.3, 1.9, 2.0, 2.3, 1.8], \"xaxis\": \"x\", \"xbins\": {\"end\": 2.5, \"size\": 0.2, \"start\": 0.1}, \"yaxis\": \"y\"}, {\"legendgroup\": \"sepal length (cm)\", \"marker\": {\"color\": \"rgb(31, 119, 180)\"}, \"mode\": \"lines\", \"name\": \"sepal length (cm)\", \"showlegend\": false, \"type\": \"scatter\", \"x\": [4.3, 4.3072, 4.3144, 4.3216, 4.3288, 4.335999999999999, 4.3431999999999995, 4.3504, 4.3576, 4.3648, 4.372, 4.3792, 4.3864, 4.3936, 4.4008, 4.4079999999999995, 4.4152, 4.4224, 4.4296, 4.4368, 4.444, 4.4512, 4.4584, 4.4656, 4.472799999999999, 4.4799999999999995, 4.4872, 4.4944, 4.5016, 4.5088, 4.516, 4.5232, 4.5304, 4.537599999999999, 4.5447999999999995, 4.552, 4.5592, 4.5664, 4.5736, 4.5808, 4.588, 4.5952, 4.6024, 4.6095999999999995, 4.6168, 4.624, 4.6312, 4.6384, 4.6456, 4.6528, 4.66, 4.6672, 4.6743999999999994, 4.6815999999999995, 4.6888, 4.696, 4.7032, 4.7104, 4.7176, 4.7248, 4.732, 4.7392, 4.7463999999999995, 4.7536, 4.7608, 4.768, 4.7752, 4.7824, 4.7896, 4.7968, 4.804, 4.8111999999999995, 4.8184, 4.8256, 4.8328, 4.84, 4.8472, 4.8544, 4.8616, 4.8688, 4.8759999999999994, 4.8831999999999995, 4.8904, 4.8976, 4.9048, 4.912, 4.9192, 4.9264, 4.9336, 4.940799999999999, 4.948, 4.9552, 4.9624, 4.9696, 4.9768, 4.984, 4.9912, 4.9984, 5.0056, 5.0128, 5.02, 5.0272, 5.0344, 5.0416, 5.0488, 5.056, 5.0632, 5.0704, 5.0776, 5.0847999999999995, 5.092, 5.0992, 5.1064, 5.1136, 5.1208, 5.128, 5.1352, 5.1424, 5.1495999999999995, 5.1568000000000005, 5.164, 5.1712, 5.1784, 5.1856, 5.1928, 5.2, 5.2072, 5.2143999999999995, 5.2216, 5.2288, 5.236, 5.2432, 5.2504, 5.2576, 5.2648, 5.272, 5.2792, 5.2863999999999995, 5.2936, 5.3008, 5.308, 5.3152, 5.3224, 5.3296, 5.3368, 5.344, 5.3512, 5.3584, 5.3656, 5.3728, 5.38, 5.3872, 5.3944, 5.4016, 5.4088, 5.416, 5.4232, 5.4304, 5.4376, 5.4448, 5.452, 5.4592, 5.4664, 5.4736, 5.4808, 5.4879999999999995, 5.4952000000000005, 5.5024, 5.5096, 5.5168, 5.524, 5.5312, 5.5384, 5.5456, 5.5527999999999995, 5.5600000000000005, 5.5672, 5.5744, 5.5816, 5.5888, 5.596, 5.6032, 5.6104, 5.6175999999999995, 5.6248000000000005, 5.632, 5.6392, 5.6464, 5.6536, 5.6608, 5.668, 5.6752, 5.6823999999999995, 5.6896, 5.6968, 5.704, 5.7112, 5.7184, 5.7256, 5.7328, 5.74, 5.7472, 5.7544, 5.7616, 5.7688, 5.776, 5.7832, 5.7904, 5.7976, 5.8048, 5.812, 5.8192, 5.8264000000000005, 5.8336, 5.8408, 5.848, 5.8552, 5.8624, 5.8696, 5.8768, 5.884, 5.8911999999999995, 5.8984000000000005, 5.9056, 5.9128, 5.92, 5.9272, 5.9344, 5.9416, 5.9488, 5.9559999999999995, 5.9632000000000005, 5.9704, 5.9776, 5.9848, 5.992, 5.9992, 6.0064, 6.0136, 6.0207999999999995, 6.0280000000000005, 6.0352, 6.042400000000001, 6.0496, 6.0568, 6.064, 6.0712, 6.0784, 6.0856, 6.0928, 6.1, 6.107200000000001, 6.1144, 6.1216, 6.1288, 6.136, 6.1432, 6.1504, 6.1576, 6.1648, 6.172000000000001, 6.1792, 6.1864, 6.1936, 6.2008, 6.208, 6.2152, 6.2224, 6.2296000000000005, 6.2368, 6.244, 6.2512, 6.2584, 6.2656, 6.2728, 6.28, 6.2872, 6.2944, 6.3016000000000005, 6.3088, 6.316, 6.3232, 6.3304, 6.3376, 6.3448, 6.352, 6.3591999999999995, 6.3664000000000005, 6.3736, 6.3808, 6.388, 6.3952, 6.4024, 6.4096, 6.4168, 6.424, 6.4312000000000005, 6.4384, 6.445600000000001, 6.4528, 6.460000000000001, 6.4672, 6.4744, 6.4816, 6.4887999999999995, 6.496, 6.5032, 6.510400000000001, 6.5176, 6.5248, 6.532, 6.5392, 6.5464, 6.5536, 6.5608, 6.568, 6.575200000000001, 6.5824, 6.589600000000001, 6.5968, 6.604, 6.6112, 6.6184, 6.6256, 6.6328, 6.640000000000001, 6.6472, 6.654400000000001, 6.6616, 6.6688, 6.676, 6.6832, 6.6904, 6.6975999999999996, 6.7048000000000005, 6.712, 6.719200000000001, 6.7264, 6.7336, 6.7408, 6.748, 6.7552, 6.7624, 6.7696000000000005, 6.7768, 6.784000000000001, 6.7912, 6.798400000000001, 6.8056, 6.8128, 6.82, 6.8271999999999995, 6.8344000000000005, 6.8416, 6.848800000000001, 6.856, 6.8632, 6.8704, 6.8776, 6.8848, 6.892, 6.8992, 6.9064000000000005, 6.913600000000001, 6.9208, 6.928000000000001, 6.9352, 6.942400000000001, 6.9496, 6.956799999999999, 6.964, 6.9712, 6.978400000000001, 6.9856, 6.9928, 7.0, 7.0072, 7.0144, 7.0216, 7.0288, 7.0360000000000005, 7.043200000000001, 7.0504, 7.057600000000001, 7.0648, 7.072, 7.0792, 7.0864, 7.0936, 7.1008000000000004, 7.1080000000000005, 7.1152, 7.122400000000001, 7.1296, 7.136800000000001, 7.144, 7.1512, 7.1584, 7.1655999999999995, 7.1728000000000005, 7.18, 7.187200000000001, 7.1944, 7.2016, 7.2088, 7.216, 7.2232, 7.2304, 7.2376000000000005, 7.244800000000001, 7.252000000000001, 7.2592, 7.266400000000001, 7.2736, 7.280800000000001, 7.288, 7.2951999999999995, 7.3024000000000004, 7.3096, 7.316800000000001, 7.324, 7.3312, 7.3384, 7.3456, 7.3528, 7.36, 7.3672, 7.3744000000000005, 7.381600000000001, 7.3888, 7.396000000000001, 7.4032, 7.410400000000001, 7.4176, 7.4248, 7.432, 7.4392, 7.446400000000001, 7.4536, 7.460800000000001, 7.468, 7.4752, 7.4824, 7.4896, 7.4968, 7.5040000000000004, 7.5112000000000005, 7.5184, 7.525600000000001, 7.5328, 7.540000000000001, 7.5472, 7.5544, 7.5616, 7.5688, 7.5760000000000005, 7.5832, 7.590400000000001, 7.5976, 7.604800000000001, 7.612, 7.6192, 7.6264, 7.6336, 7.6408000000000005, 7.648, 7.655200000000001, 7.6624, 7.6696, 7.6768, 7.684, 7.6912, 7.6984, 7.7056000000000004, 7.7128000000000005, 7.720000000000001, 7.727200000000001, 7.734400000000001, 7.7416, 7.748800000000001, 7.756, 7.763200000000001, 7.7704, 7.7776, 7.784800000000001, 7.792, 7.799200000000001, 7.8064, 7.8136, 7.8208, 7.828, 7.8352, 7.8424000000000005, 7.849600000000001, 7.856800000000001, 7.864000000000001, 7.8712, 7.878400000000001, 7.8856, 7.8928], \"xaxis\": \"x\", \"y\": [0.09754661617974536, 0.09992265666395446, 0.10233064876655658, 0.10477041405145884, 0.10724175940920914, 0.10974447652329382, 0.11227834129081331, 0.1148431131979171, 0.11743853465073982, 0.12006433026291603, 0.12272020610113622, 0.1254058488905683, 0.12812092518234489, 0.13086508048571316, 0.13363793836780766, 0.13643909952440078, 0.1392681408253606, 0.14212461433891452, 0.145008046339184, 0.147917936301817, 0.15085375589286992, 0.15381494795642817, 0.15680092550675911, 0.15981107073108428, 0.1628447340092985, 0.16590123295725134, 0.16897985150035547, 0.17207983898453164, 0.17520040933160838, 0.1783407402464298, 0.18149997248301422, 0.184677209177136, 0.18787151525272314, 0.19108191690942594, 0.194307401198647, 0.19754691569518892, 0.2007993682715401, 0.2040636269816066, 0.2073385200604525, 0.210622836046327, 0.21391532403092434, 0.21721469404344193, 0.22051961757359972, 0.2238287282382987, 0.2271406225961333, 0.23045386111339794, 0.23376696928468085, 0.23707843891051888, 0.240386729533934, 0.2436902700370221, 0.2469874603980454, 0.2502766736087574, 0.2535562577509527, 0.2568245382304622, 0.26007982016602627, 0.2633203909297197, 0.26654452283474667, 0.26975047596571156, 0.2729365011455697, 0.2761008430327662, 0.27924174334121443, 0.2823574441750457, 0.285446191469278, 0.288506238526858, 0.2915358496417846, 0.29453330379741793, 0.29749689842837834, 0.30042495323389573, 0.3033158140299094, 0.3061678566267058, 0.30897949071845154, 0.31174916377057693, 0.3144753648906352, 0.31715662866797556, 0.31979153896739876, 0.32237873266175415, 0.32491690328844086, 0.3274048046147051, 0.3298412540967362, 0.33222513621768884, 0.3345554056899625, 0.33683109050738247, 0.3390512948332564, 0.34121520171073977, 0.3433220755824267, 0.345371264606678, 0.3473622027588239, 0.3492944117060935, 0.3511675024459184, 0.3529811766980432, 0.3547352280418297, 0.35642954279102773, 0.35806410059933597, 0.3596389747910564, 0.3611543324122913, 0.3626104339991984, 0.36400763306097733, 0.3653463752764657, 0.366627197404359, 0.3678507259083135, 0.3690176752993978, 0.3701288461995465, 0.37118512313090724, 0.3721874720371614, 0.37313693754405686, 0.37403463996758807, 0.37488177207935053, 0.37567959563970893, 0.3764294377104618, 0.3771326867596959, 0.37779078857247234, 0.37840524198188086, 0.37897759443584644, 0.3795094374158155, 0.38000240172415917, 0.38045815265777894, 0.3808783850858734, 0.38126481845038224, 0.3816191917079071, 0.38194325823228625, 0.3822387806971349, 0.3825075259578342, 0.3827512599524356, 0.38297174264091915, 0.38317072300205574, 0.3833499341069066, 0.3835110882876508, 0.3836558724200018, 0.38378594333700156, 0.3839029233913508, 0.3840083961828036, 0.3841039024664113, 0.3841909362565631, 0.38427094114089677, 0.38434530681724793, 0.38441536586572794, 0.38448239076703317, 0.3845475911769342, 0.3846121114657753, 0.3846770285306069, 0.3847433498863641, 0.38481201204127524, 0.384883879160399, 0.38495974201993427, 0.38504031725366167, 0.38512624689160363, 0.38521809818969327, 0.38531636374802697, 0.3854214619139832, 0.3855337374653184, 0.38565346256713123, 0.38578083799546503, 0.3859159946191925, 0.38605899513075864, 0.38620983601538794, 0.38636844974734585, 0.3865347072010097, 0.38670842026363855, 0.38688934463597735, 0.3870771828061441, 0.38727158718163435, 0.3874721633637026, 0.3876784735479684, 0.3878900400346545, 0.38810634883159273, 0.3883268533328922, 0.38855097805601657, 0.3887781224199786, 0.389007664547332, 0.3892389650727789, 0.3894713709413633, 0.3897042191794657, 0.38993684062216255, 0.39016856358088625, 0.3903987174357943, 0.3906266361377945, 0.3908516616057606, 0.39107314700513485, 0.3912904598948038, 0.3915029852299266, 0.3917101282091683, 0.3919113169556804, 0.3921060050220162, 0.39229367371013624, 0.39247383419858306, 0.3926460294698943, 0.39280983603231134, 0.39296486543086406, 0.3931107655439199, 0.393247221662326, 0.3933739573492771, 0.3934907350800935, 0.3935973566620684, 0.3936936634355859, 0.3937795362586412, 0.3938548952778977, 0.39391969949031375, 0.3939739461002912, 0.3940176696781583, 0.39405094112661915, 0.39407386646260967, 0.3940865854227243, 0.39408926990108933, 0.3940821222292008, 0.3940653733078302, 0.39403928060167975, 0.3940041260079109, 0.39396021361014066, 0.3939078673298482, 0.3938474284874646, 0.3937792532856679, 0.3937037102276026, 0.3936211774828808, 0.3935320402142952, 0.39343668787820024, 0.3933355115114643, 0.3932289010178132, 0.39311724246621704, 0.3930009154137719, 0.39288029026526167, 0.39275572568127576, 0.3926275660463907, 0.39249613900851615, 0.3923617531000579, 0.3922246954510353, 0.39208522960378905, 0.39194359343830265, 0.3917999972165894, 0.3916546217539549, 0.39150761672425993, 0.3913590991056679, 0.39120915177261334, 0.3910578222390318, 0.39090512155715473, 0.39075102337541306, 0.3905954631582687, 0.39043833757001517, 0.39027950402385403, 0.3901187803967986, 0.3899559449102177, 0.38979073617510973, 0.38962285340046465, 0.38945195676240685, 0.3892776679310923, 0.38909957075172685, 0.38891721207540214, 0.3887301027348779, 0.3885377186598592, 0.38833950212578316, 0.3881348631296291, 0.3879231808858203, 0.38770380543483907, 0.38747605935681884, 0.38723923958202405, 0.38699261928983647, 0.3867354498876148, 0.38646696306059225, 0.3861863728838007, 0.38589287798690597, 0.38558566376276204, 0.3852639046104657, 0.38492676620370425, 0.3845734077752627, 0.38420298440864453, 0.38381464932792353, 0.3834075561771075, 0.38298086128054515, 0.3825337258761434, 0.3820653183134756, 0.3815748162091844, 0.38106140855244114, 0.3805242977536172, 0.3799627016297297, 0.3793758553206686, 0.378763013130665, 0.3781234502899365, 0.37745646463193866, 0.37676137818214916, 0.37603753865482664, 0.3752843208546957, 0.3745011279810432, 0.3736873928322108, 0.3728425789090022, 0.37196618141602994, 0.3710577281605191, 0.3701167803485928, 0.36914293327952563, 0.36813581693891895, 0.36709509649220046, 0.3660204726802492, 0.3649116821193739, 0.36376849750821666, 0.36259072774452494, 0.3613782179550337, 0.36013084944199886, 0.35884853955017515, 0.3575312414582667, 0.3561789438990639, 0.35479167081264407, 0.3533694809371543, 0.35191246734177, 0.3504207569065198, 0.3488945097536544, 0.3473339186352948, 0.3457392082820125, 0.3441106347169702, 0.34244848454015914, 0.3407530741871367, 0.33902474916656117, 0.33726388328062334, 0.3354708778323263, 0.33364616082332943, 0.3317901861458671, 0.32990343277202755, 0.32798640394339423, 0.3260396263638256, 0.3240636493978605, 0.3220590442769666, 0.32002640331556026, 0.31796633913846656, 0.3158794839211778, 0.3137664886440153, 0.31162802236101, 0.3094647714840608, 0.3072774390826624, 0.305066744199257, 0.3028334211800231, 0.300578219020696, 0.2983019007268125, 0.2960052426875723, 0.293689034062362, 0.29135407617880416, 0.289001181941086, 0.28663117524720344, 0.2842448904136527, 0.2818431716060528, 0.279426872274101, 0.27699685458927303, 0.27455398888362026, 0.2720991530880756, 0.2696332321686707, 0.2671571175591335, 0.26467170658839256, 0.2621779019015906, 0.25967661087332555, 0.257168745011906, 0.25465521935358165, 0.2521369518457865, 0.2496148627186267, 0.24708987384394243, 0.24456290808148035, 0.2420348886118245, 0.23950673825593194, 0.23697937878126682, 0.23445373019468926, 0.2319307100224308, 0.2294112325776205, 0.22689620821601927, 0.2243865425807215, 0.22188313583675995, 0.2193868818966626, 0.21689866763814056, 0.21441937211518958, 0.2119498657639979, 0.20949100960513556, 0.20704365444357628, 0.2046086400681718, 0.2021867944522379, 0.19977893295696691, 0.1973858575393778, 0.19500835596655403, 0.19264720103790572, 0.19030314981716165, 0.18797694287580682, 0.1856693035496066, 0.1833809372098388, 0.18111253055077678, 0.17886475089491774, 0.17663824551736143, 0.17443364099067488, 0.17225154255148553, 0.1700925334899596, 0.16795717456322215, 0.16584600343368036, 0.16375953413312638, 0.16169825655336814, 0.15966263596408029, 0.1576531125584346, 0.15567010102700773, 0.1537139901603573, 0.15178514248058483, 0.14988389390212842, 0.14801055342194952, 0.1461654028392285, 0.14434869650461335, 0.14256066109903778, 0.14080149544206128, 0.1390713703296815, 0.13737042840152594, 0.1356987840373235, 0.13405652328255846, 0.1324437038031994, 0.13086035486942107, 0.1293064773682383, 0.12778204384501402, 0.12628699857381967, 0.1248212576566677, 0.12338470915167289, 0.12197721323025137, 0.12059860236349598, 0.11924868153792838, 0.11792722850087044, 0.11663399403571914, 0.11536870226746578, 0.11413105099882873, 0.11292071207742173, 0.11173733179439693, 0.11058053131504558, 0.10944990714184966, 0.10834503161048842, 0.10726545341931833, 0.10621069819282895, 0.10518026907956726, 0.10417364738499474, 0.10319029323970351, 0.1022296463033729, 0.10129112650477995, 0.10037413481811, 0.09947805407573032, 0.09860224981748461, 0.09774607117646886, 0.09690885180112246, 0.09608991081333834, 0.09528855380216197, 0.09450407385248942, 0.09373575260802446, 0.09298286136758403, 0.09224466221366695, 0.09152040917202783, 0.0908093494008069, 0.09011072440758677, 0.08942377129255412, 0.08874772401575949, 0.0880818146862753, 0.08742527487087101, 0.08677733691964243, 0.0861372353058505, 0.08550420797706232, 0.08487749771452026, 0.08425635349751599, 0.08364003186940094, 0.08302779830174437, 0.08241892855302266, 0.08181271001813571, 0.08120844306494972, 0.08060544235400578, 0.08000303813747846, 0.07940057753343652, 0.07879742577144715, 0.07819296740556549, 0.07758660749078496, 0.07697777271906012, 0.07636591251108965, 0.07575050006012546, 0.0751310333241844, 0.07450703596316569, 0.07387805821751738, 0.07324367772526738, 0.0726035002744077, 0.07195716048782835, 0.0713043224382061, 0.07064468019048815, 0.06997795826985548, 0.06930391205330592, 0.06862232808326944, 0.06793302430194517, 0.06723585020533854, 0.0665306869162724, 0.06581744717594595, 0.06509607525391792, 0.06436654677670252, 0.06362886847546553, 0.06288307785362254, 0.06212924277543697, 0.061367460977020616, 0.060597859501429034, 0.059820594059828334, 0.05903584832099146, 0.0582438331316408, 0.057444785670415915, 0.056638968538478676, 0.05582666879000004, 0.0550081969059826, 0.054183885715066146, 0.0533540892651425, 0.05251918164976741, 0.05167955579349238, 0.05083562220036588, 0.04998780766995418, 0.049136553985308494], \"yaxis\": \"y\"}, {\"legendgroup\": \"sepal width (cm)\", \"marker\": {\"color\": \"rgb(255, 127, 14)\"}, \"mode\": \"lines\", \"name\": \"sepal width (cm)\", \"showlegend\": false, \"type\": \"scatter\", \"x\": [2.0, 2.0048, 2.0096, 2.0144, 2.0192, 2.024, 2.0288, 2.0336, 2.0384, 2.0432, 2.048, 2.0528, 2.0576, 2.0624, 2.0672, 2.072, 2.0768, 2.0816, 2.0864, 2.0912, 2.096, 2.1008, 2.1056, 2.1104, 2.1152, 2.12, 2.1248, 2.1296, 2.1344, 2.1392, 2.144, 2.1488, 2.1536, 2.1584, 2.1632, 2.168, 2.1728, 2.1776, 2.1824, 2.1872, 2.192, 2.1968, 2.2016, 2.2064, 2.2112, 2.216, 2.2208, 2.2256, 2.2304, 2.2352, 2.24, 2.2448, 2.2496, 2.2544, 2.2592, 2.2640000000000002, 2.2688, 2.2736, 2.2784, 2.2832, 2.2880000000000003, 2.2928, 2.2976, 2.3024, 2.3072, 2.3120000000000003, 2.3168, 2.3216, 2.3264, 2.3312, 2.3360000000000003, 2.3408, 2.3456, 2.3504, 2.3552, 2.36, 2.3648000000000002, 2.3696, 2.3744, 2.3792, 2.384, 2.3888000000000003, 2.3936, 2.3984, 2.4032, 2.408, 2.4128, 2.4176, 2.4224, 2.4272, 2.432, 2.4368, 2.4416, 2.4464, 2.4512, 2.456, 2.4608, 2.4656000000000002, 2.4704, 2.4752, 2.48, 2.4848, 2.4896000000000003, 2.4944, 2.4992, 2.504, 2.5088, 2.5136000000000003, 2.5184, 2.5232, 2.528, 2.5328, 2.5376000000000003, 2.5424, 2.5472, 2.552, 2.5568, 2.5616000000000003, 2.5664000000000002, 2.5712, 2.576, 2.5808, 2.5856000000000003, 2.5904, 2.5952, 2.6, 2.6048, 2.6096000000000004, 2.6144, 2.6192, 2.624, 2.6288, 2.6336000000000004, 2.6384, 2.6432, 2.648, 2.6528, 2.6576000000000004, 2.6624, 2.6672000000000002, 2.672, 2.6768, 2.6816, 2.6864, 2.6912000000000003, 2.696, 2.7008, 2.7056, 2.7104, 2.7152000000000003, 2.72, 2.7248, 2.7296, 2.7344, 2.7392000000000003, 2.744, 2.7488, 2.7536, 2.7584, 2.7632000000000003, 2.7680000000000002, 2.7728, 2.7776, 2.7824, 2.7872000000000003, 2.7920000000000003, 2.7968, 2.8016, 2.8064, 2.8112000000000004, 2.816, 2.8208, 2.8256, 2.8304, 2.8352000000000004, 2.84, 2.8448, 2.8496, 2.8544, 2.8592000000000004, 2.864, 2.8688000000000002, 2.8736, 2.8784, 2.8832000000000004, 2.888, 2.8928000000000003, 2.8976, 2.9024, 2.9072, 2.912, 2.9168000000000003, 2.9216, 2.9264, 2.9312, 2.936, 2.9408000000000003, 2.9456, 2.9504, 2.9552, 2.96, 2.9648000000000003, 2.9696000000000002, 2.9744, 2.9792, 2.984, 2.9888000000000003, 2.9936000000000003, 2.9984, 3.0032, 3.008, 3.0128000000000004, 3.0176, 3.0224, 3.0272, 3.032, 3.0368000000000004, 3.0416, 3.0464, 3.0512, 3.056, 3.0608000000000004, 3.0656, 3.0704000000000002, 3.0752000000000006, 3.08, 3.0848000000000004, 3.0896, 3.0944000000000003, 3.0992, 3.104, 3.1088000000000005, 3.1136, 3.1184000000000003, 3.1232, 3.128, 3.1328000000000005, 3.1376, 3.1424000000000003, 3.1472, 3.152, 3.1568000000000005, 3.1616, 3.1664000000000003, 3.1712000000000002, 3.176, 3.1808, 3.1856, 3.1904000000000003, 3.1952000000000003, 3.2, 3.2048, 3.2096, 3.2144000000000004, 3.2192000000000003, 3.224, 3.2288, 3.2336, 3.2384000000000004, 3.2432000000000003, 3.248, 3.2528, 3.2576, 3.2624000000000004, 3.2672000000000003, 3.2720000000000002, 3.2768, 3.2816, 3.2864, 3.2912000000000003, 3.2960000000000003, 3.3008, 3.3056, 3.3104, 3.3152000000000004, 3.3200000000000003, 3.3248, 3.3296, 3.3344, 3.3392, 3.3440000000000003, 3.3488, 3.3536, 3.3584, 3.3632, 3.3680000000000003, 3.3728000000000002, 3.3776, 3.3824, 3.3872, 3.3920000000000003, 3.3968000000000003, 3.4016, 3.4064000000000005, 3.4112, 3.4160000000000004, 3.4208000000000003, 3.4256, 3.4304000000000006, 3.4352, 3.4400000000000004, 3.4448, 3.4496, 3.4544000000000006, 3.4592, 3.4640000000000004, 3.4688, 3.4736000000000002, 3.4784000000000006, 3.4832, 3.4880000000000004, 3.4928, 3.4976000000000003, 3.5024000000000006, 3.5072, 3.5120000000000005, 3.5168, 3.5216000000000003, 3.5264000000000006, 3.5312, 3.5360000000000005, 3.5408, 3.5456000000000003, 3.5504000000000002, 3.5552, 3.5600000000000005, 3.5648, 3.5696000000000003, 3.5744000000000002, 3.5792, 3.5840000000000005, 3.5888, 3.5936000000000003, 3.5984000000000003, 3.6032, 3.6080000000000005, 3.6128, 3.6176000000000004, 3.6224000000000003, 3.6272, 3.632, 3.6368, 3.6416000000000004, 3.6464000000000003, 3.6512000000000002, 3.656, 3.6608, 3.6656000000000004, 3.6704000000000003, 3.6752000000000002, 3.68, 3.6848, 3.6896000000000004, 3.6944000000000004, 3.6992000000000003, 3.704, 3.7088, 3.7136000000000005, 3.7184000000000004, 3.7232000000000003, 3.728, 3.7328, 3.7376000000000005, 3.7424000000000004, 3.7472000000000003, 3.7520000000000002, 3.7568, 3.7616000000000005, 3.7664000000000004, 3.7712000000000003, 3.7760000000000002, 3.7808, 3.7856000000000005, 3.7904, 3.7952000000000004, 3.8000000000000003, 3.8048, 3.8096000000000005, 3.8144, 3.8192000000000004, 3.8240000000000003, 3.8288, 3.8336000000000006, 3.8384, 3.8432000000000004, 3.8480000000000003, 3.8528000000000002, 3.8576000000000006, 3.8624, 3.8672000000000004, 3.8720000000000003, 3.8768000000000002, 3.8816000000000006, 3.8864, 3.8912000000000004, 3.896, 3.9008000000000003, 3.9056000000000006, 3.9104, 3.9152000000000005, 3.92, 3.9248000000000003, 3.9296000000000006, 3.9344, 3.9392000000000005, 3.944, 3.9488000000000003, 3.9536000000000007, 3.9584, 3.9632000000000005, 3.968, 3.9728000000000003, 3.9776000000000007, 3.9824, 3.9872000000000005, 3.992, 3.9968000000000004, 4.0016, 4.0064, 4.0112000000000005, 4.016, 4.0208, 4.025600000000001, 4.0304, 4.0352, 4.04, 4.0448, 4.0496, 4.0544, 4.059200000000001, 4.064, 4.0687999999999995, 4.073600000000001, 4.0784, 4.0832, 4.088000000000001, 4.0928, 4.0976, 4.1024, 4.107200000000001, 4.112, 4.1168, 4.121600000000001, 4.1264, 4.1312, 4.136000000000001, 4.1408000000000005, 4.1456, 4.150400000000001, 4.155200000000001, 4.16, 4.1648, 4.169600000000001, 4.1744, 4.1792, 4.184000000000001, 4.1888000000000005, 4.1936, 4.1984, 4.203200000000001, 4.208, 4.2128, 4.217600000000001, 4.2224, 4.2272, 4.232000000000001, 4.236800000000001, 4.2416, 4.2464, 4.251200000000001, 4.256, 4.2608, 4.265600000000001, 4.2704, 4.2752, 4.28, 4.284800000000001, 4.2896, 4.2944, 4.299200000000001, 4.304, 4.3088, 4.313600000000001, 4.3184000000000005, 4.3232, 4.328, 4.332800000000001, 4.3376, 4.3424000000000005, 4.347200000000001, 4.352, 4.3568, 4.3616, 4.3664000000000005, 4.3712, 4.376, 4.380800000000001, 4.3856, 4.3904000000000005, 4.395200000000001], \"xaxis\": \"x\", \"y\": [0.05420296601062286, 0.055993570238824494, 0.057826411524360154, 0.05970178583630784, 0.061619949267240265, 0.06358111605290917, 0.06558545672007884, 0.06763309638000826, 0.06972411318451416, 0.07185853696079082, 0.0740363480402566, 0.0762574762955965, 0.078521800398926, 0.08082914731260103, 0.08317929202264308, 0.08557195752308312, 0.08800681505772254, 0.09048348462391784, 0.09300153574101525, 0.09556048848401713, 0.09815981478096221, 0.10079893997039899, 0.10347724461318941, 0.10619406655080085, 0.1089487032001584, 0.1117404140731503, 0.11456842350694776, 0.11743192358950011, 0.12033007726288383, 0.1232620215856406, 0.12622687113388245, 0.12922372151974004, 0.13225165300474478, 0.13530973418495337, 0.1383970257240576, 0.14151258411039622, 0.14465546541368118, 0.14782472901739718, 0.15101944130320935, 0.1542386792643318, 0.1574815340256591, 0.16074711424952887, 0.16403454940728288, 0.16734299289825633, 0.17067162499952038, 0.17401965563152025, 0.1773863269267382, 0.18077091559062541, 0.1841727350462319, 0.1875911373562661, 0.19102551491862105, 0.19447530193376578, 0.19793997564473048, 0.20141905735271695, 0.20491211321360417, 0.2084187548227625, 0.21193863959762066, 0.21547147096930028, 0.21901699839637306, 0.22257501721528122, 0.22614536834331966, 0.2297279378511384, 0.23332265642258132, 0.23692949872028018, 0.24054848267574178, 0.24417966872274746, 0.24782315899268273, 0.2514790964899479, 0.2551476642648705, 0.25882908460057813, 0.2625236182290556, 0.2662315635901778, 0.2699532561458683, 0.2736890677596869, 0.27743940615016577, 0.28120471442408934, 0.28498547069367614, 0.2887821877793013, 0.2925954129970769, 0.29642572802818795, 0.3002737488645978, 0.30414012582338595, 0.30802554361981277, 0.31193072148708856, 0.31585641332889347, 0.31980340788890516, 0.32377252892004305, 0.32776463533476524, 0.3317806213166761, 0.33582141637284657, 0.3398879853056944, 0.34398132808300147, 0.34810247958465973, 0.35225250920505713, 0.3564325202906251, 0.3606436493929858, 0.3648870653192976, 0.3691639679628676, 0.3734755868987947, 0.3778231797313329, 0.38220803018179605, 0.386631445908136, 0.39109475604979527, 0.39559930849397523, 0.40014646686214667, 0.40473760721829755, 0.40937411450313044, 0.4140573787010856, 0.41878879074968417, 0.42356973820319244, 0.4284016006649615, 0.43328574500502526, 0.43822352038152, 0.4432162530862752, 0.4482652412364541, 0.4533717493353426, 0.4585370027263898, 0.4637621819652228, 0.4690484171347238, 0.4743967821282787, 0.4798082889260483, 0.48528388188848026, 0.49082443209044657, 0.4964307317181917, 0.5021034885498843, 0.5078433205388588, 0.5136507505168464, 0.5195262010323807, 0.5254699893374468, 0.5314823225331634, 0.5375632928829237, 0.543712873299144, 0.549930913007404, 0.5562171333895347, 0.5625711240051227, 0.5689923387888742, 0.5754800924195821, 0.5820335568548595, 0.588651758024585, 0.5953335726750553, 0.6020777253551917, 0.6088827855359399, 0.6157471648540779, 0.6226691144721425, 0.629646722547106, 0.6366779118016717, 0.6437604371937513, 0.6508918836816755, 0.6580696640851053, 0.6652910170442925, 0.6725530050833116, 0.679852512786154, 0.6871862450979898, 0.6945507257675385, 0.701942295950152, 0.7093571129950013, 0.7167911494434934, 0.7242401922696664, 0.7316998423968719, 0.7391655145283271, 0.7466324373321851, 0.754095654024448, 0.7615500233953496, 0.7689902213266878, 0.7764107428489447, 0.7838059047877248, 0.7911698490493315, 0.7984965465947093, 0.805779802149906, 0.8130132596993557, 0.8201904088056965, 0.8273045917966203, 0.8343490118552224, 0.8413167420456718, 0.8482007353006487, 0.8549938353909731, 0.8616887888912936, 0.8682782581484196, 0.8747548352513347, 0.8811110569937183, 0.8873394208113617, 0.8934324016681101, 0.8993824698549596, 0.905182109657918, 0.9108238388410624, 0.9163002288822703, 0.921603925890215, 0.9267276721226112, 0.9316643280175345, 0.9364068946417977, 0.9409485364532214, 0.9452826042670266, 0.9494026583106914, 0.9533024912466271, 0.9569761510377177, 0.9604179635275574, 0.9636225546048769, 0.9665848718203273, 0.9693002053235631, 0.9717642079893188, 0.973972914603088, 0.9759227599799389, 0.9776105958939855, 0.9790337067010773, 0.980189823543349, 0.9810771370311757, 0.9816943083060735, 0.9820404783967465, 0.982115275790058, 0.9819188221488137, 0.98145173611916, 0.9807151351815988, 0.9797106355114837, 0.9784403498267854, 0.9769068832133109, 0.9751133269298973, 0.9730632502084849, 0.9707606900763489, 0.9682101392398457, 0.9654165320809311, 0.9623852288290897, 0.9591219979824069, 0.9556329970618904, 0.9519247517930195, 0.9480041338176254, 0.9438783370475496, 0.9395548527791665, 0.9350414436945036, 0.9303461168805671, 0.9254770960033922, 0.9204427927772736, 0.9152517778727257, 0.9099127514087498, 0.9044345131761458, 0.8988259327388116, 0.8930959195592661, 0.8872533932930411, 0.8813072543941709, 0.8752663551706945, 0.8691394714251782, 0.8629352748103698, 0.8566623060248434, 0.8503289489673085, 0.8439434059617795, 0.8375136741586318, 0.8310475232090148, 0.8245524743022152, 0.8180357806471893, 0.8115044094710501, 0.8049650255984077, 0.7984239766666372, 0.7918872800230216, 0.7853606113406558, 0.7788492949808938, 0.7723582961209676, 0.765892214656491, 0.7594552808796008, 0.7530513529247949, 0.7466839159659484, 0.7403560831397269, 0.7340705981624668, 0.7278298395999153, 0.7216358267416514, 0.7154902270249764, 0.7093943649461629, 0.7033492323906755, 0.6973555003078785, 0.6914135316501856, 0.685523395491472, 0.6796848822348002, 0.6738975198153119, 0.6681605908003281, 0.6624731502853907, 0.6568340444822321, 0.6512419298922897, 0.6456952929576676, 0.6401924700801459, 0.6347316678981104, 0.6293109837110842, 0.6239284259418593, 0.6185819345270779, 0.6132694011285241, 0.6079886890592954, 0.60273765282146, 0.597514157154801, 0.5923160954996189, 0.5871414077806533, 0.5819880974234566, 0.5768542475195497, 0.5717380360619256, 0.5666377501782514, 0.5615517992951486, 0.5564787271734216, 0.551417222760904, 0.5463661298165708, 0.5413244552668932, 0.5362913762629458, 0.5312662459143609, 0.5262485976840638, 0.5212381484355493, 0.5162348001323065, 0.511238640196943, 0.5062499405452301, 0.501269155318035, 0.4962969173416399, 0.4913340333541485, 0.4863814780428471, 0.48144038694402475, 0.4765120482632615, 0.47159789368015753, 0.46669948820709395, 0.4618185191768173, 0.4569567844382463, 0.4521161798441188, 0.4472986861176841, 0.44250635518873593, 0.4377412960917288, 0.43300566052067896, 0.4283016281367907, 0.4236313917254908, 0.4189971422996176, 0.41440105424500584, 0.4098452706036134, 0.4053318885876266, 0.4008629454157307, 0.39644040455992446, 0.39206614248790167, 0.3877419359821965, 0.38346945011295547, 0.3792502269364327, 0.3750856749861554, 0.37097705961812105, 0.36692549426551807, 0.3629319326523173, 0.35899716200856324, 0.3551217973236534, 0.3513062766669873, 0.3475508575984939, 0.34385561468451, 0.3402204381274233, 0.3366450335104882, 0.33312892265221805, 0.3296714455578796, 0.32627176344889874, 0.3229288628443962, 0.3196415606627664, 0.3164085103051177, 0.313228208676636, 0.3100990040964655, 0.30701910504161256, 0.30398658966572034, 0.30099941602922553, 0.2980554329736183, 0.29515239156912754, 0.29228795706225325, 0.28945972124718244, 0.28666521518319926, 0.28390192217883053, 0.28116729096258775, 0.27845874895983524, 0.2757737155954299, 0.2731096155425142, 0.2704638918389875, 0.2678340187948431, 0.2652175146157164, 0.2626119536706049, 0.2600149783347141, 0.25742431034187574, 0.2548377615847995, 0.2522532443055999, 0.24966878062359413, 0.24708251135211587, 0.24449270406122361, 0.24189776034840788, 0.23929622228490632, 0.23668677801082122, 0.2340682664579761, 0.23143968118518674, 0.2288001733164567, 0.2261490535783546, 0.2234857934385968, 0.22081002535342642, 0.21812154213693508, 0.21542029547074862, 0.212706393577627, 0.2099800980874172, 0.20724182012837827, 0.20449211568121353, 0.20173168023713306, 0.19896134280488514, 0.19618205931496113, 0.1933949054720534, 0.1906010691093183, 0.18780184210005788, 0.1849986118840566, 0.18219285266706334, 0.1793861163526435, 0.1765800232660473, 0.17377625272964284, 0.1709765335490242, 0.16818263446804782, 0.1653963546497777, 0.1626195142387442, 0.159853945057944, 0.15710148149171668, 0.1543639516030851, 0.15164316853124327, 0.14894092221181643, 0.14625897145915115, 0.1435990364464181, 0.14096279161562944, 0.1383518590458661, 0.13576780230414864, 0.13321212079942285, 0.1306862446561392, 0.12819153011996698, 0.12572925550417552, 0.12330061768140053, 0.12090672912163186, 0.11854861547365428, 0.1162272136835623, 0.1139433706406241, 0.11169784233755783, 0.10949129352929589, 0.10732429787151275, 0.1051973385176998, 0.10311080915121654, 0.10106501542677501, 0.09906017679399083, 0.09709642867418376, 0.09517382496034865, 0.09329234080929236, 0.09145187569425747, 0.0896522566859304, 0.08789324192960712, 0.08617452428639859, 0.08449573510672422, 0.08285644810491988, 0.08125618330463127, 0.07969441102567348, 0.07817055588424868, 0.07668400077982268, 0.07523409084349807, 0.07382013732441503, 0.07244142139250229, 0.07109719783783303, 0.06978669864879727, 0.06850913645335634, 0.06726370780973695, 0.06604959633500863, 0.06486597566210138, 0.06371201221790104, 0.06258686781711047, 0.061489702068557, 0.060419674592546886, 0.059375947049723876, 0.05835768498360745, 0.057364059480640765, 0.05639424865306709, 0.0554474389513493, 0.05452282631406445, 0.05361961716431502, 0.052737029262621485, 0.05187429242705735, 0.05103064913200017, 0.0502053549973546, 0.04939767918040991, 0.04860690468264448, 0.047832328583818216, 0.04707326221554069, 0.0463290312862369, 0.04559897596903164, 0.0448824509635477, 0.04417882554198297, 0.0434874835890904, 0.04280782364487351, 0.04213925895790711, 0.041481217556228286, 0.040833142341741416, 0.040194491213022474, 0.03956473722034382, 0.03894336875564986, 0.038329889779142645, 0.0377238200830628, 0.03712469559221474, 0.036532068699789595, 0.03594550863608171, 0.035364601866808454, 0.03478895251691888, 0.03421818281503319, 0.033651933552989836, 0.03308986455440967, 0.032531655145709236, 0.03197700462261581, 0.03142563270496285, 0.0308772799723683, 0.030331708273329348, 0.029788701100295426, 0.029248063923410852, 0.028709624475847878], \"yaxis\": \"y\"}, {\"legendgroup\": \"petal length (cm)\", \"marker\": {\"color\": \"rgb(44, 160, 44)\"}, \"mode\": \"lines\", \"name\": \"petal length (cm)\", \"showlegend\": false, \"type\": \"scatter\", \"x\": [1.0, 1.0118, 1.0236, 1.0354, 1.0472, 1.059, 1.0708, 1.0826, 1.0944, 1.1062, 1.1179999999999999, 1.1298, 1.1416, 1.1534, 1.1652, 1.177, 1.1888, 1.2006000000000001, 1.2124, 1.2242, 1.236, 1.2478, 1.2596, 1.2714, 1.2832000000000001, 1.295, 1.3068, 1.3186, 1.3304, 1.3422, 1.354, 1.3658000000000001, 1.3776000000000002, 1.3894, 1.4012, 1.413, 1.4248, 1.4366, 1.4484, 1.4602, 1.472, 1.4838, 1.4956, 1.5074, 1.5192, 1.5310000000000001, 1.5428000000000002, 1.5546, 1.5664000000000002, 1.5782, 1.5899999999999999, 1.6018000000000001, 1.6136, 1.6254, 1.6372, 1.649, 1.6608, 1.6726, 1.6844000000000001, 1.6962000000000002, 1.708, 1.7198000000000002, 1.7316, 1.7434, 1.7552, 1.767, 1.7788, 1.7906, 1.8024, 1.8142, 1.826, 1.8378, 1.8496000000000001, 1.8614000000000002, 1.8732000000000002, 1.885, 1.8968, 1.9086, 1.9204, 1.9322, 1.944, 1.9558, 1.9676, 1.9794, 1.9912, 2.003, 2.0148, 2.0266, 2.0384, 2.0502000000000002, 2.0620000000000003, 2.0738, 2.0856000000000003, 2.0974000000000004, 2.1092, 2.121, 2.1328000000000005, 2.1446, 2.1564, 2.1682, 2.1799999999999997, 2.1918, 2.2036000000000002, 2.2154, 2.2272, 2.239, 2.2508, 2.2626, 2.2744, 2.2862, 2.298, 2.3098, 2.3216, 2.3334, 2.3452, 2.357, 2.3688000000000002, 2.3806000000000003, 2.3924000000000003, 2.4042000000000003, 2.416, 2.4278000000000004, 2.4396000000000004, 2.4514, 2.4632, 2.475, 2.4868, 2.4986, 2.5104, 2.5221999999999998, 2.534, 2.5458000000000003, 2.5576, 2.5694, 2.5812, 2.593, 2.6048, 2.6166, 2.6284, 2.6402, 2.652, 2.6638, 2.6756, 2.6874000000000002, 2.6992000000000003, 2.7110000000000003, 2.7228000000000003, 2.7346000000000004, 2.7464000000000004, 2.7582, 2.77, 2.7818000000000005, 2.7936, 2.8054, 2.8172, 2.8289999999999997, 2.8408, 2.8526000000000002, 2.8644, 2.8762, 2.888, 2.8998, 2.9116, 2.9234, 2.9352, 2.947, 2.9588, 2.9706, 2.9824, 2.9942, 3.0060000000000002, 3.0178000000000003, 3.0296000000000003, 3.0414, 3.0532000000000004, 3.065, 3.0768, 3.0886, 3.1004, 3.1122, 3.124, 3.1358, 3.1475999999999997, 3.1594, 3.1712000000000002, 3.183, 3.1948000000000003, 3.2066, 3.2184, 3.2302000000000004, 3.242, 3.2538, 3.2656000000000005, 3.2774, 3.2892, 3.301, 3.3128, 3.3246, 3.3364000000000003, 3.3482000000000003, 3.36, 3.3718000000000004, 3.3836000000000004, 3.3954, 3.4072000000000005, 3.419, 3.4308, 3.4426000000000005, 3.4544, 3.4662, 3.478, 3.4898000000000002, 3.5016000000000003, 3.5134000000000003, 3.5252000000000003, 3.537, 3.5488000000000004, 3.5606000000000004, 3.5724, 3.5842, 3.596, 3.6078, 3.6196, 3.6314, 3.6432, 3.655, 3.6668000000000003, 3.6786000000000003, 3.6904, 3.7022000000000004, 3.714, 3.7258, 3.7376000000000005, 3.7494, 3.7612, 3.773, 3.7848, 3.7966, 3.8084000000000002, 3.8202000000000003, 3.832, 3.8438000000000003, 3.8556000000000004, 3.8674, 3.8792000000000004, 3.891, 3.9028, 3.9146000000000005, 3.9264, 3.9382, 3.95, 3.9618, 3.9736000000000002, 3.9854000000000003, 3.9972000000000003, 4.009, 4.0208, 4.0326, 4.0443999999999996, 4.0562000000000005, 4.068, 4.0798000000000005, 4.091600000000001, 4.103400000000001, 4.1152, 4.127, 4.1388, 4.150600000000001, 4.1624, 4.174200000000001, 4.186, 4.1978, 4.2096, 4.2214, 4.2332, 4.245, 4.2568, 4.2686, 4.2804, 4.2922, 4.304, 4.3158, 4.3276, 4.3393999999999995, 4.3512, 4.3629999999999995, 4.3748000000000005, 4.3866000000000005, 4.3984000000000005, 4.4102, 4.422000000000001, 4.4338, 4.445600000000001, 4.4574, 4.469200000000001, 4.481, 4.492800000000001, 4.5046, 4.5164, 4.5282, 4.54, 4.5518, 4.563600000000001, 4.5754, 4.5872, 4.599, 4.6108, 4.6226, 4.6344, 4.6462, 4.6579999999999995, 4.6698, 4.6816, 4.6934000000000005, 4.7052000000000005, 4.7170000000000005, 4.7288, 4.740600000000001, 4.7524, 4.764200000000001, 4.776, 4.787800000000001, 4.7996, 4.8114, 4.8232, 4.835000000000001, 4.8468, 4.858600000000001, 4.8704, 4.8822, 4.894, 4.9058, 4.9176, 4.9294, 4.9412, 4.953, 4.9648, 4.9766, 4.9884, 5.0002, 5.0120000000000005, 5.0238000000000005, 5.0356000000000005, 5.0474, 5.059200000000001, 5.071000000000001, 5.0828, 5.094600000000001, 5.106400000000001, 5.1182, 5.13, 5.1418, 5.1536, 5.165400000000001, 5.1772, 5.189, 5.2008, 5.2126, 5.2244, 5.2362, 5.248, 5.2598, 5.2716, 5.2834, 5.2951999999999995, 5.307, 5.3188, 5.3306000000000004, 5.3424000000000005, 5.3542, 5.366, 5.377800000000001, 5.389600000000001, 5.401400000000001, 5.4132, 5.425, 5.4368, 5.448600000000001, 5.460400000000001, 5.4722, 5.484, 5.4958, 5.5076, 5.519400000000001, 5.531200000000001, 5.543, 5.5548, 5.5666, 5.5784, 5.590200000000001, 5.602, 5.6138, 5.6256, 5.6374, 5.6492, 5.661, 5.6728000000000005, 5.6846000000000005, 5.696400000000001, 5.708200000000001, 5.72, 5.7318, 5.743600000000001, 5.755400000000001, 5.767200000000001, 5.779, 5.7908, 5.8026, 5.814400000000001, 5.826200000000001, 5.838, 5.8498, 5.8616, 5.8734, 5.885200000000001, 5.897, 5.9088, 5.9206, 5.9324, 5.9442, 5.956, 5.9678, 5.9796000000000005, 5.9914000000000005, 6.0032000000000005, 6.015, 6.026800000000001, 6.038600000000001, 6.050400000000001, 6.062200000000001, 6.074, 6.0858, 6.097600000000001, 6.109400000000001, 6.121200000000001, 6.133, 6.1448, 6.1566, 6.1684, 6.180200000000001, 6.192, 6.2038, 6.2156, 6.2274, 6.2392, 6.251, 6.2628, 6.2746, 6.2864, 6.2982000000000005, 6.31, 6.3218000000000005, 6.333600000000001, 6.345400000000001, 6.357200000000001, 6.369, 6.3808, 6.392600000000001, 6.404400000000001, 6.416200000000001, 6.428, 6.4398, 6.4516, 6.463400000000001, 6.475200000000001, 6.487, 6.4988, 6.5106, 6.5224, 6.534200000000001, 6.546, 6.5578, 6.5696, 6.5814, 6.5932, 6.605, 6.6168000000000005, 6.6286000000000005, 6.6404000000000005, 6.652200000000001, 6.664, 6.675800000000001, 6.687600000000001, 6.699400000000001, 6.711200000000001, 6.723, 6.7348, 6.7466, 6.758400000000001, 6.770200000000001, 6.782, 6.7938, 6.8056, 6.8174, 6.829200000000001, 6.841, 6.8528, 6.8646, 6.8764, 6.8882], \"xaxis\": \"x\", \"y\": [0.15657503114608065, 0.15846568804050895, 0.160329542074879, 0.162165124607243, 0.16397097706745686, 0.16574565292356627, 0.16748771965249692, 0.16919576071143275, 0.17086837750619316, 0.17250419135293038, 0.17410184542940124, 0.17566000671207915, 0.1771773678953742, 0.17865264928920116, 0.18008460069117613, 0.18147200322975057, 0.18281367117458852, 0.1841084537105766, 0.18535523667187856, 0.18655294423252428, 0.18770054055008042, 0.1887970313590361, 0.18984146551062944, 0.19083293645591987, 0.19177058366904043, 0.192653594007657, 0.19348120300779478, 0.19425269611031812, 0.19496740981648517, 0.19562473277014333, 0.19622410676428542, 0.1967650276698323, 0.19724704628468379, 0.1976697691012396, 0.1980328589907627, 0.19833603580313716, 0.19857907688076123, 0.198761817485483, 0.19888415113769514, 0.1989460298668725, 0.19894746437305247, 0.1988885240989261, 0.19876933721242446, 0.1985900904998616, 0.1983510291699027, 0.19805245656880682, 0.19769473380760097, 0.19727827930201072, 0.19680356822618628, 0.19627113188142273, 0.1956815569812739, 0.1950354848546186, 0.19433361056843412, 0.19357668197216668, 0.19276549866579018, 0.1919009108937659, 0.19098381836729178, 0.1900151690173544, 0.18899595768125077, 0.18792722472536533, 0.18681005460711156, 0.18564557437906257, 0.18443495213840563, 0.18317939542494194, 0.18188014957094814, 0.1805384960063002, 0.17915575052232025, 0.17773326149787527, 0.17627240809130904, 0.1747745984018274, 0.1732412676039949, 0.17167387605901654, 0.1700739074065133, 0.16844286664046682, 0.16678227817306066, 0.16509368389006618, 0.16337864120146356, 0.16163872109090419, 0.15987550616762203, 0.15809058872431672, 0.1562855688045106, 0.1544620522827856, 0.1526216489612563, 0.1507659706855434, 0.148896629483427, 0.14701523572927286, 0.14512339633721144, 0.14322271298595718, 0.1413147803780319, 0.13940118453605005, 0.13748350113858987, 0.13556329389805735, 0.13364211298281706, 0.13172149348572157, 0.1298029539410507, 0.12788799489171018, 0.1259780975084166, 0.12407472226243695, 0.12217930765331127, 0.12029326899283985, 0.11841799724646694, 0.11655485793304249, 0.11470519008380692, 0.11287030526127609, 0.1110514866385849, 0.10924998813967486, 0.10746703364059221, 0.10570381623200585, 0.1039614975429231, 0.10224120712544855, 0.10054404190029033, 0.0988710656625971, 0.09722330864758162, 0.09560176715526346, 0.09400740323354947, 0.09244114441875627, 0.09090388353257277, 0.08939647853435848, 0.08791975242757194, 0.08647449321903677, 0.08506145392966069, 0.08368135265514541, 0.08233487267514658, 0.08102266260927314, 0.07974533661825328, 0.0785034746485316, 0.07729762271851247, 0.07612829324461563, 0.07499596540527034, 0.07390108554093572, 0.0728440675882103, 0.07182529354606465, 0.07084511397221496, 0.06990384850764267, 0.06900178642725692, 0.06813918721469385, 0.06731628115925097, 0.06653326997296227, 0.06579032742583113, 0.065087599997259, 0.06442520754172439, 0.06380324396679947, 0.06322177792161754, 0.06268085349393956, 0.06218049091400961, 0.06172068726342654, 0.06130141718730711, 0.06092263360806368, 0.06058426843917064, 0.060286233297346545, 0.06002842021163821, 0.05981070232794906, 0.0596329346076151, 0.05949495451869682, 0.05939658271871634, 0.059337623727636436, 0.059317866589944104, 0.059337085524770676, 0.05939504056304556, 0.05949147817075311, 0.059626131857429175, 0.059798722769104834, 0.06000896026497234, 0.060256542477120104, 0.06054115685274949, 0.06086248067835707, 0.06122018158543164, 0.061613918037282944, 0.06204333979668352, 0.0625080883740718, 0.06300779745612416, 0.06354209331457066, 0.06411059519518127, 0.06471291568691798, 0.06534866107129604, 0.06601743165205773, 0.06671882206531299, 0.06745242157035201, 0.06821781432138692, 0.06901457962051956, 0.06984229215228561, 0.07070052220016, 0.07158883584545304, 0.07250679514906329, 0.07345395831658669, 0.07442987984731796, 0.07543411066770707, 0.07646619824986407, 0.07752568671573176, 0.07861211692756587, 0.07972502656538848, 0.08086395019209368, 0.08202841930690608, 0.08321796238790106, 0.08443210492431498, 0.08567036943937345, 0.08693227550438397, 0.08821733974483442, 0.08952507583924982, 0.09085499451155594, 0.09220660351769887, 0.09357940762726914, 0.09497290860086945, 0.09638660516396387, 0.09781999297793367, 0.09927256460905753, 0.10074380949612287, 0.1022332139173582, 0.10374026095736673, 0.1052644304747241, 0.10680519907087968, 0.10836204006099494, 0.10993442344732068, 0.11152181589569928, 0.11312368071575922, 0.11473947784533887, 0.11636866383966106, 0.11801069186574922, 0.11966501170255421, 0.12133106974723591, 0.12300830902801148, 0.12469616922396677, 0.1263940866921835, 0.12810149450252617, 0.12981782248038856, 0.13154249725768072, 0.13327494233230772, 0.13501457813635828, 0.13676082211320065, 0.13851308880364704, 0.14027078994132539, 0.1420333345573656, 0.14380012909447976, 0.14557057753049035, 0.14734408151133213, 0.14912004049352007, 0.15089785189606317, 0.1526769112617611, 0.1544566124278063, 0.15623634770558678, 0.15801550806955422, 0.15979348335500623, 0.16156966246460258, 0.16334343358341458, 0.16511418440228343, 0.16688130234924425, 0.1686441748287489, 0.1704021894684036, 0.17215473437291717, 0.1739011983849366, 0.17564097135243345, 0.17737344440228012, 0.1790980102196508, 0.1808140633328579, 0.18252100040322072, 0.18421822051956369, 0.18590512549691282, 0.18758112017895348, 0.18924561274381632, 0.19089801501272294, 0.19253774276104285, 0.19416421603128636, 0.19577685944756013, 0.19737510253101093, 0.1989583800157679, 0.20052613216490364, 0.20207780508592438, 0.20361285104529864, 0.2051307287815391, 0.206630903816349, 0.20811284876334735, 0.2095760436338895, 0.21101997613950743, 0.21244414199049283, 0.21384804519015396, 0.21523119832429405, 0.216593122845441, 0.21793334935139946, 0.21925141785767965, 0.2205468780633773, 0.2218192896100974, 0.22306822233350532, 0.22429325650712925, 0.22549398307802584, 0.22667000389394876, 0.22782093192167496, 0.22894639145615242, 0.23004601832014862, 0.231119460054111, 0.23216637609594112, 0.23318643795043145, 0.2341793293481078, 0.23514474639325625, 0.2360823977009204, 0.23699200452268754, 0.23787330086108707, 0.23872603357245933, 0.2395499624581638, 0.24034486034402433, 0.24111051314792192, 0.24184671993547585, 0.24255329296376885, 0.24323005771309705, 0.24387685290674813, 0.2444935305188274, 0.24507995577018063, 0.24563600711247827, 0.24616157620055054, 0.24665656785308093, 0.2471209000017917, 0.2475545036292686, 0.2479573226956, 0.24832931405402114, 0.2486704473557712, 0.24898070494439728, 0.24926008173975525, 0.24950858511196747, 0.24972623474562738, 0.2499130624945486, 0.25006911222737743, 0.2501944396643971, 0.2502891122058709, 0.2503532087522863, 0.25038681951686803, 0.25039004583074637, 0.2503629999411756, 0.25030580480320436, 0.25021859386521506, 0.25010151084874893, 0.24995470952304752, 0.24977835347474314, 0.2495726158731332, 0.24933767923148534, 0.2490737351648088, 0.2487809841445445, 0.24845963525061132, 0.2481099059212588, 0.24773202170115713, 0.2473262159881759, 0.24689272977927068, 0.2464318114159125, 0.24594371632948028, 0.24542870678702566, 0.2448870516378161, 0.2443190260610496, 0.2437249113151241, 0.24310499448883036, 0.2424595682548296, 0.2417889306257568, 0.24109338471328337, 0.24037323849044562, 0.2396288045575504, 0.238860399911924, 0.23806834572177968, 0.237252967104445, 0.23641459290917538, 0.2355535555047648, 0.2346701905721418, 0.23376483690211666, 0.23283783619843532, 0.2318895328862631, 0.2309202739262085, 0.22993040863397757, 0.2289202885057238, 0.2278902670491434, 0.22684069962034037, 0.22577194326647498, 0.22468435657417538, 0.2235782995236896, 0.22245413334872205, 0.22131222040188775, 0.22015292402570183, 0.21897660842899566, 0.21778363856864305, 0.21657438003646268, 0.2153491989511431, 0.21410846185503007, 0.2128525356155936, 0.21158178733139282, 0.21029658424232792, 0.20899729364397834, 0.20768428280579737, 0.20635791889294156, 0.2050185688914959, 0.20366659953685282, 0.20230237724500044, 0.20092626804646724, 0.19953863752267387, 0.19813985074443335, 0.1967302722123488, 0.19531026579885352, 0.19388019469163925, 0.19244042133822936, 0.1909913073914464, 0.18953321365553702, 0.18806650003272177, 0.18659152546993996, 0.18510864790557796, 0.18361822421596252, 0.18212061016142786, 0.1806161603317648, 0.17910522809087204, 0.17758816552045, 0.17606532336258063, 0.1745370509610537, 0.17300369620131809, 0.17146560544894385, 0.1699231234865, 0.16837659344876632, 0.16682635675621504, 0.16527275304670744, 0.16371612010537578, 0.16215679379266892, 0.16059510797055404, 0.15903139442689404, 0.15746598279802024, 0.1558992004895453, 0.1543313725954743, 0.1527628218156831, 0.15119386837185061, 0.14962482992194145, 0.14805602147335475, 0.14648775529485855, 0.1449203408274493, 0.14335408459428076, 0.1417892901098222, 0.140226257788408, 0.1386652848523617, 0.13710666523986886, 0.13555068951279675, 0.13399764476465265, 0.13244781452888502, 0.13090147868773233, 0.12935891338182892, 0.12782039092077985, 0.1262861796949181, 0.12475654408845593, 0.12323174439424726, 0.12171203673036624, 0.12019767295871807, 0.11868890060588327, 0.11718596278639776, 0.11568909812866732, 0.11419854070370442, 0.11271451995687372, 0.11123726064282038, 0.10976698276375108, 0.1083039015112269, 0.10684822721161691, 0.10540016527535301, 0.10395991615011517, 0.10252767527806188, 0.10110363305721838, 0.09968797480710836, 0.09828088073871798, 0.09688252592885677, 0.09549308029897362, 0.09411270859847036, 0.09274157039254359, 0.09137982005456867, 0.09002760676303424, 0.08868507450301315, 0.08735236207214984, 0.0860296030911274, 0.08471692601856695, 0.08341445417029814, 0.08212230574292835, 0.08084059384162831, 0.0795694265120348, 0.07830890677616843, 0.07705913267224727, 0.07582019729826998, 0.07459218885923585, 0.07337519071785405, 0.07216928144859243, 0.07097453489490632, 0.06979102022947963, 0.06861880201730912, 0.06745794028145272, 0.06630849057126098, 0.06517050403290664, 0.06404402748202297, 0.06292910347826171, 0.06182577040157637, 0.06073406253004003, 0.05965401011900266, 0.058585639481396355, 0.05752897306899789, 0.05648402955445665, 0.05545082391390546, 0.054429367509966964, 0.053419668174978965, 0.05242173029426312, 0.051435554889266405, 0.05046113970041236, 0.04949847926950333, 0.04854756502152155, 0.04760838534568689, 0.04668092567563114, 0.04576516856856163], \"yaxis\": \"y\"}, {\"legendgroup\": \"petal width (cm)\", \"marker\": {\"color\": \"rgb(214, 39, 40)\"}, \"mode\": \"lines\", \"name\": \"petal width (cm)\", \"showlegend\": false, \"type\": \"scatter\", \"x\": [0.1, 0.1048, 0.1096, 0.1144, 0.1192, 0.124, 0.1288, 0.1336, 0.1384, 0.1432, 0.14800000000000002, 0.1528, 0.1576, 0.1624, 0.16720000000000002, 0.172, 0.1768, 0.18159999999999998, 0.1864, 0.1912, 0.196, 0.2008, 0.2056, 0.2104, 0.2152, 0.22, 0.2248, 0.2296, 0.23440000000000003, 0.2392, 0.244, 0.2488, 0.2536, 0.2584, 0.2632, 0.268, 0.2728, 0.2776, 0.2824, 0.2872, 0.29200000000000004, 0.29679999999999995, 0.3016, 0.3064, 0.31120000000000003, 0.316, 0.3208, 0.3256, 0.33039999999999997, 0.3352, 0.33999999999999997, 0.3448, 0.3496, 0.35439999999999994, 0.35919999999999996, 0.364, 0.3688, 0.37359999999999993, 0.37839999999999996, 0.3832, 0.388, 0.39280000000000004, 0.39759999999999995, 0.4024, 0.4072, 0.41200000000000003, 0.41680000000000006, 0.4216, 0.4264, 0.4312, 0.43600000000000005, 0.44079999999999997, 0.4456, 0.4504, 0.45520000000000005, 0.45999999999999996, 0.4648, 0.4696, 0.47439999999999993, 0.47919999999999996, 0.484, 0.4888, 0.4935999999999999, 0.49839999999999995, 0.5032, 0.508, 0.5128, 0.5176, 0.5224, 0.5272, 0.532, 0.5368, 0.5416, 0.5464, 0.5512, 0.556, 0.5608, 0.5656, 0.5704, 0.5752, 0.58, 0.5848, 0.5896, 0.5943999999999999, 0.5992, 0.604, 0.6087999999999999, 0.6136, 0.6184, 0.6231999999999999, 0.628, 0.6327999999999999, 0.6376000000000001, 0.6424, 0.6471999999999999, 0.652, 0.6567999999999999, 0.6616, 0.6664, 0.6711999999999999, 0.6759999999999999, 0.6808, 0.6856, 0.6903999999999999, 0.6951999999999999, 0.7, 0.7048, 0.7096, 0.7143999999999999, 0.7192, 0.724, 0.7287999999999999, 0.7336, 0.7384, 0.7431999999999999, 0.748, 0.7527999999999999, 0.7576, 0.7624, 0.7671999999999999, 0.772, 0.7767999999999999, 0.7816, 0.7864, 0.7911999999999999, 0.7959999999999999, 0.8008, 0.8056, 0.8104, 0.8151999999999999, 0.82, 0.8248, 0.8296, 0.8343999999999999, 0.8392, 0.844, 0.8487999999999999, 0.8536, 0.8583999999999999, 0.8631999999999999, 0.868, 0.8727999999999999, 0.8776, 0.8824, 0.8871999999999999, 0.892, 0.8967999999999999, 0.9016, 0.9064, 0.9111999999999999, 0.9159999999999999, 0.9208, 0.9256, 0.9304, 0.9351999999999999, 0.94, 0.9448, 0.9496, 0.9543999999999999, 0.9591999999999999, 0.964, 0.9687999999999999, 0.9736, 0.9783999999999999, 0.9832, 0.988, 0.9927999999999999, 0.9976, 1.0024, 1.0071999999999999, 1.012, 1.0168, 1.0215999999999998, 1.0264, 1.0312, 1.036, 1.0408, 1.0455999999999999, 1.0504, 1.0552, 1.06, 1.0648, 1.0695999999999999, 1.0744, 1.0792, 1.084, 1.0888, 1.0936, 1.0984, 1.1032, 1.108, 1.1128, 1.1176, 1.1224, 1.1272000000000002, 1.1320000000000001, 1.1368, 1.1416, 1.1463999999999999, 1.1512000000000002, 1.1560000000000001, 1.1608, 1.1656, 1.1703999999999999, 1.1752000000000002, 1.1800000000000002, 1.1848, 1.1896, 1.1944, 1.1992, 1.2040000000000002, 1.2088, 1.2136, 1.2184, 1.2232, 1.228, 1.2328000000000001, 1.2376, 1.2424, 1.2472, 1.252, 1.2568000000000001, 1.2616, 1.2664, 1.2712, 1.276, 1.2808, 1.2856, 1.2904, 1.2952000000000001, 1.3, 1.3048, 1.3096, 1.3144, 1.3192000000000002, 1.324, 1.3288, 1.3336, 1.3384, 1.3432000000000002, 1.348, 1.3528, 1.3576, 1.3624, 1.3672000000000002, 1.372, 1.3768, 1.3816, 1.3863999999999999, 1.3912000000000002, 1.3960000000000001, 1.4008, 1.4056, 1.4103999999999999, 1.4152000000000002, 1.4200000000000002, 1.4248, 1.4296, 1.4344, 1.4392, 1.4440000000000002, 1.4488, 1.4536, 1.4584, 1.4632, 1.4680000000000002, 1.4728, 1.4776, 1.4824, 1.4872, 1.492, 1.4968000000000001, 1.5016, 1.5064, 1.5112, 1.516, 1.5208000000000002, 1.5256, 1.5304, 1.5352000000000001, 1.54, 1.5448, 1.5496, 1.5544, 1.5592000000000001, 1.564, 1.5688, 1.5735999999999999, 1.5784, 1.5832000000000002, 1.588, 1.5928, 1.5976, 1.6024, 1.6072000000000002, 1.612, 1.6168, 1.6216, 1.6263999999999998, 1.6312000000000002, 1.6360000000000001, 1.6408, 1.6456, 1.6503999999999999, 1.6552000000000002, 1.6600000000000001, 1.6648, 1.6696, 1.6743999999999999, 1.6792, 1.6840000000000002, 1.6888, 1.6936, 1.6984, 1.7032, 1.7080000000000002, 1.7128, 1.7176, 1.7224, 1.7272, 1.732, 1.7368000000000001, 1.7416, 1.7464, 1.7512, 1.756, 1.7608000000000001, 1.7656, 1.7704, 1.7752000000000001, 1.78, 1.7848, 1.7896, 1.7944, 1.7992000000000001, 1.804, 1.8088, 1.8136, 1.8184, 1.8232000000000002, 1.828, 1.8328, 1.8376, 1.8424, 1.8472000000000002, 1.852, 1.8568, 1.8616, 1.8664, 1.8712000000000002, 1.8760000000000001, 1.8808, 1.8856, 1.8903999999999999, 1.8952000000000002, 1.9000000000000001, 1.9048, 1.9096, 1.9143999999999999, 1.9192000000000002, 1.9240000000000002, 1.9288, 1.9336, 1.9384, 1.9431999999999998, 1.9480000000000002, 1.9528, 1.9576, 1.9624, 1.9671999999999998, 1.9720000000000002, 1.9768000000000001, 1.9816, 1.9864, 1.9911999999999999, 1.996, 2.0008, 2.0056, 2.0103999999999997, 2.0151999999999997, 2.02, 2.0248, 2.0296, 2.0343999999999998, 2.0391999999999997, 2.044, 2.0488, 2.0536, 2.0584, 2.0631999999999997, 2.068, 2.0728, 2.0776, 2.0824, 2.0871999999999997, 2.092, 2.0968, 2.1016, 2.1064, 2.1111999999999997, 2.116, 2.1208, 2.1256, 2.1304, 2.1351999999999998, 2.14, 2.1448, 2.1496, 2.1544000000000003, 2.1592, 2.164, 2.1687999999999996, 2.1736, 2.1784000000000003, 2.1832, 2.188, 2.1927999999999996, 2.1976, 2.2024000000000004, 2.2072, 2.212, 2.2167999999999997, 2.2216, 2.2264000000000004, 2.2312, 2.236, 2.2407999999999997, 2.2456, 2.2504000000000004, 2.2552, 2.2600000000000002, 2.2647999999999997, 2.2696, 2.2744, 2.2792, 2.2840000000000003, 2.2887999999999997, 2.2936, 2.2984, 2.3032, 2.3080000000000003, 2.3127999999999997, 2.3176, 2.3224, 2.3272, 2.3320000000000003, 2.3367999999999998, 2.3416, 2.3464, 2.3512, 2.356, 2.3608, 2.3656, 2.3704, 2.3752, 2.38, 2.3848, 2.3896, 2.3944, 2.3992, 2.404, 2.4088, 2.4136, 2.4184, 2.4232, 2.428, 2.4328, 2.4376, 2.4424, 2.4472, 2.452, 2.4568, 2.4616, 2.4664, 2.4712, 2.476, 2.4808, 2.4856, 2.4904, 2.4952], \"xaxis\": \"x\", \"y\": [0.4009066154417006, 0.40394012799404, 0.40688907182565065, 0.40975139895235424, 0.41252512206106356, 0.41520831712091155, 0.4177991259264638, 0.4202957585686597, 0.42269649582918967, 0.42499969149414085, 0.4272037745829506, 0.4293072514887339, 0.4313087080263304, 0.4332068113844692, 0.4350003119787115, 0.43668804520190896, 0.4382689330692194, 0.43974198575478674, 0.4411063030174929, 0.4423610755133176, 0.4435055859921043, 0.4445392103767009, 0.4454614187226908, 0.44627177605712814, 0.4469699430949216, 0.4475556768317549, 0.44802883101263635, 0.448389356475383, 0.4486373013686573, 0.44877281124426055, 0.44879612902380545, 0.4487075948399176, 0.44850764575251884, 0.4481968153408501, 0.4477757331721964, 0.44724512414841233, 0.4466058077316821, 0.4458586970510209, 0.44500479789135966, 0.4440452075671722, 0.44298111368284876, 0.44181379278218164, 0.44054460888956154, 0.43917501194558833, 0.4377065361400577, 0.4361407981453713, 0.4344794952536402, 0.4327244034208586, 0.430877375221674, 0.42894033771842105, 0.42691529024822894, 0.42480430213203907, 0.42260951030962013, 0.42033311690460834, 0.4179773867238017, 0.41554464469495656, 0.41303727324740125, 0.41045770963989425, 0.40780844324008586, 0.40509201276014234, 0.40231100345293486, 0.39946804427338434, 0.3965658050094367, 0.3936069933872035, 0.3905943521547778, 0.38753065614920296, 0.38441870935107725, 0.3812613419311741, 0.3780614072935077, 0.3748217791191078, 0.37154534841480025, 0.3682350205711593, 0.3648937124337417, 0.3615243493916333, 0.35812986248721246, 0.3547131855509929, 0.35127725236524576, 0.34782499386001814, 0.3443593353450516, 0.34088319378096366, 0.3373994750929524, 0.3339110715301287, 0.3304208590734644, 0.3269316948951996, 0.3234464148724108, 0.3199678311572866, 0.316498729806541, 0.3130418684722157, 0.3095999741559668, 0.3061757410288383, 0.30277182831827865, 0.29939085826409656, 0.29603541414483797, 0.2927080383759409, 0.2894112306808623, 0.2861474463362284, 0.28291909449190406, 0.2797285365667376, 0.276578084720576, 0.2734700004030139, 0.2704064929792054, 0.2673897184329117, 0.2644217781468312, 0.26150471776013073, 0.2586405261029666, 0.2558311342076508, 0.2530784143960114, 0.25038417944236996, 0.2477501818114488, 0.24517811297041256, 0.24266960277415608, 0.2402262189228314, 0.2378494664905362, 0.2355407875239792, 0.23330156070986444, 0.23113310110966656, 0.2290366599603582, 0.2270134245396509, 0.22506451809415703, 0.22319099982892626, 0.22139386495665217, 0.21967404480488933, 0.2180324069795158, 0.21646975558266487, 0.21498683148332284, 0.21358431263874172, 0.2122628144648137, 0.21102289025352777, 0.20986503163560907, 0.2087896690864561, 0.20779717247345, 0.20688785164275347, 0.206061957043693, 0.20531968038882562, 0.20466115534783344, 0.20408645827336297, 0.20359560895698925, 0.20318857141347632, 0.20286525469155034, 0.20262551370942414, 0.20246915011335384, 0.20239591315752758, 0.20240550060364884, 0.20249755963859495, 0.20267168780858913, 0.2029274339683716, 0.2032642992438835, 0.20368173800705727, 0.2041791588613281, 0.20475592563655637, 0.20541135839208946, 0.20614473442675257, 0.20695528929461218, 0.20784221782541787, 0.2088046751486692, 0.2098417777203325, 0.21095260435126975, 0.21213619723651533, 0.21339156298458292, 0.21471767364603978, 0.21611346774066403, 0.21757785128251672, 0.21910969880235726, 0.2207078543668576, 0.22237113259413405, 0.22409831966516164, 0.22588817433070257, 0.2277394289134018, 0.22965079030477845, 0.23162094095687255, 0.2336485398683505, 0.2357322235649266, 0.23787060707398483, 0.24006228489333117, 0.24230583195404556, 0.2445998045774264, 0.24694274142606712, 0.24933316444912035, 0.25176957982184006, 0.25425047887951685, 0.25677433904593994, 0.2593396247565462, 0.2619447883764183, 0.26458827111333494, 0.26726850392606477, 0.2699839084281123, 0.2727328977871348, 0.2755138776202564, 0.27832524688549093, 0.2811653987695069, 0.2840327215719493, 0.28692559958652825, 0.2898424139790838, 0.29278154366282083, 0.29574136617089714, 0.29872025852652, 0.3017165981107204, 0.30472876352791817, 0.30775513546938654, 0.31079409757470833, 0.31384403729128224, 0.3169033467318941, 0.31997042353038446, 0.3230436716953596, 0.3261215024618926, 0.3292023351411382, 0.3322845979677062, 0.335366728944657, 0.33844717668590446, 0.34152440125579925, 0.3445968750056166, 0.3476630834066357, 0.3507215258794688, 0.353770716619238, 0.3568091854161946, 0.3598354784712951, 0.3628481592062466, 0.36584580906747355, 0.368827028323433, 0.3717904368546649, 0.3747346749359258, 0.37765840400973366, 0.3805603074505983, 0.38343909131919657, 0.3862934851057168, 0.3891222424615733, 0.3919241419186476, 0.3946979875952235, 0.3974426098877153, 0.4001568661473162, 0.4028396413406405, 0.40548984869343235, 0.40810643031641036, 0.4106883578122776, 0.4132346328629689, 0.4157442877961457, 0.4182163861299925, 0.4206500230953525, 0.4230443261342387, 0.425398455373794, 0.42771160407472003, 0.42998299905330944, 0.43221190107613494, 0.4343976052265225, 0.4365394412419519, 0.4386367738215517, 0.44068900290287727, 0.442695563907202, 0.4446559279526069, 0.44656960203413526, 0.44843612917039904, 0.4502550885160032, 0.45202609543922667, 0.45374880156447733, 0.45542289477901715, 0.4570480992035995, 0.4586241751266359, 0.4601509189016391, 0.46162816280768654, 0.4630557748727599, 0.46443365865987096, 0.4657617530159113, 0.46704003178330605, 0.46826850347453647, 0.46944721090973895, 0.4705762308175986, 0.4716556733998757, 0.47268568185993903, 0.47366643189577273, 0.47459813115797644, 0.47548101867336745, 0.4763153642348559, 0.4771014677583297, 0.477839658607353, 0.47853029488657467, 0.4791737627047556, 0.4797704754084591, 0.48032087278744634, 0.4808254202529169, 0.4812846079897839, 0.4816989500842318, 0.48206898362784595, 0.48239526779966724, 0.4826783829275789, 0.4829189295304518, 0.4831175273425463, 0.4832748143216903, 0.48339144564277764, 0.4834680926782089, 0.48350544196685574, 0.4835041941732093, 0.48346506303838044, 0.48338877432461363, 0.4832760647550118, 0.4831276809501769, 0.482944378363462, 0.4827269202165359, 0.48247607643696927, 0.48219262259952267, 0.4818773388728175, 0.48153100897306084, 0.48115441912645424, 0.48074835704190705, 0.48031361089565755, 0.47985096832933805, 0.47936121546302357, 0.478845135924736, 0.47830350989786147, 0.4777371131878464, 0.477146716309548, 0.4765330835965127, 0.4758969723334286, 0.4752391319129283, 0.47456030301785995, 0.4738612168300935, 0.4731425942668323, 0.472405145245381, 0.47164956797719804, 0.4708765482920415, 0.47008675899290303, 0.46928085924238355, 0.4684594939810612, 0.46762329337836467, 0.4667728723163468, 0.4659088299067156, 0.46503174904137856, 0.4641421959766965, 0.4632407199515653, 0.46232785283935435, 0.461404108833691, 0.46046998416796797, 0.4595259568684134, 0.4585724865404709, 0.45761001418818065, 0.4566389620661887, 0.4556597335639344, 0.45467271312151764, 0.45367826617668555, 0.45267673914230927, 0.4516684594136937, 0.4506537354049738, 0.44963285661384217, 0.44860609371378013, 0.4475736986729264, 0.4465359048986948, 0.4454929274071951, 0.44444496301647957, 0.4433921905626453, 0.44233477113773056, 0.4412728483483913, 0.44020654859426817, 0.4391359813649832, 0.4380612395546583, 0.4369823997928633, 0.43589952279088817, 0.4348126537022295, 0.4337218224961834, 0.43262704434345534, 0.4315283200126828, 0.4304256362767968, 0.429318966328158, 0.4282082702014127, 0.4270934952030434, 0.42597457634660857, 0.42485143679268994, 0.4237239882925927, 0.42259213163487447, 0.4214557570938179, 0.42031474487897735, 0.4191689655849917, 0.41801828064086394, 0.41686254275797224, 0.41570159637609905, 0.41453527810681656, 0.4133634171736, 0.41218583584809365, 0.41100234988198386, 0.409812768933988, 0.40861689699151016, 0.40741453278654965, 0.4062054702055055, 0.40498949869254514, 0.40376640364627153, 0.4025359668094431, 0.40129796665155143, 0.40005217874410887, 0.3987983761285195, 0.39753632967646596, 0.39626580844276055, 0.39498658001066433, 0.39369841082969254, 0.3924010665459712, 0.39109431232522845, 0.3897779131685455, 0.38845163422100043, 0.3871152410733805, 0.38576850005714874, 0.3844111785328714, 0.3830430451723397, 0.3816638702346201, 0.38027342583629703, 0.37887148621616623, 0.3774578279946616, 0.37603223042828765, 0.37459447565935494, 0.37314434896129683, 0.3716816389798559, 0.3702061379704348, 0.3687176420318747, 0.3672159513369537, 0.36570087035985904, 0.3641722081008921, 0.3626297783086499, 0.36107339969991104, 0.35950289617744224, 0.3579180970459176, 0.35631883722613417, 0.3547049574676779, 0.353076304560179, 0.35143273154327453, 0.3497740979153638, 0.3481002698412311, 0.3464111203585805, 0.34470652958348935, 0.34298638491479266, 0.3412505812373458, 0.339499021124119, 0.3377316150370339, 0.3359482815264277, 0.33414894742901335, 0.3323335480641645, 0.3305020274283446, 0.3286543383874594, 0.32679044286690206, 0.3249103120390246, 0.3230139265077535, 0.3211012764900543, 0.31917236199390314, 0.31722719299244256, 0.31526578959394225, 0.31328818220719895, 0.3112944117019821, 0.30928452956411084, 0.3072585980447614, 0.3052166903035602, 0.3031588905450384, 0.30108529414800533, 0.2989960077873867, 0.2968911495480878, 0.29477084903042094, 0.29263524744665365, 0.2904844977082299, 0.2883187645032163, 0.28613822436354225, 0.2839430657216013, 0.2817334889557997, 0.27950970642464174, 0.2772719424889582, 0.27502043352190825, 0.27275542790638174, 0.270477186019473, 0.26818598020369483, 0.2658820947246367, 0.26356582571479287, 0.2612374811033043, 0.2588973805313898, 0.2565458552532694, 0.25418324802240405, 0.2518099129629178, 0.2494262154260819, 0.24703253183178817, 0.24462924949495737, 0.24221676643686949, 0.23979549118143223, 0.2373658425364329, 0.23492824935986428, 0.23248315031143435, 0.2300309935894186, 0.22757223665303186, 0.22510734593054274, 0.22263679651338483, 0.22016107183654313, 0.21768066334554342, 0.21519607015038716, 0.2127077986668166, 0.21021636224532453, 0.20772228078835145, 0.20522608035613982, 0.20272829276174958, 0.20022945515575777, 0.19773010960119913, 0.19523080263932654, 0.1927320848467863, 0.19023451038483888, 0.1877386365412631, 0.18524502326560888, 0.18275423269847937, 0.1802668286955345, 0.17778337634693045, 0.17530444149291383], \"yaxis\": \"y\"}, {\"legendgroup\": \"sepal length (cm)\", \"marker\": {\"color\": \"rgb(31, 119, 180)\", \"symbol\": \"line-ns-open\"}, \"mode\": \"markers\", \"name\": \"sepal length (cm)\", \"showlegend\": false, \"type\": \"scatter\", \"x\": [5.1, 4.9, 4.7, 4.6, 5.0, 5.4, 4.6, 5.0, 4.4, 4.9, 5.4, 4.8, 4.8, 4.3, 5.8, 5.7, 5.4, 5.1, 5.7, 5.1, 5.4, 5.1, 4.6, 5.1, 4.8, 5.0, 5.0, 5.2, 5.2, 4.7, 4.8, 5.4, 5.2, 5.5, 4.9, 5.0, 5.5, 4.9, 4.4, 5.1, 5.0, 4.5, 4.4, 5.0, 5.1, 4.8, 5.1, 4.6, 5.3, 5.0, 7.0, 6.4, 6.9, 5.5, 6.5, 5.7, 6.3, 4.9, 6.6, 5.2, 5.0, 5.9, 6.0, 6.1, 5.6, 6.7, 5.6, 5.8, 6.2, 5.6, 5.9, 6.1, 6.3, 6.1, 6.4, 6.6, 6.8, 6.7, 6.0, 5.7, 5.5, 5.5, 5.8, 6.0, 5.4, 6.0, 6.7, 6.3, 5.6, 5.5, 5.5, 6.1, 5.8, 5.0, 5.6, 5.7, 5.7, 6.2, 5.1, 5.7, 6.3, 5.8, 7.1, 6.3, 6.5, 7.6, 4.9, 7.3, 6.7, 7.2, 6.5, 6.4, 6.8, 5.7, 5.8, 6.4, 6.5, 7.7, 7.7, 6.0, 6.9, 5.6, 7.7, 6.3, 6.7, 7.2, 6.2, 6.1, 6.4, 7.2, 7.4, 7.9, 6.4, 6.3, 6.1, 7.7, 6.3, 6.4, 6.0, 6.9, 6.7, 6.9, 5.8, 6.8, 6.7, 6.7, 6.3, 6.5, 6.2, 5.9], \"xaxis\": \"x\", \"y\": [\"sepal length (cm)\", \"sepal length (cm)\", \"sepal length (cm)\", \"sepal length (cm)\", \"sepal length (cm)\", \"sepal length (cm)\", \"sepal length (cm)\", \"sepal length (cm)\", \"sepal length (cm)\", \"sepal length (cm)\", \"sepal length (cm)\", \"sepal length (cm)\", \"sepal length (cm)\", \"sepal length (cm)\", \"sepal length (cm)\", \"sepal length (cm)\", \"sepal length (cm)\", \"sepal length (cm)\", \"sepal length (cm)\", \"sepal length (cm)\", \"sepal length (cm)\", \"sepal length (cm)\", \"sepal length (cm)\", \"sepal length (cm)\", \"sepal length (cm)\", \"sepal length (cm)\", \"sepal length (cm)\", \"sepal length (cm)\", \"sepal length (cm)\", \"sepal length (cm)\", \"sepal length (cm)\", \"sepal length (cm)\", \"sepal length (cm)\", \"sepal length (cm)\", \"sepal length (cm)\", \"sepal length (cm)\", \"sepal length (cm)\", \"sepal length (cm)\", \"sepal length (cm)\", \"sepal length (cm)\", \"sepal length (cm)\", \"sepal length (cm)\", \"sepal length (cm)\", \"sepal length (cm)\", \"sepal length (cm)\", \"sepal length (cm)\", \"sepal length (cm)\", \"sepal length (cm)\", \"sepal length (cm)\", \"sepal length (cm)\", \"sepal length (cm)\", \"sepal length (cm)\", \"sepal length (cm)\", \"sepal length (cm)\", \"sepal length (cm)\", \"sepal length (cm)\", \"sepal length (cm)\", \"sepal length (cm)\", \"sepal length (cm)\", \"sepal length (cm)\", \"sepal length (cm)\", \"sepal length (cm)\", \"sepal length (cm)\", \"sepal length (cm)\", \"sepal length (cm)\", \"sepal length (cm)\", \"sepal length (cm)\", \"sepal length (cm)\", \"sepal length (cm)\", \"sepal length (cm)\", \"sepal length (cm)\", \"sepal length (cm)\", \"sepal length (cm)\", \"sepal length (cm)\", \"sepal length (cm)\", \"sepal length (cm)\", \"sepal length (cm)\", \"sepal length (cm)\", \"sepal length (cm)\", \"sepal length (cm)\", \"sepal length (cm)\", \"sepal length (cm)\", \"sepal length (cm)\", \"sepal length (cm)\", \"sepal length (cm)\", \"sepal length (cm)\", \"sepal length (cm)\", \"sepal length (cm)\", \"sepal length (cm)\", \"sepal length (cm)\", \"sepal length (cm)\", \"sepal length (cm)\", \"sepal length (cm)\", \"sepal length (cm)\", \"sepal length (cm)\", \"sepal length (cm)\", \"sepal length (cm)\", \"sepal length (cm)\", \"sepal length (cm)\", \"sepal length (cm)\", \"sepal length (cm)\", \"sepal length (cm)\", \"sepal length (cm)\", \"sepal length (cm)\", \"sepal length (cm)\", \"sepal length (cm)\", \"sepal length (cm)\", \"sepal length (cm)\", \"sepal length (cm)\", \"sepal length (cm)\", \"sepal length (cm)\", \"sepal length (cm)\", \"sepal length (cm)\", \"sepal length (cm)\", \"sepal length (cm)\", \"sepal length (cm)\", \"sepal length (cm)\", \"sepal length (cm)\", \"sepal length (cm)\", \"sepal length (cm)\", \"sepal length (cm)\", \"sepal length (cm)\", \"sepal length (cm)\", \"sepal length (cm)\", \"sepal length (cm)\", \"sepal length (cm)\", \"sepal length (cm)\", \"sepal length (cm)\", \"sepal length (cm)\", \"sepal length (cm)\", \"sepal length (cm)\", \"sepal length (cm)\", \"sepal length (cm)\", \"sepal length (cm)\", \"sepal length (cm)\", \"sepal length (cm)\", \"sepal length (cm)\", \"sepal length (cm)\", \"sepal length (cm)\", \"sepal length (cm)\", \"sepal length (cm)\", \"sepal length (cm)\", \"sepal length (cm)\", \"sepal length (cm)\", \"sepal length (cm)\", \"sepal length (cm)\", \"sepal length (cm)\", \"sepal length (cm)\", \"sepal length (cm)\", \"sepal length (cm)\"], \"yaxis\": \"y2\"}, {\"legendgroup\": \"sepal width (cm)\", \"marker\": {\"color\": \"rgb(255, 127, 14)\", \"symbol\": \"line-ns-open\"}, \"mode\": \"markers\", \"name\": \"sepal width (cm)\", \"showlegend\": false, \"type\": \"scatter\", \"x\": [3.5, 3.0, 3.2, 3.1, 3.6, 3.9, 3.4, 3.4, 2.9, 3.1, 3.7, 3.4, 3.0, 3.0, 4.0, 4.4, 3.9, 3.5, 3.8, 3.8, 3.4, 3.7, 3.6, 3.3, 3.4, 3.0, 3.4, 3.5, 3.4, 3.2, 3.1, 3.4, 4.1, 4.2, 3.1, 3.2, 3.5, 3.6, 3.0, 3.4, 3.5, 2.3, 3.2, 3.5, 3.8, 3.0, 3.8, 3.2, 3.7, 3.3, 3.2, 3.2, 3.1, 2.3, 2.8, 2.8, 3.3, 2.4, 2.9, 2.7, 2.0, 3.0, 2.2, 2.9, 2.9, 3.1, 3.0, 2.7, 2.2, 2.5, 3.2, 2.8, 2.5, 2.8, 2.9, 3.0, 2.8, 3.0, 2.9, 2.6, 2.4, 2.4, 2.7, 2.7, 3.0, 3.4, 3.1, 2.3, 3.0, 2.5, 2.6, 3.0, 2.6, 2.3, 2.7, 3.0, 2.9, 2.9, 2.5, 2.8, 3.3, 2.7, 3.0, 2.9, 3.0, 3.0, 2.5, 2.9, 2.5, 3.6, 3.2, 2.7, 3.0, 2.5, 2.8, 3.2, 3.0, 3.8, 2.6, 2.2, 3.2, 2.8, 2.8, 2.7, 3.3, 3.2, 2.8, 3.0, 2.8, 3.0, 2.8, 3.8, 2.8, 2.8, 2.6, 3.0, 3.4, 3.1, 3.0, 3.1, 3.1, 3.1, 2.7, 3.2, 3.3, 3.0, 2.5, 3.0, 3.4, 3.0], \"xaxis\": \"x\", \"y\": [\"sepal width (cm)\", \"sepal width (cm)\", \"sepal width (cm)\", \"sepal width (cm)\", \"sepal width (cm)\", \"sepal width (cm)\", \"sepal width (cm)\", \"sepal width (cm)\", \"sepal width (cm)\", \"sepal width (cm)\", \"sepal width (cm)\", \"sepal width (cm)\", \"sepal width (cm)\", \"sepal width (cm)\", \"sepal width (cm)\", \"sepal width (cm)\", \"sepal width (cm)\", \"sepal width (cm)\", \"sepal width (cm)\", \"sepal width (cm)\", \"sepal width (cm)\", \"sepal width (cm)\", \"sepal width (cm)\", \"sepal width (cm)\", \"sepal width (cm)\", \"sepal width (cm)\", \"sepal width (cm)\", \"sepal width (cm)\", \"sepal width (cm)\", \"sepal width (cm)\", \"sepal width (cm)\", \"sepal width (cm)\", \"sepal width (cm)\", \"sepal width (cm)\", \"sepal width (cm)\", \"sepal width (cm)\", \"sepal width (cm)\", \"sepal width (cm)\", \"sepal width (cm)\", \"sepal width (cm)\", \"sepal width (cm)\", \"sepal width (cm)\", \"sepal width (cm)\", \"sepal width (cm)\", \"sepal width (cm)\", \"sepal width (cm)\", \"sepal width (cm)\", \"sepal width (cm)\", \"sepal width (cm)\", \"sepal width (cm)\", \"sepal width (cm)\", \"sepal width (cm)\", \"sepal width (cm)\", \"sepal width (cm)\", \"sepal width (cm)\", \"sepal width (cm)\", \"sepal width (cm)\", \"sepal width (cm)\", \"sepal width (cm)\", \"sepal width (cm)\", \"sepal width (cm)\", \"sepal width (cm)\", \"sepal width (cm)\", \"sepal width (cm)\", \"sepal width (cm)\", \"sepal width (cm)\", \"sepal width (cm)\", \"sepal width (cm)\", \"sepal width (cm)\", \"sepal width (cm)\", \"sepal width (cm)\", \"sepal width (cm)\", \"sepal width (cm)\", \"sepal width (cm)\", \"sepal width (cm)\", \"sepal width (cm)\", \"sepal width (cm)\", \"sepal width (cm)\", \"sepal width (cm)\", \"sepal width (cm)\", \"sepal width (cm)\", \"sepal width (cm)\", \"sepal width (cm)\", \"sepal width (cm)\", \"sepal width (cm)\", \"sepal width (cm)\", \"sepal width (cm)\", \"sepal width (cm)\", \"sepal width (cm)\", \"sepal width (cm)\", \"sepal width (cm)\", \"sepal width (cm)\", \"sepal width (cm)\", \"sepal width (cm)\", \"sepal width (cm)\", \"sepal width (cm)\", \"sepal width (cm)\", \"sepal width (cm)\", \"sepal width (cm)\", \"sepal width (cm)\", \"sepal width (cm)\", \"sepal width (cm)\", \"sepal width (cm)\", \"sepal width (cm)\", \"sepal width (cm)\", \"sepal width (cm)\", \"sepal width (cm)\", \"sepal width (cm)\", \"sepal width (cm)\", \"sepal width (cm)\", \"sepal width (cm)\", \"sepal width (cm)\", \"sepal width (cm)\", \"sepal width (cm)\", \"sepal width (cm)\", \"sepal width (cm)\", \"sepal width (cm)\", \"sepal width (cm)\", \"sepal width (cm)\", \"sepal width (cm)\", \"sepal width (cm)\", \"sepal width (cm)\", \"sepal width (cm)\", \"sepal width (cm)\", \"sepal width (cm)\", \"sepal width (cm)\", \"sepal width (cm)\", \"sepal width (cm)\", \"sepal width (cm)\", \"sepal width (cm)\", \"sepal width (cm)\", \"sepal width (cm)\", \"sepal width (cm)\", \"sepal width (cm)\", \"sepal width (cm)\", \"sepal width (cm)\", \"sepal width (cm)\", \"sepal width (cm)\", \"sepal width (cm)\", \"sepal width (cm)\", \"sepal width (cm)\", \"sepal width (cm)\", \"sepal width (cm)\", \"sepal width (cm)\", \"sepal width (cm)\", \"sepal width (cm)\", \"sepal width (cm)\", \"sepal width (cm)\", \"sepal width (cm)\", \"sepal width (cm)\"], \"yaxis\": \"y2\"}, {\"legendgroup\": \"petal length (cm)\", \"marker\": {\"color\": \"rgb(44, 160, 44)\", \"symbol\": \"line-ns-open\"}, \"mode\": \"markers\", \"name\": \"petal length (cm)\", \"showlegend\": false, \"type\": \"scatter\", \"x\": [1.4, 1.4, 1.3, 1.5, 1.4, 1.7, 1.4, 1.5, 1.4, 1.5, 1.5, 1.6, 1.4, 1.1, 1.2, 1.5, 1.3, 1.4, 1.7, 1.5, 1.7, 1.5, 1.0, 1.7, 1.9, 1.6, 1.6, 1.5, 1.4, 1.6, 1.6, 1.5, 1.5, 1.4, 1.5, 1.2, 1.3, 1.4, 1.3, 1.5, 1.3, 1.3, 1.3, 1.6, 1.9, 1.4, 1.6, 1.4, 1.5, 1.4, 4.7, 4.5, 4.9, 4.0, 4.6, 4.5, 4.7, 3.3, 4.6, 3.9, 3.5, 4.2, 4.0, 4.7, 3.6, 4.4, 4.5, 4.1, 4.5, 3.9, 4.8, 4.0, 4.9, 4.7, 4.3, 4.4, 4.8, 5.0, 4.5, 3.5, 3.8, 3.7, 3.9, 5.1, 4.5, 4.5, 4.7, 4.4, 4.1, 4.0, 4.4, 4.6, 4.0, 3.3, 4.2, 4.2, 4.2, 4.3, 3.0, 4.1, 6.0, 5.1, 5.9, 5.6, 5.8, 6.6, 4.5, 6.3, 5.8, 6.1, 5.1, 5.3, 5.5, 5.0, 5.1, 5.3, 5.5, 6.7, 6.9, 5.0, 5.7, 4.9, 6.7, 4.9, 5.7, 6.0, 4.8, 4.9, 5.6, 5.8, 6.1, 6.4, 5.6, 5.1, 5.6, 6.1, 5.6, 5.5, 4.8, 5.4, 5.6, 5.1, 5.1, 5.9, 5.7, 5.2, 5.0, 5.2, 5.4, 5.1], \"xaxis\": \"x\", \"y\": [\"petal length (cm)\", \"petal length (cm)\", \"petal length (cm)\", \"petal length (cm)\", \"petal length (cm)\", \"petal length (cm)\", \"petal length (cm)\", \"petal length (cm)\", \"petal length (cm)\", \"petal length (cm)\", \"petal length (cm)\", \"petal length (cm)\", \"petal length (cm)\", \"petal length (cm)\", \"petal length (cm)\", \"petal length (cm)\", \"petal length (cm)\", \"petal length (cm)\", \"petal length (cm)\", \"petal length (cm)\", \"petal length (cm)\", \"petal length (cm)\", \"petal length (cm)\", \"petal length (cm)\", \"petal length (cm)\", \"petal length (cm)\", \"petal length (cm)\", \"petal length (cm)\", \"petal length (cm)\", \"petal length (cm)\", \"petal length (cm)\", \"petal length (cm)\", \"petal length (cm)\", \"petal length (cm)\", \"petal length (cm)\", \"petal length (cm)\", \"petal length (cm)\", \"petal length (cm)\", \"petal length (cm)\", \"petal length (cm)\", \"petal length (cm)\", \"petal length (cm)\", \"petal length (cm)\", \"petal length (cm)\", \"petal length (cm)\", \"petal length (cm)\", \"petal length (cm)\", \"petal length (cm)\", \"petal length (cm)\", \"petal length (cm)\", \"petal length (cm)\", \"petal length (cm)\", \"petal length (cm)\", \"petal length (cm)\", \"petal length (cm)\", \"petal length (cm)\", \"petal length (cm)\", \"petal length (cm)\", \"petal length (cm)\", \"petal length (cm)\", \"petal length (cm)\", \"petal length (cm)\", \"petal length (cm)\", \"petal length (cm)\", \"petal length (cm)\", \"petal length (cm)\", \"petal length (cm)\", \"petal length (cm)\", \"petal length (cm)\", \"petal length (cm)\", \"petal length (cm)\", \"petal length (cm)\", \"petal length (cm)\", \"petal length (cm)\", \"petal length (cm)\", \"petal length (cm)\", \"petal length (cm)\", \"petal length (cm)\", \"petal length (cm)\", \"petal length (cm)\", \"petal length (cm)\", \"petal length (cm)\", \"petal length (cm)\", \"petal length (cm)\", \"petal length (cm)\", \"petal length (cm)\", \"petal length (cm)\", \"petal length (cm)\", \"petal length (cm)\", \"petal length (cm)\", \"petal length (cm)\", \"petal length (cm)\", \"petal length (cm)\", \"petal length (cm)\", \"petal length (cm)\", \"petal length (cm)\", \"petal length (cm)\", \"petal length (cm)\", \"petal length (cm)\", \"petal length (cm)\", \"petal length (cm)\", \"petal length (cm)\", \"petal length (cm)\", \"petal length (cm)\", \"petal length (cm)\", \"petal length (cm)\", \"petal length (cm)\", \"petal length (cm)\", \"petal length (cm)\", \"petal length (cm)\", \"petal length (cm)\", \"petal length (cm)\", \"petal length (cm)\", \"petal length (cm)\", \"petal length (cm)\", \"petal length (cm)\", \"petal length (cm)\", \"petal length (cm)\", \"petal length (cm)\", \"petal length (cm)\", \"petal length (cm)\", \"petal length (cm)\", \"petal length (cm)\", \"petal length (cm)\", \"petal length (cm)\", \"petal length (cm)\", \"petal length (cm)\", \"petal length (cm)\", \"petal length (cm)\", \"petal length (cm)\", \"petal length (cm)\", \"petal length (cm)\", \"petal length (cm)\", \"petal length (cm)\", \"petal length (cm)\", \"petal length (cm)\", \"petal length (cm)\", \"petal length (cm)\", \"petal length (cm)\", \"petal length (cm)\", \"petal length (cm)\", \"petal length (cm)\", \"petal length (cm)\", \"petal length (cm)\", \"petal length (cm)\", \"petal length (cm)\", \"petal length (cm)\", \"petal length (cm)\", \"petal length (cm)\", \"petal length (cm)\"], \"yaxis\": \"y2\"}, {\"legendgroup\": \"petal width (cm)\", \"marker\": {\"color\": \"rgb(214, 39, 40)\", \"symbol\": \"line-ns-open\"}, \"mode\": \"markers\", \"name\": \"petal width (cm)\", \"showlegend\": false, \"type\": \"scatter\", \"x\": [0.2, 0.2, 0.2, 0.2, 0.2, 0.4, 0.3, 0.2, 0.2, 0.1, 0.2, 0.2, 0.1, 0.1, 0.2, 0.4, 0.4, 0.3, 0.3, 0.3, 0.2, 0.4, 0.2, 0.5, 0.2, 0.2, 0.4, 0.2, 0.2, 0.2, 0.2, 0.4, 0.1, 0.2, 0.2, 0.2, 0.2, 0.1, 0.2, 0.2, 0.3, 0.3, 0.2, 0.6, 0.4, 0.3, 0.2, 0.2, 0.2, 0.2, 1.4, 1.5, 1.5, 1.3, 1.5, 1.3, 1.6, 1.0, 1.3, 1.4, 1.0, 1.5, 1.0, 1.4, 1.3, 1.4, 1.5, 1.0, 1.5, 1.1, 1.8, 1.3, 1.5, 1.2, 1.3, 1.4, 1.4, 1.7, 1.5, 1.0, 1.1, 1.0, 1.2, 1.6, 1.5, 1.6, 1.5, 1.3, 1.3, 1.3, 1.2, 1.4, 1.2, 1.0, 1.3, 1.2, 1.3, 1.3, 1.1, 1.3, 2.5, 1.9, 2.1, 1.8, 2.2, 2.1, 1.7, 1.8, 1.8, 2.5, 2.0, 1.9, 2.1, 2.0, 2.4, 2.3, 1.8, 2.2, 2.3, 1.5, 2.3, 2.0, 2.0, 1.8, 2.1, 1.8, 1.8, 1.8, 2.1, 1.6, 1.9, 2.0, 2.2, 1.5, 1.4, 2.3, 2.4, 1.8, 1.8, 2.1, 2.4, 2.3, 1.9, 2.3, 2.5, 2.3, 1.9, 2.0, 2.3, 1.8], \"xaxis\": \"x\", \"y\": [\"petal width (cm)\", \"petal width (cm)\", \"petal width (cm)\", \"petal width (cm)\", \"petal width (cm)\", \"petal width (cm)\", \"petal width (cm)\", \"petal width (cm)\", \"petal width (cm)\", \"petal width (cm)\", \"petal width (cm)\", \"petal width (cm)\", \"petal width (cm)\", \"petal width (cm)\", \"petal width (cm)\", \"petal width (cm)\", \"petal width (cm)\", \"petal width (cm)\", \"petal width (cm)\", \"petal width (cm)\", \"petal width (cm)\", \"petal width (cm)\", \"petal width (cm)\", \"petal width (cm)\", \"petal width (cm)\", \"petal width (cm)\", \"petal width (cm)\", \"petal width (cm)\", \"petal width (cm)\", \"petal width (cm)\", \"petal width (cm)\", \"petal width (cm)\", \"petal width (cm)\", \"petal width (cm)\", \"petal width (cm)\", \"petal width (cm)\", \"petal width (cm)\", \"petal width (cm)\", \"petal width (cm)\", \"petal width (cm)\", \"petal width (cm)\", \"petal width (cm)\", \"petal width (cm)\", \"petal width (cm)\", \"petal width (cm)\", \"petal width (cm)\", \"petal width (cm)\", \"petal width (cm)\", \"petal width (cm)\", \"petal width (cm)\", \"petal width (cm)\", \"petal width (cm)\", \"petal width (cm)\", \"petal width (cm)\", \"petal width (cm)\", \"petal width (cm)\", \"petal width (cm)\", \"petal width (cm)\", \"petal width (cm)\", \"petal width (cm)\", \"petal width (cm)\", \"petal width (cm)\", \"petal width (cm)\", \"petal width (cm)\", \"petal width (cm)\", \"petal width (cm)\", \"petal width (cm)\", \"petal width (cm)\", \"petal width (cm)\", \"petal width (cm)\", \"petal width (cm)\", \"petal width (cm)\", \"petal width (cm)\", \"petal width (cm)\", \"petal width (cm)\", \"petal width (cm)\", \"petal width (cm)\", \"petal width (cm)\", \"petal width (cm)\", \"petal width (cm)\", \"petal width (cm)\", \"petal width (cm)\", \"petal width (cm)\", \"petal width (cm)\", \"petal width (cm)\", \"petal width (cm)\", \"petal width (cm)\", \"petal width (cm)\", \"petal width (cm)\", \"petal width (cm)\", \"petal width (cm)\", \"petal width (cm)\", \"petal width (cm)\", \"petal width (cm)\", \"petal width (cm)\", \"petal width (cm)\", \"petal width (cm)\", \"petal width (cm)\", \"petal width (cm)\", \"petal width (cm)\", \"petal width (cm)\", \"petal width (cm)\", \"petal width (cm)\", \"petal width (cm)\", \"petal width (cm)\", \"petal width (cm)\", \"petal width (cm)\", \"petal width (cm)\", \"petal width (cm)\", \"petal width (cm)\", \"petal width (cm)\", \"petal width (cm)\", \"petal width (cm)\", \"petal width (cm)\", \"petal width (cm)\", \"petal width (cm)\", \"petal width (cm)\", \"petal width (cm)\", \"petal width (cm)\", \"petal width (cm)\", \"petal width (cm)\", \"petal width (cm)\", \"petal width (cm)\", \"petal width (cm)\", \"petal width (cm)\", \"petal width (cm)\", \"petal width (cm)\", \"petal width (cm)\", \"petal width (cm)\", \"petal width (cm)\", \"petal width (cm)\", \"petal width (cm)\", \"petal width (cm)\", \"petal width (cm)\", \"petal width (cm)\", \"petal width (cm)\", \"petal width (cm)\", \"petal width (cm)\", \"petal width (cm)\", \"petal width (cm)\", \"petal width (cm)\", \"petal width (cm)\", \"petal width (cm)\", \"petal width (cm)\", \"petal width (cm)\", \"petal width (cm)\", \"petal width (cm)\", \"petal width (cm)\", \"petal width (cm)\", \"petal width (cm)\"], \"yaxis\": \"y2\"}],\n",
              "                        {\"barmode\": \"overlay\", \"hovermode\": \"closest\", \"legend\": {\"traceorder\": \"reversed\"}, \"template\": {\"data\": {\"bar\": [{\"error_x\": {\"color\": \"#2a3f5f\"}, \"error_y\": {\"color\": \"#2a3f5f\"}, \"marker\": {\"line\": {\"color\": \"#E5ECF6\", \"width\": 0.5}}, \"type\": \"bar\"}], \"barpolar\": [{\"marker\": {\"line\": {\"color\": \"#E5ECF6\", \"width\": 0.5}}, \"type\": \"barpolar\"}], \"carpet\": [{\"aaxis\": {\"endlinecolor\": \"#2a3f5f\", \"gridcolor\": \"white\", \"linecolor\": \"white\", \"minorgridcolor\": \"white\", \"startlinecolor\": \"#2a3f5f\"}, \"baxis\": {\"endlinecolor\": \"#2a3f5f\", \"gridcolor\": \"white\", \"linecolor\": \"white\", \"minorgridcolor\": \"white\", \"startlinecolor\": \"#2a3f5f\"}, \"type\": \"carpet\"}], \"choropleth\": [{\"colorbar\": {\"outlinewidth\": 0, \"ticks\": \"\"}, \"type\": \"choropleth\"}], \"contour\": [{\"colorbar\": {\"outlinewidth\": 0, \"ticks\": \"\"}, \"colorscale\": [[0.0, \"#0d0887\"], [0.1111111111111111, \"#46039f\"], [0.2222222222222222, \"#7201a8\"], [0.3333333333333333, \"#9c179e\"], [0.4444444444444444, \"#bd3786\"], [0.5555555555555556, \"#d8576b\"], [0.6666666666666666, \"#ed7953\"], [0.7777777777777778, \"#fb9f3a\"], [0.8888888888888888, \"#fdca26\"], [1.0, \"#f0f921\"]], \"type\": \"contour\"}], \"contourcarpet\": [{\"colorbar\": {\"outlinewidth\": 0, \"ticks\": \"\"}, \"type\": \"contourcarpet\"}], \"heatmap\": [{\"colorbar\": {\"outlinewidth\": 0, \"ticks\": \"\"}, \"colorscale\": [[0.0, \"#0d0887\"], [0.1111111111111111, \"#46039f\"], [0.2222222222222222, \"#7201a8\"], [0.3333333333333333, \"#9c179e\"], [0.4444444444444444, \"#bd3786\"], [0.5555555555555556, \"#d8576b\"], [0.6666666666666666, \"#ed7953\"], [0.7777777777777778, \"#fb9f3a\"], [0.8888888888888888, \"#fdca26\"], [1.0, \"#f0f921\"]], \"type\": \"heatmap\"}], \"heatmapgl\": [{\"colorbar\": {\"outlinewidth\": 0, \"ticks\": \"\"}, \"colorscale\": [[0.0, \"#0d0887\"], [0.1111111111111111, \"#46039f\"], [0.2222222222222222, \"#7201a8\"], [0.3333333333333333, \"#9c179e\"], [0.4444444444444444, \"#bd3786\"], [0.5555555555555556, \"#d8576b\"], [0.6666666666666666, \"#ed7953\"], [0.7777777777777778, \"#fb9f3a\"], [0.8888888888888888, \"#fdca26\"], [1.0, \"#f0f921\"]], \"type\": \"heatmapgl\"}], \"histogram\": [{\"marker\": {\"colorbar\": {\"outlinewidth\": 0, \"ticks\": \"\"}}, \"type\": \"histogram\"}], \"histogram2d\": [{\"colorbar\": {\"outlinewidth\": 0, \"ticks\": \"\"}, \"colorscale\": [[0.0, \"#0d0887\"], [0.1111111111111111, \"#46039f\"], [0.2222222222222222, \"#7201a8\"], [0.3333333333333333, \"#9c179e\"], [0.4444444444444444, \"#bd3786\"], [0.5555555555555556, \"#d8576b\"], [0.6666666666666666, \"#ed7953\"], [0.7777777777777778, \"#fb9f3a\"], [0.8888888888888888, \"#fdca26\"], [1.0, \"#f0f921\"]], \"type\": \"histogram2d\"}], \"histogram2dcontour\": [{\"colorbar\": {\"outlinewidth\": 0, \"ticks\": \"\"}, \"colorscale\": [[0.0, \"#0d0887\"], [0.1111111111111111, \"#46039f\"], [0.2222222222222222, \"#7201a8\"], [0.3333333333333333, \"#9c179e\"], [0.4444444444444444, \"#bd3786\"], [0.5555555555555556, \"#d8576b\"], [0.6666666666666666, \"#ed7953\"], [0.7777777777777778, \"#fb9f3a\"], [0.8888888888888888, \"#fdca26\"], [1.0, \"#f0f921\"]], \"type\": \"histogram2dcontour\"}], \"mesh3d\": [{\"colorbar\": {\"outlinewidth\": 0, \"ticks\": \"\"}, \"type\": \"mesh3d\"}], \"parcoords\": [{\"line\": {\"colorbar\": {\"outlinewidth\": 0, \"ticks\": \"\"}}, \"type\": \"parcoords\"}], \"scatter\": [{\"marker\": {\"colorbar\": {\"outlinewidth\": 0, \"ticks\": \"\"}}, \"type\": \"scatter\"}], \"scatter3d\": [{\"line\": {\"colorbar\": {\"outlinewidth\": 0, \"ticks\": \"\"}}, \"marker\": {\"colorbar\": {\"outlinewidth\": 0, \"ticks\": \"\"}}, \"type\": \"scatter3d\"}], \"scattercarpet\": [{\"marker\": {\"colorbar\": {\"outlinewidth\": 0, \"ticks\": \"\"}}, \"type\": \"scattercarpet\"}], \"scattergeo\": [{\"marker\": {\"colorbar\": {\"outlinewidth\": 0, \"ticks\": \"\"}}, \"type\": \"scattergeo\"}], \"scattergl\": [{\"marker\": {\"colorbar\": {\"outlinewidth\": 0, \"ticks\": \"\"}}, \"type\": \"scattergl\"}], \"scattermapbox\": [{\"marker\": {\"colorbar\": {\"outlinewidth\": 0, \"ticks\": \"\"}}, \"type\": \"scattermapbox\"}], \"scatterpolar\": [{\"marker\": {\"colorbar\": {\"outlinewidth\": 0, \"ticks\": \"\"}}, \"type\": \"scatterpolar\"}], \"scatterpolargl\": [{\"marker\": {\"colorbar\": {\"outlinewidth\": 0, \"ticks\": \"\"}}, \"type\": \"scatterpolargl\"}], \"scatterternary\": [{\"marker\": {\"colorbar\": {\"outlinewidth\": 0, \"ticks\": \"\"}}, \"type\": \"scatterternary\"}], \"surface\": [{\"colorbar\": {\"outlinewidth\": 0, \"ticks\": \"\"}, \"colorscale\": [[0.0, \"#0d0887\"], [0.1111111111111111, \"#46039f\"], [0.2222222222222222, \"#7201a8\"], [0.3333333333333333, \"#9c179e\"], [0.4444444444444444, \"#bd3786\"], [0.5555555555555556, \"#d8576b\"], [0.6666666666666666, \"#ed7953\"], [0.7777777777777778, \"#fb9f3a\"], [0.8888888888888888, \"#fdca26\"], [1.0, \"#f0f921\"]], \"type\": \"surface\"}], \"table\": [{\"cells\": {\"fill\": {\"color\": \"#EBF0F8\"}, \"line\": {\"color\": \"white\"}}, \"header\": {\"fill\": {\"color\": \"#C8D4E3\"}, \"line\": {\"color\": \"white\"}}, \"type\": \"table\"}]}, \"layout\": {\"annotationdefaults\": {\"arrowcolor\": \"#2a3f5f\", \"arrowhead\": 0, \"arrowwidth\": 1}, \"colorscale\": {\"diverging\": [[0, \"#8e0152\"], [0.1, \"#c51b7d\"], [0.2, \"#de77ae\"], [0.3, \"#f1b6da\"], [0.4, \"#fde0ef\"], [0.5, \"#f7f7f7\"], [0.6, \"#e6f5d0\"], [0.7, \"#b8e186\"], [0.8, \"#7fbc41\"], [0.9, \"#4d9221\"], [1, \"#276419\"]], \"sequential\": [[0.0, \"#0d0887\"], [0.1111111111111111, \"#46039f\"], [0.2222222222222222, \"#7201a8\"], [0.3333333333333333, \"#9c179e\"], [0.4444444444444444, \"#bd3786\"], [0.5555555555555556, \"#d8576b\"], [0.6666666666666666, \"#ed7953\"], [0.7777777777777778, \"#fb9f3a\"], [0.8888888888888888, \"#fdca26\"], [1.0, \"#f0f921\"]], \"sequentialminus\": [[0.0, \"#0d0887\"], [0.1111111111111111, \"#46039f\"], [0.2222222222222222, \"#7201a8\"], [0.3333333333333333, \"#9c179e\"], [0.4444444444444444, \"#bd3786\"], [0.5555555555555556, \"#d8576b\"], [0.6666666666666666, \"#ed7953\"], [0.7777777777777778, \"#fb9f3a\"], [0.8888888888888888, \"#fdca26\"], [1.0, \"#f0f921\"]]}, \"colorway\": [\"#636efa\", \"#EF553B\", \"#00cc96\", \"#ab63fa\", \"#FFA15A\", \"#19d3f3\", \"#FF6692\", \"#B6E880\", \"#FF97FF\", \"#FECB52\"], \"font\": {\"color\": \"#2a3f5f\"}, \"geo\": {\"bgcolor\": \"white\", \"lakecolor\": \"white\", \"landcolor\": \"#E5ECF6\", \"showlakes\": true, \"showland\": true, \"subunitcolor\": \"white\"}, \"hoverlabel\": {\"align\": \"left\"}, \"hovermode\": \"closest\", \"mapbox\": {\"style\": \"light\"}, \"paper_bgcolor\": \"white\", \"plot_bgcolor\": \"#E5ECF6\", \"polar\": {\"angularaxis\": {\"gridcolor\": \"white\", \"linecolor\": \"white\", \"ticks\": \"\"}, \"bgcolor\": \"#E5ECF6\", \"radialaxis\": {\"gridcolor\": \"white\", \"linecolor\": \"white\", \"ticks\": \"\"}}, \"scene\": {\"xaxis\": {\"backgroundcolor\": \"#E5ECF6\", \"gridcolor\": \"white\", \"gridwidth\": 2, \"linecolor\": \"white\", \"showbackground\": true, \"ticks\": \"\", \"zerolinecolor\": \"white\"}, \"yaxis\": {\"backgroundcolor\": \"#E5ECF6\", \"gridcolor\": \"white\", \"gridwidth\": 2, \"linecolor\": \"white\", \"showbackground\": true, \"ticks\": \"\", \"zerolinecolor\": \"white\"}, \"zaxis\": {\"backgroundcolor\": \"#E5ECF6\", \"gridcolor\": \"white\", \"gridwidth\": 2, \"linecolor\": \"white\", \"showbackground\": true, \"ticks\": \"\", \"zerolinecolor\": \"white\"}}, \"shapedefaults\": {\"line\": {\"color\": \"#2a3f5f\"}}, \"ternary\": {\"aaxis\": {\"gridcolor\": \"white\", \"linecolor\": \"white\", \"ticks\": \"\"}, \"baxis\": {\"gridcolor\": \"white\", \"linecolor\": \"white\", \"ticks\": \"\"}, \"bgcolor\": \"#E5ECF6\", \"caxis\": {\"gridcolor\": \"white\", \"linecolor\": \"white\", \"ticks\": \"\"}}, \"title\": {\"x\": 0.05}, \"xaxis\": {\"automargin\": true, \"gridcolor\": \"white\", \"linecolor\": \"white\", \"ticks\": \"\", \"zerolinecolor\": \"white\", \"zerolinewidth\": 2}, \"yaxis\": {\"automargin\": true, \"gridcolor\": \"white\", \"linecolor\": \"white\", \"ticks\": \"\", \"zerolinecolor\": \"white\", \"zerolinewidth\": 2}}}, \"xaxis\": {\"anchor\": \"y2\", \"domain\": [0.0, 1.0], \"zeroline\": false}, \"yaxis\": {\"anchor\": \"free\", \"domain\": [0.35, 1], \"position\": 0.0}, \"yaxis2\": {\"anchor\": \"x\", \"domain\": [0, 0.25], \"dtick\": 1, \"showticklabels\": false}},\n",
              "                        {\"responsive\": true}\n",
              "                    ).then(function(){\n",
              "                            \n",
              "var gd = document.getElementById('cfd5512a-1a38-4c42-b691-a5bdc40372a6');\n",
              "var x = new MutationObserver(function (mutations, observer) {{\n",
              "        var display = window.getComputedStyle(gd).display;\n",
              "        if (!display || display === 'none') {{\n",
              "            console.log([gd, 'removed!']);\n",
              "            Plotly.purge(gd);\n",
              "            observer.disconnect();\n",
              "        }}\n",
              "}});\n",
              "\n",
              "// Listen for the removal of the full notebook cells\n",
              "var notebookContainer = gd.closest('#notebook-container');\n",
              "if (notebookContainer) {{\n",
              "    x.observe(notebookContainer, {childList: true});\n",
              "}}\n",
              "\n",
              "// Listen for the clearing of the current output cell\n",
              "var outputEl = gd.closest('.output');\n",
              "if (outputEl) {{\n",
              "    x.observe(outputEl, {childList: true});\n",
              "}}\n",
              "\n",
              "                        })\n",
              "                };\n",
              "                \n",
              "            </script>\n",
              "        </div>\n",
              "</body>\n",
              "</html>"
            ]
          },
          "metadata": {
            "tags": []
          }
        }
      ]
    },
    {
      "cell_type": "markdown",
      "metadata": {
        "id": "jUDzVlvYmVps"
      },
      "source": [
        "## Scatter Plots"
      ]
    },
    {
      "cell_type": "code",
      "metadata": {
        "id": "kGKKi6UVmqsJ"
      },
      "source": [
        "data = pd.read_csv('https://gist.githubusercontent.com/netj/8836201/raw/6f9306ad21398ea43cba4f7d537619d0e07d5ae3/iris.csv')"
      ],
      "execution_count": null,
      "outputs": []
    },
    {
      "cell_type": "code",
      "metadata": {
        "id": "si0g_Q7CnzFT",
        "colab": {
          "base_uri": "https://localhost:8080/",
          "height": 204
        },
        "outputId": "0ab30fff-cfad-485b-dc79-fc71079f77d2"
      },
      "source": [
        "data.head()"
      ],
      "execution_count": null,
      "outputs": [
        {
          "output_type": "execute_result",
          "data": {
            "text/html": [
              "<div>\n",
              "<style scoped>\n",
              "    .dataframe tbody tr th:only-of-type {\n",
              "        vertical-align: middle;\n",
              "    }\n",
              "\n",
              "    .dataframe tbody tr th {\n",
              "        vertical-align: top;\n",
              "    }\n",
              "\n",
              "    .dataframe thead th {\n",
              "        text-align: right;\n",
              "    }\n",
              "</style>\n",
              "<table border=\"1\" class=\"dataframe\">\n",
              "  <thead>\n",
              "    <tr style=\"text-align: right;\">\n",
              "      <th></th>\n",
              "      <th>sepal.length</th>\n",
              "      <th>sepal.width</th>\n",
              "      <th>petal.length</th>\n",
              "      <th>petal.width</th>\n",
              "      <th>variety</th>\n",
              "    </tr>\n",
              "  </thead>\n",
              "  <tbody>\n",
              "    <tr>\n",
              "      <th>0</th>\n",
              "      <td>5.1</td>\n",
              "      <td>3.5</td>\n",
              "      <td>1.4</td>\n",
              "      <td>0.2</td>\n",
              "      <td>Setosa</td>\n",
              "    </tr>\n",
              "    <tr>\n",
              "      <th>1</th>\n",
              "      <td>4.9</td>\n",
              "      <td>3.0</td>\n",
              "      <td>1.4</td>\n",
              "      <td>0.2</td>\n",
              "      <td>Setosa</td>\n",
              "    </tr>\n",
              "    <tr>\n",
              "      <th>2</th>\n",
              "      <td>4.7</td>\n",
              "      <td>3.2</td>\n",
              "      <td>1.3</td>\n",
              "      <td>0.2</td>\n",
              "      <td>Setosa</td>\n",
              "    </tr>\n",
              "    <tr>\n",
              "      <th>3</th>\n",
              "      <td>4.6</td>\n",
              "      <td>3.1</td>\n",
              "      <td>1.5</td>\n",
              "      <td>0.2</td>\n",
              "      <td>Setosa</td>\n",
              "    </tr>\n",
              "    <tr>\n",
              "      <th>4</th>\n",
              "      <td>5.0</td>\n",
              "      <td>3.6</td>\n",
              "      <td>1.4</td>\n",
              "      <td>0.2</td>\n",
              "      <td>Setosa</td>\n",
              "    </tr>\n",
              "  </tbody>\n",
              "</table>\n",
              "</div>"
            ],
            "text/plain": [
              "   sepal.length  sepal.width  petal.length  petal.width variety\n",
              "0           5.1          3.5           1.4          0.2  Setosa\n",
              "1           4.9          3.0           1.4          0.2  Setosa\n",
              "2           4.7          3.2           1.3          0.2  Setosa\n",
              "3           4.6          3.1           1.5          0.2  Setosa\n",
              "4           5.0          3.6           1.4          0.2  Setosa"
            ]
          },
          "metadata": {
            "tags": []
          },
          "execution_count": 96
        }
      ]
    },
    {
      "cell_type": "code",
      "metadata": {
        "id": "uwyDqxVYqIHS",
        "colab": {
          "base_uri": "https://localhost:8080/",
          "height": 204
        },
        "outputId": "89fbe341-c61e-44c2-a0f8-6fc49e79784c"
      },
      "source": [
        "data.tail()"
      ],
      "execution_count": null,
      "outputs": [
        {
          "output_type": "execute_result",
          "data": {
            "text/html": [
              "<div>\n",
              "<style scoped>\n",
              "    .dataframe tbody tr th:only-of-type {\n",
              "        vertical-align: middle;\n",
              "    }\n",
              "\n",
              "    .dataframe tbody tr th {\n",
              "        vertical-align: top;\n",
              "    }\n",
              "\n",
              "    .dataframe thead th {\n",
              "        text-align: right;\n",
              "    }\n",
              "</style>\n",
              "<table border=\"1\" class=\"dataframe\">\n",
              "  <thead>\n",
              "    <tr style=\"text-align: right;\">\n",
              "      <th></th>\n",
              "      <th>sepal.length</th>\n",
              "      <th>sepal.width</th>\n",
              "      <th>petal.length</th>\n",
              "      <th>petal.width</th>\n",
              "      <th>variety</th>\n",
              "    </tr>\n",
              "  </thead>\n",
              "  <tbody>\n",
              "    <tr>\n",
              "      <th>145</th>\n",
              "      <td>6.7</td>\n",
              "      <td>3.0</td>\n",
              "      <td>5.2</td>\n",
              "      <td>2.3</td>\n",
              "      <td>Virginica</td>\n",
              "    </tr>\n",
              "    <tr>\n",
              "      <th>146</th>\n",
              "      <td>6.3</td>\n",
              "      <td>2.5</td>\n",
              "      <td>5.0</td>\n",
              "      <td>1.9</td>\n",
              "      <td>Virginica</td>\n",
              "    </tr>\n",
              "    <tr>\n",
              "      <th>147</th>\n",
              "      <td>6.5</td>\n",
              "      <td>3.0</td>\n",
              "      <td>5.2</td>\n",
              "      <td>2.0</td>\n",
              "      <td>Virginica</td>\n",
              "    </tr>\n",
              "    <tr>\n",
              "      <th>148</th>\n",
              "      <td>6.2</td>\n",
              "      <td>3.4</td>\n",
              "      <td>5.4</td>\n",
              "      <td>2.3</td>\n",
              "      <td>Virginica</td>\n",
              "    </tr>\n",
              "    <tr>\n",
              "      <th>149</th>\n",
              "      <td>5.9</td>\n",
              "      <td>3.0</td>\n",
              "      <td>5.1</td>\n",
              "      <td>1.8</td>\n",
              "      <td>Virginica</td>\n",
              "    </tr>\n",
              "  </tbody>\n",
              "</table>\n",
              "</div>"
            ],
            "text/plain": [
              "     sepal.length  sepal.width  petal.length  petal.width    variety\n",
              "145           6.7          3.0           5.2          2.3  Virginica\n",
              "146           6.3          2.5           5.0          1.9  Virginica\n",
              "147           6.5          3.0           5.2          2.0  Virginica\n",
              "148           6.2          3.4           5.4          2.3  Virginica\n",
              "149           5.9          3.0           5.1          1.8  Virginica"
            ]
          },
          "metadata": {
            "tags": []
          },
          "execution_count": 104
        }
      ]
    },
    {
      "cell_type": "code",
      "metadata": {
        "id": "_k5IhCkhqKnd",
        "colab": {
          "base_uri": "https://localhost:8080/",
          "height": 442
        },
        "outputId": "d58c8b9f-4e80-4b57-e261-5504164aab18"
      },
      "source": [
        "print(data.variety.values)"
      ],
      "execution_count": null,
      "outputs": [
        {
          "output_type": "stream",
          "text": [
            "['Setosa' 'Setosa' 'Setosa' 'Setosa' 'Setosa' 'Setosa' 'Setosa' 'Setosa'\n",
            " 'Setosa' 'Setosa' 'Setosa' 'Setosa' 'Setosa' 'Setosa' 'Setosa' 'Setosa'\n",
            " 'Setosa' 'Setosa' 'Setosa' 'Setosa' 'Setosa' 'Setosa' 'Setosa' 'Setosa'\n",
            " 'Setosa' 'Setosa' 'Setosa' 'Setosa' 'Setosa' 'Setosa' 'Setosa' 'Setosa'\n",
            " 'Setosa' 'Setosa' 'Setosa' 'Setosa' 'Setosa' 'Setosa' 'Setosa' 'Setosa'\n",
            " 'Setosa' 'Setosa' 'Setosa' 'Setosa' 'Setosa' 'Setosa' 'Setosa' 'Setosa'\n",
            " 'Setosa' 'Setosa' 'Versicolor' 'Versicolor' 'Versicolor' 'Versicolor'\n",
            " 'Versicolor' 'Versicolor' 'Versicolor' 'Versicolor' 'Versicolor'\n",
            " 'Versicolor' 'Versicolor' 'Versicolor' 'Versicolor' 'Versicolor'\n",
            " 'Versicolor' 'Versicolor' 'Versicolor' 'Versicolor' 'Versicolor'\n",
            " 'Versicolor' 'Versicolor' 'Versicolor' 'Versicolor' 'Versicolor'\n",
            " 'Versicolor' 'Versicolor' 'Versicolor' 'Versicolor' 'Versicolor'\n",
            " 'Versicolor' 'Versicolor' 'Versicolor' 'Versicolor' 'Versicolor'\n",
            " 'Versicolor' 'Versicolor' 'Versicolor' 'Versicolor' 'Versicolor'\n",
            " 'Versicolor' 'Versicolor' 'Versicolor' 'Versicolor' 'Versicolor'\n",
            " 'Versicolor' 'Versicolor' 'Versicolor' 'Versicolor' 'Versicolor'\n",
            " 'Versicolor' 'Virginica' 'Virginica' 'Virginica' 'Virginica' 'Virginica'\n",
            " 'Virginica' 'Virginica' 'Virginica' 'Virginica' 'Virginica' 'Virginica'\n",
            " 'Virginica' 'Virginica' 'Virginica' 'Virginica' 'Virginica' 'Virginica'\n",
            " 'Virginica' 'Virginica' 'Virginica' 'Virginica' 'Virginica' 'Virginica'\n",
            " 'Virginica' 'Virginica' 'Virginica' 'Virginica' 'Virginica' 'Virginica'\n",
            " 'Virginica' 'Virginica' 'Virginica' 'Virginica' 'Virginica' 'Virginica'\n",
            " 'Virginica' 'Virginica' 'Virginica' 'Virginica' 'Virginica' 'Virginica'\n",
            " 'Virginica' 'Virginica' 'Virginica' 'Virginica' 'Virginica' 'Virginica'\n",
            " 'Virginica' 'Virginica' 'Virginica']\n"
          ],
          "name": "stdout"
        }
      ]
    },
    {
      "cell_type": "code",
      "metadata": {
        "id": "ttKSmwhPlopf",
        "colab": {
          "base_uri": "https://localhost:8080/",
          "height": 617
        },
        "outputId": "1f86fd15-9f68-4498-a954-fbb0e2308af2"
      },
      "source": [
        "fig = px.scatter(data, x='sepal.length',\n",
        "                 y='sepal.width',\n",
        "                 size='petal.length', hover_data=['petal.width'],\n",
        "                 color = 'variety')\n",
        "\n",
        "fig.show()"
      ],
      "execution_count": null,
      "outputs": [
        {
          "output_type": "display_data",
          "data": {
            "text/html": [
              "<html>\n",
              "<head><meta charset=\"utf-8\" /></head>\n",
              "<body>\n",
              "    <div>\n",
              "            <script src=\"https://cdnjs.cloudflare.com/ajax/libs/mathjax/2.7.5/MathJax.js?config=TeX-AMS-MML_SVG\"></script><script type=\"text/javascript\">if (window.MathJax) {MathJax.Hub.Config({SVG: {font: \"STIX-Web\"}});}</script>\n",
              "                <script type=\"text/javascript\">window.PlotlyConfig = {MathJaxConfig: 'local'};</script>\n",
              "        <script src=\"https://cdn.plot.ly/plotly-latest.min.js\"></script>    \n",
              "            <div id=\"f0b80042-f017-4e55-841c-80a4d634a8c8\" class=\"plotly-graph-div\" style=\"height:600px; width:100%;\"></div>\n",
              "            <script type=\"text/javascript\">\n",
              "                \n",
              "                    window.PLOTLYENV=window.PLOTLYENV || {};\n",
              "                    \n",
              "                if (document.getElementById(\"f0b80042-f017-4e55-841c-80a4d634a8c8\")) {\n",
              "                    Plotly.newPlot(\n",
              "                        'f0b80042-f017-4e55-841c-80a4d634a8c8',\n",
              "                        [{\"customdata\": [[0.2], [0.2], [0.2], [0.2], [0.2], [0.4], [0.3], [0.2], [0.2], [0.1], [0.2], [0.2], [0.1], [0.1], [0.2], [0.4], [0.4], [0.3], [0.3], [0.3], [0.2], [0.4], [0.2], [0.5], [0.2], [0.2], [0.4], [0.2], [0.2], [0.2], [0.2], [0.4], [0.1], [0.2], [0.2], [0.2], [0.2], [0.1], [0.2], [0.2], [0.3], [0.3], [0.2], [0.6], [0.4], [0.3], [0.2], [0.2], [0.2], [0.2]], \"hoverlabel\": {\"namelength\": 0}, \"hovertemplate\": \"variety=Setosa<br>sepal.length=%{x}<br>sepal.width=%{y}<br>petal.length=%{marker.size}<br>petal.width=%{customdata[0]}\", \"legendgroup\": \"variety=Setosa\", \"marker\": {\"color\": \"#636efa\", \"size\": [1.4, 1.4, 1.3, 1.5, 1.4, 1.7, 1.4, 1.5, 1.4, 1.5, 1.5, 1.6, 1.4, 1.1, 1.2, 1.5, 1.3, 1.4, 1.7, 1.5, 1.7, 1.5, 1.0, 1.7, 1.9, 1.6, 1.6, 1.5, 1.4, 1.6, 1.6, 1.5, 1.5, 1.4, 1.5, 1.2, 1.3, 1.4, 1.3, 1.5, 1.3, 1.3, 1.3, 1.6, 1.9, 1.4, 1.6, 1.4, 1.5, 1.4], \"sizemode\": \"area\", \"sizeref\": 0.01725, \"symbol\": \"circle\"}, \"mode\": \"markers\", \"name\": \"variety=Setosa\", \"showlegend\": true, \"type\": \"scatter\", \"x\": [5.1, 4.9, 4.7, 4.6, 5.0, 5.4, 4.6, 5.0, 4.4, 4.9, 5.4, 4.8, 4.8, 4.3, 5.8, 5.7, 5.4, 5.1, 5.7, 5.1, 5.4, 5.1, 4.6, 5.1, 4.8, 5.0, 5.0, 5.2, 5.2, 4.7, 4.8, 5.4, 5.2, 5.5, 4.9, 5.0, 5.5, 4.9, 4.4, 5.1, 5.0, 4.5, 4.4, 5.0, 5.1, 4.8, 5.1, 4.6, 5.3, 5.0], \"xaxis\": \"x\", \"y\": [3.5, 3.0, 3.2, 3.1, 3.6, 3.9, 3.4, 3.4, 2.9, 3.1, 3.7, 3.4, 3.0, 3.0, 4.0, 4.4, 3.9, 3.5, 3.8, 3.8, 3.4, 3.7, 3.6, 3.3, 3.4, 3.0, 3.4, 3.5, 3.4, 3.2, 3.1, 3.4, 4.1, 4.2, 3.1, 3.2, 3.5, 3.6, 3.0, 3.4, 3.5, 2.3, 3.2, 3.5, 3.8, 3.0, 3.8, 3.2, 3.7, 3.3], \"yaxis\": \"y\"}, {\"customdata\": [[1.4], [1.5], [1.5], [1.3], [1.5], [1.3], [1.6], [1.0], [1.3], [1.4], [1.0], [1.5], [1.0], [1.4], [1.3], [1.4], [1.5], [1.0], [1.5], [1.1], [1.8], [1.3], [1.5], [1.2], [1.3], [1.4], [1.4], [1.7], [1.5], [1.0], [1.1], [1.0], [1.2], [1.6], [1.5], [1.6], [1.5], [1.3], [1.3], [1.3], [1.2], [1.4], [1.2], [1.0], [1.3], [1.2], [1.3], [1.3], [1.1], [1.3]], \"hoverlabel\": {\"namelength\": 0}, \"hovertemplate\": \"variety=Versicolor<br>sepal.length=%{x}<br>sepal.width=%{y}<br>petal.length=%{marker.size}<br>petal.width=%{customdata[0]}\", \"legendgroup\": \"variety=Versicolor\", \"marker\": {\"color\": \"#EF553B\", \"size\": [4.7, 4.5, 4.9, 4.0, 4.6, 4.5, 4.7, 3.3, 4.6, 3.9, 3.5, 4.2, 4.0, 4.7, 3.6, 4.4, 4.5, 4.1, 4.5, 3.9, 4.8, 4.0, 4.9, 4.7, 4.3, 4.4, 4.8, 5.0, 4.5, 3.5, 3.8, 3.7, 3.9, 5.1, 4.5, 4.5, 4.7, 4.4, 4.1, 4.0, 4.4, 4.6, 4.0, 3.3, 4.2, 4.2, 4.2, 4.3, 3.0, 4.1], \"sizemode\": \"area\", \"sizeref\": 0.01725, \"symbol\": \"circle\"}, \"mode\": \"markers\", \"name\": \"variety=Versicolor\", \"showlegend\": true, \"type\": \"scatter\", \"x\": [7.0, 6.4, 6.9, 5.5, 6.5, 5.7, 6.3, 4.9, 6.6, 5.2, 5.0, 5.9, 6.0, 6.1, 5.6, 6.7, 5.6, 5.8, 6.2, 5.6, 5.9, 6.1, 6.3, 6.1, 6.4, 6.6, 6.8, 6.7, 6.0, 5.7, 5.5, 5.5, 5.8, 6.0, 5.4, 6.0, 6.7, 6.3, 5.6, 5.5, 5.5, 6.1, 5.8, 5.0, 5.6, 5.7, 5.7, 6.2, 5.1, 5.7], \"xaxis\": \"x\", \"y\": [3.2, 3.2, 3.1, 2.3, 2.8, 2.8, 3.3, 2.4, 2.9, 2.7, 2.0, 3.0, 2.2, 2.9, 2.9, 3.1, 3.0, 2.7, 2.2, 2.5, 3.2, 2.8, 2.5, 2.8, 2.9, 3.0, 2.8, 3.0, 2.9, 2.6, 2.4, 2.4, 2.7, 2.7, 3.0, 3.4, 3.1, 2.3, 3.0, 2.5, 2.6, 3.0, 2.6, 2.3, 2.7, 3.0, 2.9, 2.9, 2.5, 2.8], \"yaxis\": \"y\"}, {\"customdata\": [[2.5], [1.9], [2.1], [1.8], [2.2], [2.1], [1.7], [1.8], [1.8], [2.5], [2.0], [1.9], [2.1], [2.0], [2.4], [2.3], [1.8], [2.2], [2.3], [1.5], [2.3], [2.0], [2.0], [1.8], [2.1], [1.8], [1.8], [1.8], [2.1], [1.6], [1.9], [2.0], [2.2], [1.5], [1.4], [2.3], [2.4], [1.8], [1.8], [2.1], [2.4], [2.3], [1.9], [2.3], [2.5], [2.3], [1.9], [2.0], [2.3], [1.8]], \"hoverlabel\": {\"namelength\": 0}, \"hovertemplate\": \"variety=Virginica<br>sepal.length=%{x}<br>sepal.width=%{y}<br>petal.length=%{marker.size}<br>petal.width=%{customdata[0]}\", \"legendgroup\": \"variety=Virginica\", \"marker\": {\"color\": \"#00cc96\", \"size\": [6.0, 5.1, 5.9, 5.6, 5.8, 6.6, 4.5, 6.3, 5.8, 6.1, 5.1, 5.3, 5.5, 5.0, 5.1, 5.3, 5.5, 6.7, 6.9, 5.0, 5.7, 4.9, 6.7, 4.9, 5.7, 6.0, 4.8, 4.9, 5.6, 5.8, 6.1, 6.4, 5.6, 5.1, 5.6, 6.1, 5.6, 5.5, 4.8, 5.4, 5.6, 5.1, 5.1, 5.9, 5.7, 5.2, 5.0, 5.2, 5.4, 5.1], \"sizemode\": \"area\", \"sizeref\": 0.01725, \"symbol\": \"circle\"}, \"mode\": \"markers\", \"name\": \"variety=Virginica\", \"showlegend\": true, \"type\": \"scatter\", \"x\": [6.3, 5.8, 7.1, 6.3, 6.5, 7.6, 4.9, 7.3, 6.7, 7.2, 6.5, 6.4, 6.8, 5.7, 5.8, 6.4, 6.5, 7.7, 7.7, 6.0, 6.9, 5.6, 7.7, 6.3, 6.7, 7.2, 6.2, 6.1, 6.4, 7.2, 7.4, 7.9, 6.4, 6.3, 6.1, 7.7, 6.3, 6.4, 6.0, 6.9, 6.7, 6.9, 5.8, 6.8, 6.7, 6.7, 6.3, 6.5, 6.2, 5.9], \"xaxis\": \"x\", \"y\": [3.3, 2.7, 3.0, 2.9, 3.0, 3.0, 2.5, 2.9, 2.5, 3.6, 3.2, 2.7, 3.0, 2.5, 2.8, 3.2, 3.0, 3.8, 2.6, 2.2, 3.2, 2.8, 2.8, 2.7, 3.3, 3.2, 2.8, 3.0, 2.8, 3.0, 2.8, 3.8, 2.8, 2.8, 2.6, 3.0, 3.4, 3.1, 3.0, 3.1, 3.1, 3.1, 2.7, 3.2, 3.3, 3.0, 2.5, 3.0, 3.4, 3.0], \"yaxis\": \"y\"}],\n",
              "                        {\"height\": 600, \"legend\": {\"itemsizing\": \"constant\", \"tracegroupgap\": 0}, \"margin\": {\"t\": 60}, \"template\": {\"data\": {\"bar\": [{\"error_x\": {\"color\": \"#2a3f5f\"}, \"error_y\": {\"color\": \"#2a3f5f\"}, \"marker\": {\"line\": {\"color\": \"#E5ECF6\", \"width\": 0.5}}, \"type\": \"bar\"}], \"barpolar\": [{\"marker\": {\"line\": {\"color\": \"#E5ECF6\", \"width\": 0.5}}, \"type\": \"barpolar\"}], \"carpet\": [{\"aaxis\": {\"endlinecolor\": \"#2a3f5f\", \"gridcolor\": \"white\", \"linecolor\": \"white\", \"minorgridcolor\": \"white\", \"startlinecolor\": \"#2a3f5f\"}, \"baxis\": {\"endlinecolor\": \"#2a3f5f\", \"gridcolor\": \"white\", \"linecolor\": \"white\", \"minorgridcolor\": \"white\", \"startlinecolor\": \"#2a3f5f\"}, \"type\": \"carpet\"}], \"choropleth\": [{\"colorbar\": {\"outlinewidth\": 0, \"ticks\": \"\"}, \"type\": \"choropleth\"}], \"contour\": [{\"colorbar\": {\"outlinewidth\": 0, \"ticks\": \"\"}, \"colorscale\": [[0.0, \"#0d0887\"], [0.1111111111111111, \"#46039f\"], [0.2222222222222222, \"#7201a8\"], [0.3333333333333333, \"#9c179e\"], [0.4444444444444444, \"#bd3786\"], [0.5555555555555556, \"#d8576b\"], [0.6666666666666666, \"#ed7953\"], [0.7777777777777778, \"#fb9f3a\"], [0.8888888888888888, \"#fdca26\"], [1.0, \"#f0f921\"]], \"type\": \"contour\"}], \"contourcarpet\": [{\"colorbar\": {\"outlinewidth\": 0, \"ticks\": \"\"}, \"type\": \"contourcarpet\"}], \"heatmap\": [{\"colorbar\": {\"outlinewidth\": 0, \"ticks\": \"\"}, \"colorscale\": [[0.0, \"#0d0887\"], [0.1111111111111111, \"#46039f\"], [0.2222222222222222, \"#7201a8\"], [0.3333333333333333, \"#9c179e\"], [0.4444444444444444, \"#bd3786\"], [0.5555555555555556, \"#d8576b\"], [0.6666666666666666, \"#ed7953\"], [0.7777777777777778, \"#fb9f3a\"], [0.8888888888888888, \"#fdca26\"], [1.0, \"#f0f921\"]], \"type\": \"heatmap\"}], \"heatmapgl\": [{\"colorbar\": {\"outlinewidth\": 0, \"ticks\": \"\"}, \"colorscale\": [[0.0, \"#0d0887\"], [0.1111111111111111, \"#46039f\"], [0.2222222222222222, \"#7201a8\"], [0.3333333333333333, \"#9c179e\"], [0.4444444444444444, \"#bd3786\"], [0.5555555555555556, \"#d8576b\"], [0.6666666666666666, \"#ed7953\"], [0.7777777777777778, \"#fb9f3a\"], [0.8888888888888888, \"#fdca26\"], [1.0, \"#f0f921\"]], \"type\": \"heatmapgl\"}], \"histogram\": [{\"marker\": {\"colorbar\": {\"outlinewidth\": 0, \"ticks\": \"\"}}, \"type\": \"histogram\"}], \"histogram2d\": [{\"colorbar\": {\"outlinewidth\": 0, \"ticks\": \"\"}, \"colorscale\": [[0.0, \"#0d0887\"], [0.1111111111111111, \"#46039f\"], [0.2222222222222222, \"#7201a8\"], [0.3333333333333333, \"#9c179e\"], [0.4444444444444444, \"#bd3786\"], [0.5555555555555556, \"#d8576b\"], [0.6666666666666666, \"#ed7953\"], [0.7777777777777778, \"#fb9f3a\"], [0.8888888888888888, \"#fdca26\"], [1.0, \"#f0f921\"]], \"type\": \"histogram2d\"}], \"histogram2dcontour\": [{\"colorbar\": {\"outlinewidth\": 0, \"ticks\": \"\"}, \"colorscale\": [[0.0, \"#0d0887\"], [0.1111111111111111, \"#46039f\"], [0.2222222222222222, \"#7201a8\"], [0.3333333333333333, \"#9c179e\"], [0.4444444444444444, \"#bd3786\"], [0.5555555555555556, \"#d8576b\"], [0.6666666666666666, \"#ed7953\"], [0.7777777777777778, \"#fb9f3a\"], [0.8888888888888888, \"#fdca26\"], [1.0, \"#f0f921\"]], \"type\": \"histogram2dcontour\"}], \"mesh3d\": [{\"colorbar\": {\"outlinewidth\": 0, \"ticks\": \"\"}, \"type\": \"mesh3d\"}], \"parcoords\": [{\"line\": {\"colorbar\": {\"outlinewidth\": 0, \"ticks\": \"\"}}, \"type\": \"parcoords\"}], \"scatter\": [{\"marker\": {\"colorbar\": {\"outlinewidth\": 0, \"ticks\": \"\"}}, \"type\": \"scatter\"}], \"scatter3d\": [{\"line\": {\"colorbar\": {\"outlinewidth\": 0, \"ticks\": \"\"}}, \"marker\": {\"colorbar\": {\"outlinewidth\": 0, \"ticks\": \"\"}}, \"type\": \"scatter3d\"}], \"scattercarpet\": [{\"marker\": {\"colorbar\": {\"outlinewidth\": 0, \"ticks\": \"\"}}, \"type\": \"scattercarpet\"}], \"scattergeo\": [{\"marker\": {\"colorbar\": {\"outlinewidth\": 0, \"ticks\": \"\"}}, \"type\": \"scattergeo\"}], \"scattergl\": [{\"marker\": {\"colorbar\": {\"outlinewidth\": 0, \"ticks\": \"\"}}, \"type\": \"scattergl\"}], \"scattermapbox\": [{\"marker\": {\"colorbar\": {\"outlinewidth\": 0, \"ticks\": \"\"}}, \"type\": \"scattermapbox\"}], \"scatterpolar\": [{\"marker\": {\"colorbar\": {\"outlinewidth\": 0, \"ticks\": \"\"}}, \"type\": \"scatterpolar\"}], \"scatterpolargl\": [{\"marker\": {\"colorbar\": {\"outlinewidth\": 0, \"ticks\": \"\"}}, \"type\": \"scatterpolargl\"}], \"scatterternary\": [{\"marker\": {\"colorbar\": {\"outlinewidth\": 0, \"ticks\": \"\"}}, \"type\": \"scatterternary\"}], \"surface\": [{\"colorbar\": {\"outlinewidth\": 0, \"ticks\": \"\"}, \"colorscale\": [[0.0, \"#0d0887\"], [0.1111111111111111, \"#46039f\"], [0.2222222222222222, \"#7201a8\"], [0.3333333333333333, \"#9c179e\"], [0.4444444444444444, \"#bd3786\"], [0.5555555555555556, \"#d8576b\"], [0.6666666666666666, \"#ed7953\"], [0.7777777777777778, \"#fb9f3a\"], [0.8888888888888888, \"#fdca26\"], [1.0, \"#f0f921\"]], \"type\": \"surface\"}], \"table\": [{\"cells\": {\"fill\": {\"color\": \"#EBF0F8\"}, \"line\": {\"color\": \"white\"}}, \"header\": {\"fill\": {\"color\": \"#C8D4E3\"}, \"line\": {\"color\": \"white\"}}, \"type\": \"table\"}]}, \"layout\": {\"annotationdefaults\": {\"arrowcolor\": \"#2a3f5f\", \"arrowhead\": 0, \"arrowwidth\": 1}, \"colorscale\": {\"diverging\": [[0, \"#8e0152\"], [0.1, \"#c51b7d\"], [0.2, \"#de77ae\"], [0.3, \"#f1b6da\"], [0.4, \"#fde0ef\"], [0.5, \"#f7f7f7\"], [0.6, \"#e6f5d0\"], [0.7, \"#b8e186\"], [0.8, \"#7fbc41\"], [0.9, \"#4d9221\"], [1, \"#276419\"]], \"sequential\": [[0.0, \"#0d0887\"], [0.1111111111111111, \"#46039f\"], [0.2222222222222222, \"#7201a8\"], [0.3333333333333333, \"#9c179e\"], [0.4444444444444444, \"#bd3786\"], [0.5555555555555556, \"#d8576b\"], [0.6666666666666666, \"#ed7953\"], [0.7777777777777778, \"#fb9f3a\"], [0.8888888888888888, \"#fdca26\"], [1.0, \"#f0f921\"]], \"sequentialminus\": [[0.0, \"#0d0887\"], [0.1111111111111111, \"#46039f\"], [0.2222222222222222, \"#7201a8\"], [0.3333333333333333, \"#9c179e\"], [0.4444444444444444, \"#bd3786\"], [0.5555555555555556, \"#d8576b\"], [0.6666666666666666, \"#ed7953\"], [0.7777777777777778, \"#fb9f3a\"], [0.8888888888888888, \"#fdca26\"], [1.0, \"#f0f921\"]]}, \"colorway\": [\"#636efa\", \"#EF553B\", \"#00cc96\", \"#ab63fa\", \"#FFA15A\", \"#19d3f3\", \"#FF6692\", \"#B6E880\", \"#FF97FF\", \"#FECB52\"], \"font\": {\"color\": \"#2a3f5f\"}, \"geo\": {\"bgcolor\": \"white\", \"lakecolor\": \"white\", \"landcolor\": \"#E5ECF6\", \"showlakes\": true, \"showland\": true, \"subunitcolor\": \"white\"}, \"hoverlabel\": {\"align\": \"left\"}, \"hovermode\": \"closest\", \"mapbox\": {\"style\": \"light\"}, \"paper_bgcolor\": \"white\", \"plot_bgcolor\": \"#E5ECF6\", \"polar\": {\"angularaxis\": {\"gridcolor\": \"white\", \"linecolor\": \"white\", \"ticks\": \"\"}, \"bgcolor\": \"#E5ECF6\", \"radialaxis\": {\"gridcolor\": \"white\", \"linecolor\": \"white\", \"ticks\": \"\"}}, \"scene\": {\"xaxis\": {\"backgroundcolor\": \"#E5ECF6\", \"gridcolor\": \"white\", \"gridwidth\": 2, \"linecolor\": \"white\", \"showbackground\": true, \"ticks\": \"\", \"zerolinecolor\": \"white\"}, \"yaxis\": {\"backgroundcolor\": \"#E5ECF6\", \"gridcolor\": \"white\", \"gridwidth\": 2, \"linecolor\": \"white\", \"showbackground\": true, \"ticks\": \"\", \"zerolinecolor\": \"white\"}, \"zaxis\": {\"backgroundcolor\": \"#E5ECF6\", \"gridcolor\": \"white\", \"gridwidth\": 2, \"linecolor\": \"white\", \"showbackground\": true, \"ticks\": \"\", \"zerolinecolor\": \"white\"}}, \"shapedefaults\": {\"line\": {\"color\": \"#2a3f5f\"}}, \"ternary\": {\"aaxis\": {\"gridcolor\": \"white\", \"linecolor\": \"white\", \"ticks\": \"\"}, \"baxis\": {\"gridcolor\": \"white\", \"linecolor\": \"white\", \"ticks\": \"\"}, \"bgcolor\": \"#E5ECF6\", \"caxis\": {\"gridcolor\": \"white\", \"linecolor\": \"white\", \"ticks\": \"\"}}, \"title\": {\"x\": 0.05}, \"xaxis\": {\"automargin\": true, \"gridcolor\": \"white\", \"linecolor\": \"white\", \"ticks\": \"\", \"zerolinecolor\": \"white\", \"zerolinewidth\": 2}, \"yaxis\": {\"automargin\": true, \"gridcolor\": \"white\", \"linecolor\": \"white\", \"ticks\": \"\", \"zerolinecolor\": \"white\", \"zerolinewidth\": 2}}}, \"xaxis\": {\"anchor\": \"y\", \"domain\": [0.0, 0.98], \"title\": {\"text\": \"sepal.length\"}}, \"yaxis\": {\"anchor\": \"x\", \"domain\": [0.0, 1.0], \"title\": {\"text\": \"sepal.width\"}}},\n",
              "                        {\"responsive\": true}\n",
              "                    ).then(function(){\n",
              "                            \n",
              "var gd = document.getElementById('f0b80042-f017-4e55-841c-80a4d634a8c8');\n",
              "var x = new MutationObserver(function (mutations, observer) {{\n",
              "        var display = window.getComputedStyle(gd).display;\n",
              "        if (!display || display === 'none') {{\n",
              "            console.log([gd, 'removed!']);\n",
              "            Plotly.purge(gd);\n",
              "            observer.disconnect();\n",
              "        }}\n",
              "}});\n",
              "\n",
              "// Listen for the removal of the full notebook cells\n",
              "var notebookContainer = gd.closest('#notebook-container');\n",
              "if (notebookContainer) {{\n",
              "    x.observe(notebookContainer, {childList: true});\n",
              "}}\n",
              "\n",
              "// Listen for the clearing of the current output cell\n",
              "var outputEl = gd.closest('.output');\n",
              "if (outputEl) {{\n",
              "    x.observe(outputEl, {childList: true});\n",
              "}}\n",
              "\n",
              "                        })\n",
              "                };\n",
              "                \n",
              "            </script>\n",
              "        </div>\n",
              "</body>\n",
              "</html>"
            ]
          },
          "metadata": {
            "tags": []
          }
        }
      ]
    },
    {
      "cell_type": "code",
      "metadata": {
        "id": "HZYPw9kWobgL",
        "colab": {
          "base_uri": "https://localhost:8080/",
          "height": 617
        },
        "outputId": "2556749b-ab97-4733-84c5-2c6839f10f9b"
      },
      "source": [
        "fig = px.scatter_3d(data, x='sepal.length',\n",
        "                    y='sepal.width',\n",
        "                    z='petal.width',\n",
        "                    color='variety'\n",
        "                    )\n",
        "\n",
        "fig.show()"
      ],
      "execution_count": null,
      "outputs": [
        {
          "output_type": "display_data",
          "data": {
            "text/html": [
              "<html>\n",
              "<head><meta charset=\"utf-8\" /></head>\n",
              "<body>\n",
              "    <div>\n",
              "            <script src=\"https://cdnjs.cloudflare.com/ajax/libs/mathjax/2.7.5/MathJax.js?config=TeX-AMS-MML_SVG\"></script><script type=\"text/javascript\">if (window.MathJax) {MathJax.Hub.Config({SVG: {font: \"STIX-Web\"}});}</script>\n",
              "                <script type=\"text/javascript\">window.PlotlyConfig = {MathJaxConfig: 'local'};</script>\n",
              "        <script src=\"https://cdn.plot.ly/plotly-latest.min.js\"></script>    \n",
              "            <div id=\"0c858f78-d178-43d0-bb18-a35ade20922d\" class=\"plotly-graph-div\" style=\"height:600px; width:100%;\"></div>\n",
              "            <script type=\"text/javascript\">\n",
              "                \n",
              "                    window.PLOTLYENV=window.PLOTLYENV || {};\n",
              "                    \n",
              "                if (document.getElementById(\"0c858f78-d178-43d0-bb18-a35ade20922d\")) {\n",
              "                    Plotly.newPlot(\n",
              "                        '0c858f78-d178-43d0-bb18-a35ade20922d',\n",
              "                        [{\"hoverlabel\": {\"namelength\": 0}, \"hovertemplate\": \"variety=Setosa<br>sepal.length=%{x}<br>sepal.width=%{y}<br>petal.width=%{z}\", \"legendgroup\": \"variety=Setosa\", \"marker\": {\"color\": \"#636efa\", \"symbol\": \"circle\"}, \"mode\": \"markers\", \"name\": \"variety=Setosa\", \"scene\": \"scene\", \"showlegend\": true, \"type\": \"scatter3d\", \"x\": [5.1, 4.9, 4.7, 4.6, 5.0, 5.4, 4.6, 5.0, 4.4, 4.9, 5.4, 4.8, 4.8, 4.3, 5.8, 5.7, 5.4, 5.1, 5.7, 5.1, 5.4, 5.1, 4.6, 5.1, 4.8, 5.0, 5.0, 5.2, 5.2, 4.7, 4.8, 5.4, 5.2, 5.5, 4.9, 5.0, 5.5, 4.9, 4.4, 5.1, 5.0, 4.5, 4.4, 5.0, 5.1, 4.8, 5.1, 4.6, 5.3, 5.0], \"y\": [3.5, 3.0, 3.2, 3.1, 3.6, 3.9, 3.4, 3.4, 2.9, 3.1, 3.7, 3.4, 3.0, 3.0, 4.0, 4.4, 3.9, 3.5, 3.8, 3.8, 3.4, 3.7, 3.6, 3.3, 3.4, 3.0, 3.4, 3.5, 3.4, 3.2, 3.1, 3.4, 4.1, 4.2, 3.1, 3.2, 3.5, 3.6, 3.0, 3.4, 3.5, 2.3, 3.2, 3.5, 3.8, 3.0, 3.8, 3.2, 3.7, 3.3], \"z\": [0.2, 0.2, 0.2, 0.2, 0.2, 0.4, 0.3, 0.2, 0.2, 0.1, 0.2, 0.2, 0.1, 0.1, 0.2, 0.4, 0.4, 0.3, 0.3, 0.3, 0.2, 0.4, 0.2, 0.5, 0.2, 0.2, 0.4, 0.2, 0.2, 0.2, 0.2, 0.4, 0.1, 0.2, 0.2, 0.2, 0.2, 0.1, 0.2, 0.2, 0.3, 0.3, 0.2, 0.6, 0.4, 0.3, 0.2, 0.2, 0.2, 0.2]}, {\"hoverlabel\": {\"namelength\": 0}, \"hovertemplate\": \"variety=Versicolor<br>sepal.length=%{x}<br>sepal.width=%{y}<br>petal.width=%{z}\", \"legendgroup\": \"variety=Versicolor\", \"marker\": {\"color\": \"#EF553B\", \"symbol\": \"circle\"}, \"mode\": \"markers\", \"name\": \"variety=Versicolor\", \"scene\": \"scene\", \"showlegend\": true, \"type\": \"scatter3d\", \"x\": [7.0, 6.4, 6.9, 5.5, 6.5, 5.7, 6.3, 4.9, 6.6, 5.2, 5.0, 5.9, 6.0, 6.1, 5.6, 6.7, 5.6, 5.8, 6.2, 5.6, 5.9, 6.1, 6.3, 6.1, 6.4, 6.6, 6.8, 6.7, 6.0, 5.7, 5.5, 5.5, 5.8, 6.0, 5.4, 6.0, 6.7, 6.3, 5.6, 5.5, 5.5, 6.1, 5.8, 5.0, 5.6, 5.7, 5.7, 6.2, 5.1, 5.7], \"y\": [3.2, 3.2, 3.1, 2.3, 2.8, 2.8, 3.3, 2.4, 2.9, 2.7, 2.0, 3.0, 2.2, 2.9, 2.9, 3.1, 3.0, 2.7, 2.2, 2.5, 3.2, 2.8, 2.5, 2.8, 2.9, 3.0, 2.8, 3.0, 2.9, 2.6, 2.4, 2.4, 2.7, 2.7, 3.0, 3.4, 3.1, 2.3, 3.0, 2.5, 2.6, 3.0, 2.6, 2.3, 2.7, 3.0, 2.9, 2.9, 2.5, 2.8], \"z\": [1.4, 1.5, 1.5, 1.3, 1.5, 1.3, 1.6, 1.0, 1.3, 1.4, 1.0, 1.5, 1.0, 1.4, 1.3, 1.4, 1.5, 1.0, 1.5, 1.1, 1.8, 1.3, 1.5, 1.2, 1.3, 1.4, 1.4, 1.7, 1.5, 1.0, 1.1, 1.0, 1.2, 1.6, 1.5, 1.6, 1.5, 1.3, 1.3, 1.3, 1.2, 1.4, 1.2, 1.0, 1.3, 1.2, 1.3, 1.3, 1.1, 1.3]}, {\"hoverlabel\": {\"namelength\": 0}, \"hovertemplate\": \"variety=Virginica<br>sepal.length=%{x}<br>sepal.width=%{y}<br>petal.width=%{z}\", \"legendgroup\": \"variety=Virginica\", \"marker\": {\"color\": \"#00cc96\", \"symbol\": \"circle\"}, \"mode\": \"markers\", \"name\": \"variety=Virginica\", \"scene\": \"scene\", \"showlegend\": true, \"type\": \"scatter3d\", \"x\": [6.3, 5.8, 7.1, 6.3, 6.5, 7.6, 4.9, 7.3, 6.7, 7.2, 6.5, 6.4, 6.8, 5.7, 5.8, 6.4, 6.5, 7.7, 7.7, 6.0, 6.9, 5.6, 7.7, 6.3, 6.7, 7.2, 6.2, 6.1, 6.4, 7.2, 7.4, 7.9, 6.4, 6.3, 6.1, 7.7, 6.3, 6.4, 6.0, 6.9, 6.7, 6.9, 5.8, 6.8, 6.7, 6.7, 6.3, 6.5, 6.2, 5.9], \"y\": [3.3, 2.7, 3.0, 2.9, 3.0, 3.0, 2.5, 2.9, 2.5, 3.6, 3.2, 2.7, 3.0, 2.5, 2.8, 3.2, 3.0, 3.8, 2.6, 2.2, 3.2, 2.8, 2.8, 2.7, 3.3, 3.2, 2.8, 3.0, 2.8, 3.0, 2.8, 3.8, 2.8, 2.8, 2.6, 3.0, 3.4, 3.1, 3.0, 3.1, 3.1, 3.1, 2.7, 3.2, 3.3, 3.0, 2.5, 3.0, 3.4, 3.0], \"z\": [2.5, 1.9, 2.1, 1.8, 2.2, 2.1, 1.7, 1.8, 1.8, 2.5, 2.0, 1.9, 2.1, 2.0, 2.4, 2.3, 1.8, 2.2, 2.3, 1.5, 2.3, 2.0, 2.0, 1.8, 2.1, 1.8, 1.8, 1.8, 2.1, 1.6, 1.9, 2.0, 2.2, 1.5, 1.4, 2.3, 2.4, 1.8, 1.8, 2.1, 2.4, 2.3, 1.9, 2.3, 2.5, 2.3, 1.9, 2.0, 2.3, 1.8]}],\n",
              "                        {\"height\": 600, \"legend\": {\"tracegroupgap\": 0}, \"margin\": {\"t\": 60}, \"scene\": {\"domain\": {\"x\": [0.0, 0.98], \"y\": [0.0, 1.0]}, \"xaxis\": {\"title\": {\"text\": \"sepal.length\"}}, \"yaxis\": {\"title\": {\"text\": \"sepal.width\"}}, \"zaxis\": {\"title\": {\"text\": \"petal.width\"}}}, \"template\": {\"data\": {\"bar\": [{\"error_x\": {\"color\": \"#2a3f5f\"}, \"error_y\": {\"color\": \"#2a3f5f\"}, \"marker\": {\"line\": {\"color\": \"#E5ECF6\", \"width\": 0.5}}, \"type\": \"bar\"}], \"barpolar\": [{\"marker\": {\"line\": {\"color\": \"#E5ECF6\", \"width\": 0.5}}, \"type\": \"barpolar\"}], \"carpet\": [{\"aaxis\": {\"endlinecolor\": \"#2a3f5f\", \"gridcolor\": \"white\", \"linecolor\": \"white\", \"minorgridcolor\": \"white\", \"startlinecolor\": \"#2a3f5f\"}, \"baxis\": {\"endlinecolor\": \"#2a3f5f\", \"gridcolor\": \"white\", \"linecolor\": \"white\", \"minorgridcolor\": \"white\", \"startlinecolor\": \"#2a3f5f\"}, \"type\": \"carpet\"}], \"choropleth\": [{\"colorbar\": {\"outlinewidth\": 0, \"ticks\": \"\"}, \"type\": \"choropleth\"}], \"contour\": [{\"colorbar\": {\"outlinewidth\": 0, \"ticks\": \"\"}, \"colorscale\": [[0.0, \"#0d0887\"], [0.1111111111111111, \"#46039f\"], [0.2222222222222222, \"#7201a8\"], [0.3333333333333333, \"#9c179e\"], [0.4444444444444444, \"#bd3786\"], [0.5555555555555556, \"#d8576b\"], [0.6666666666666666, \"#ed7953\"], [0.7777777777777778, \"#fb9f3a\"], [0.8888888888888888, \"#fdca26\"], [1.0, \"#f0f921\"]], \"type\": \"contour\"}], \"contourcarpet\": [{\"colorbar\": {\"outlinewidth\": 0, \"ticks\": \"\"}, \"type\": \"contourcarpet\"}], \"heatmap\": [{\"colorbar\": {\"outlinewidth\": 0, \"ticks\": \"\"}, \"colorscale\": [[0.0, \"#0d0887\"], [0.1111111111111111, \"#46039f\"], [0.2222222222222222, \"#7201a8\"], [0.3333333333333333, \"#9c179e\"], [0.4444444444444444, \"#bd3786\"], [0.5555555555555556, \"#d8576b\"], [0.6666666666666666, \"#ed7953\"], [0.7777777777777778, \"#fb9f3a\"], [0.8888888888888888, \"#fdca26\"], [1.0, \"#f0f921\"]], \"type\": \"heatmap\"}], \"heatmapgl\": [{\"colorbar\": {\"outlinewidth\": 0, \"ticks\": \"\"}, \"colorscale\": [[0.0, \"#0d0887\"], [0.1111111111111111, \"#46039f\"], [0.2222222222222222, \"#7201a8\"], [0.3333333333333333, \"#9c179e\"], [0.4444444444444444, \"#bd3786\"], [0.5555555555555556, \"#d8576b\"], [0.6666666666666666, \"#ed7953\"], [0.7777777777777778, \"#fb9f3a\"], [0.8888888888888888, \"#fdca26\"], [1.0, \"#f0f921\"]], \"type\": \"heatmapgl\"}], \"histogram\": [{\"marker\": {\"colorbar\": {\"outlinewidth\": 0, \"ticks\": \"\"}}, \"type\": \"histogram\"}], \"histogram2d\": [{\"colorbar\": {\"outlinewidth\": 0, \"ticks\": \"\"}, \"colorscale\": [[0.0, \"#0d0887\"], [0.1111111111111111, \"#46039f\"], [0.2222222222222222, \"#7201a8\"], [0.3333333333333333, \"#9c179e\"], [0.4444444444444444, \"#bd3786\"], [0.5555555555555556, \"#d8576b\"], [0.6666666666666666, \"#ed7953\"], [0.7777777777777778, \"#fb9f3a\"], [0.8888888888888888, \"#fdca26\"], [1.0, \"#f0f921\"]], \"type\": \"histogram2d\"}], \"histogram2dcontour\": [{\"colorbar\": {\"outlinewidth\": 0, \"ticks\": \"\"}, \"colorscale\": [[0.0, \"#0d0887\"], [0.1111111111111111, \"#46039f\"], [0.2222222222222222, \"#7201a8\"], [0.3333333333333333, \"#9c179e\"], [0.4444444444444444, \"#bd3786\"], [0.5555555555555556, \"#d8576b\"], [0.6666666666666666, \"#ed7953\"], [0.7777777777777778, \"#fb9f3a\"], [0.8888888888888888, \"#fdca26\"], [1.0, \"#f0f921\"]], \"type\": \"histogram2dcontour\"}], \"mesh3d\": [{\"colorbar\": {\"outlinewidth\": 0, \"ticks\": \"\"}, \"type\": \"mesh3d\"}], \"parcoords\": [{\"line\": {\"colorbar\": {\"outlinewidth\": 0, \"ticks\": \"\"}}, \"type\": \"parcoords\"}], \"scatter\": [{\"marker\": {\"colorbar\": {\"outlinewidth\": 0, \"ticks\": \"\"}}, \"type\": \"scatter\"}], \"scatter3d\": [{\"line\": {\"colorbar\": {\"outlinewidth\": 0, \"ticks\": \"\"}}, \"marker\": {\"colorbar\": {\"outlinewidth\": 0, \"ticks\": \"\"}}, \"type\": \"scatter3d\"}], \"scattercarpet\": [{\"marker\": {\"colorbar\": {\"outlinewidth\": 0, \"ticks\": \"\"}}, \"type\": \"scattercarpet\"}], \"scattergeo\": [{\"marker\": {\"colorbar\": {\"outlinewidth\": 0, \"ticks\": \"\"}}, \"type\": \"scattergeo\"}], \"scattergl\": [{\"marker\": {\"colorbar\": {\"outlinewidth\": 0, \"ticks\": \"\"}}, \"type\": \"scattergl\"}], \"scattermapbox\": [{\"marker\": {\"colorbar\": {\"outlinewidth\": 0, \"ticks\": \"\"}}, \"type\": \"scattermapbox\"}], \"scatterpolar\": [{\"marker\": {\"colorbar\": {\"outlinewidth\": 0, \"ticks\": \"\"}}, \"type\": \"scatterpolar\"}], \"scatterpolargl\": [{\"marker\": {\"colorbar\": {\"outlinewidth\": 0, \"ticks\": \"\"}}, \"type\": \"scatterpolargl\"}], \"scatterternary\": [{\"marker\": {\"colorbar\": {\"outlinewidth\": 0, \"ticks\": \"\"}}, \"type\": \"scatterternary\"}], \"surface\": [{\"colorbar\": {\"outlinewidth\": 0, \"ticks\": \"\"}, \"colorscale\": [[0.0, \"#0d0887\"], [0.1111111111111111, \"#46039f\"], [0.2222222222222222, \"#7201a8\"], [0.3333333333333333, \"#9c179e\"], [0.4444444444444444, \"#bd3786\"], [0.5555555555555556, \"#d8576b\"], [0.6666666666666666, \"#ed7953\"], [0.7777777777777778, \"#fb9f3a\"], [0.8888888888888888, \"#fdca26\"], [1.0, \"#f0f921\"]], \"type\": \"surface\"}], \"table\": [{\"cells\": {\"fill\": {\"color\": \"#EBF0F8\"}, \"line\": {\"color\": \"white\"}}, \"header\": {\"fill\": {\"color\": \"#C8D4E3\"}, \"line\": {\"color\": \"white\"}}, \"type\": \"table\"}]}, \"layout\": {\"annotationdefaults\": {\"arrowcolor\": \"#2a3f5f\", \"arrowhead\": 0, \"arrowwidth\": 1}, \"colorscale\": {\"diverging\": [[0, \"#8e0152\"], [0.1, \"#c51b7d\"], [0.2, \"#de77ae\"], [0.3, \"#f1b6da\"], [0.4, \"#fde0ef\"], [0.5, \"#f7f7f7\"], [0.6, \"#e6f5d0\"], [0.7, \"#b8e186\"], [0.8, \"#7fbc41\"], [0.9, \"#4d9221\"], [1, \"#276419\"]], \"sequential\": [[0.0, \"#0d0887\"], [0.1111111111111111, \"#46039f\"], [0.2222222222222222, \"#7201a8\"], [0.3333333333333333, \"#9c179e\"], [0.4444444444444444, \"#bd3786\"], [0.5555555555555556, \"#d8576b\"], [0.6666666666666666, \"#ed7953\"], [0.7777777777777778, \"#fb9f3a\"], [0.8888888888888888, \"#fdca26\"], [1.0, \"#f0f921\"]], \"sequentialminus\": [[0.0, \"#0d0887\"], [0.1111111111111111, \"#46039f\"], [0.2222222222222222, \"#7201a8\"], [0.3333333333333333, \"#9c179e\"], [0.4444444444444444, \"#bd3786\"], [0.5555555555555556, \"#d8576b\"], [0.6666666666666666, \"#ed7953\"], [0.7777777777777778, \"#fb9f3a\"], [0.8888888888888888, \"#fdca26\"], [1.0, \"#f0f921\"]]}, \"colorway\": [\"#636efa\", \"#EF553B\", \"#00cc96\", \"#ab63fa\", \"#FFA15A\", \"#19d3f3\", \"#FF6692\", \"#B6E880\", \"#FF97FF\", \"#FECB52\"], \"font\": {\"color\": \"#2a3f5f\"}, \"geo\": {\"bgcolor\": \"white\", \"lakecolor\": \"white\", \"landcolor\": \"#E5ECF6\", \"showlakes\": true, \"showland\": true, \"subunitcolor\": \"white\"}, \"hoverlabel\": {\"align\": \"left\"}, \"hovermode\": \"closest\", \"mapbox\": {\"style\": \"light\"}, \"paper_bgcolor\": \"white\", \"plot_bgcolor\": \"#E5ECF6\", \"polar\": {\"angularaxis\": {\"gridcolor\": \"white\", \"linecolor\": \"white\", \"ticks\": \"\"}, \"bgcolor\": \"#E5ECF6\", \"radialaxis\": {\"gridcolor\": \"white\", \"linecolor\": \"white\", \"ticks\": \"\"}}, \"scene\": {\"xaxis\": {\"backgroundcolor\": \"#E5ECF6\", \"gridcolor\": \"white\", \"gridwidth\": 2, \"linecolor\": \"white\", \"showbackground\": true, \"ticks\": \"\", \"zerolinecolor\": \"white\"}, \"yaxis\": {\"backgroundcolor\": \"#E5ECF6\", \"gridcolor\": \"white\", \"gridwidth\": 2, \"linecolor\": \"white\", \"showbackground\": true, \"ticks\": \"\", \"zerolinecolor\": \"white\"}, \"zaxis\": {\"backgroundcolor\": \"#E5ECF6\", \"gridcolor\": \"white\", \"gridwidth\": 2, \"linecolor\": \"white\", \"showbackground\": true, \"ticks\": \"\", \"zerolinecolor\": \"white\"}}, \"shapedefaults\": {\"line\": {\"color\": \"#2a3f5f\"}}, \"ternary\": {\"aaxis\": {\"gridcolor\": \"white\", \"linecolor\": \"white\", \"ticks\": \"\"}, \"baxis\": {\"gridcolor\": \"white\", \"linecolor\": \"white\", \"ticks\": \"\"}, \"bgcolor\": \"#E5ECF6\", \"caxis\": {\"gridcolor\": \"white\", \"linecolor\": \"white\", \"ticks\": \"\"}}, \"title\": {\"x\": 0.05}, \"xaxis\": {\"automargin\": true, \"gridcolor\": \"white\", \"linecolor\": \"white\", \"ticks\": \"\", \"zerolinecolor\": \"white\", \"zerolinewidth\": 2}, \"yaxis\": {\"automargin\": true, \"gridcolor\": \"white\", \"linecolor\": \"white\", \"ticks\": \"\", \"zerolinecolor\": \"white\", \"zerolinewidth\": 2}}}},\n",
              "                        {\"responsive\": true}\n",
              "                    ).then(function(){\n",
              "                            \n",
              "var gd = document.getElementById('0c858f78-d178-43d0-bb18-a35ade20922d');\n",
              "var x = new MutationObserver(function (mutations, observer) {{\n",
              "        var display = window.getComputedStyle(gd).display;\n",
              "        if (!display || display === 'none') {{\n",
              "            console.log([gd, 'removed!']);\n",
              "            Plotly.purge(gd);\n",
              "            observer.disconnect();\n",
              "        }}\n",
              "}});\n",
              "\n",
              "// Listen for the removal of the full notebook cells\n",
              "var notebookContainer = gd.closest('#notebook-container');\n",
              "if (notebookContainer) {{\n",
              "    x.observe(notebookContainer, {childList: true});\n",
              "}}\n",
              "\n",
              "// Listen for the clearing of the current output cell\n",
              "var outputEl = gd.closest('.output');\n",
              "if (outputEl) {{\n",
              "    x.observe(outputEl, {childList: true});\n",
              "}}\n",
              "\n",
              "                        })\n",
              "                };\n",
              "                \n",
              "            </script>\n",
              "        </div>\n",
              "</body>\n",
              "</html>"
            ]
          },
          "metadata": {
            "tags": []
          }
        }
      ]
    },
    {
      "cell_type": "markdown",
      "metadata": {
        "id": "dAh2xcL_pFYM"
      },
      "source": [
        "## Violin Plots"
      ]
    },
    {
      "cell_type": "code",
      "metadata": {
        "id": "vh5CqVqgpEue",
        "colab": {
          "base_uri": "https://localhost:8080/",
          "height": 617
        },
        "outputId": "c52d3baf-486f-4d5d-cf77-f333e115cd0d"
      },
      "source": [
        "fig = px.violin(data, y=\"sepal.length\", color=\"variety\",\n",
        "                violinmode='overlay',\n",
        "                hover_data=data.columns\n",
        "                )\n",
        "\n",
        "fig.show()"
      ],
      "execution_count": null,
      "outputs": [
        {
          "output_type": "display_data",
          "data": {
            "text/html": [
              "<html>\n",
              "<head><meta charset=\"utf-8\" /></head>\n",
              "<body>\n",
              "    <div>\n",
              "            <script src=\"https://cdnjs.cloudflare.com/ajax/libs/mathjax/2.7.5/MathJax.js?config=TeX-AMS-MML_SVG\"></script><script type=\"text/javascript\">if (window.MathJax) {MathJax.Hub.Config({SVG: {font: \"STIX-Web\"}});}</script>\n",
              "                <script type=\"text/javascript\">window.PlotlyConfig = {MathJaxConfig: 'local'};</script>\n",
              "        <script src=\"https://cdn.plot.ly/plotly-latest.min.js\"></script>    \n",
              "            <div id=\"b00bdbdb-624a-4516-af77-6b4ae066a9c5\" class=\"plotly-graph-div\" style=\"height:600px; width:100%;\"></div>\n",
              "            <script type=\"text/javascript\">\n",
              "                \n",
              "                    window.PLOTLYENV=window.PLOTLYENV || {};\n",
              "                    \n",
              "                if (document.getElementById(\"b00bdbdb-624a-4516-af77-6b4ae066a9c5\")) {\n",
              "                    Plotly.newPlot(\n",
              "                        'b00bdbdb-624a-4516-af77-6b4ae066a9c5',\n",
              "                        [{\"alignmentgroup\": \"True\", \"box\": {\"visible\": false}, \"customdata\": [[5.1, 3.5, 1.4, 0.2, \"Setosa\"], [4.9, 3.0, 1.4, 0.2, \"Setosa\"], [4.7, 3.2, 1.3, 0.2, \"Setosa\"], [4.6, 3.1, 1.5, 0.2, \"Setosa\"], [5.0, 3.6, 1.4, 0.2, \"Setosa\"], [5.4, 3.9, 1.7, 0.4, \"Setosa\"], [4.6, 3.4, 1.4, 0.3, \"Setosa\"], [5.0, 3.4, 1.5, 0.2, \"Setosa\"], [4.4, 2.9, 1.4, 0.2, \"Setosa\"], [4.9, 3.1, 1.5, 0.1, \"Setosa\"], [5.4, 3.7, 1.5, 0.2, \"Setosa\"], [4.8, 3.4, 1.6, 0.2, \"Setosa\"], [4.8, 3.0, 1.4, 0.1, \"Setosa\"], [4.3, 3.0, 1.1, 0.1, \"Setosa\"], [5.8, 4.0, 1.2, 0.2, \"Setosa\"], [5.7, 4.4, 1.5, 0.4, \"Setosa\"], [5.4, 3.9, 1.3, 0.4, \"Setosa\"], [5.1, 3.5, 1.4, 0.3, \"Setosa\"], [5.7, 3.8, 1.7, 0.3, \"Setosa\"], [5.1, 3.8, 1.5, 0.3, \"Setosa\"], [5.4, 3.4, 1.7, 0.2, \"Setosa\"], [5.1, 3.7, 1.5, 0.4, \"Setosa\"], [4.6, 3.6, 1.0, 0.2, \"Setosa\"], [5.1, 3.3, 1.7, 0.5, \"Setosa\"], [4.8, 3.4, 1.9, 0.2, \"Setosa\"], [5.0, 3.0, 1.6, 0.2, \"Setosa\"], [5.0, 3.4, 1.6, 0.4, \"Setosa\"], [5.2, 3.5, 1.5, 0.2, \"Setosa\"], [5.2, 3.4, 1.4, 0.2, \"Setosa\"], [4.7, 3.2, 1.6, 0.2, \"Setosa\"], [4.8, 3.1, 1.6, 0.2, \"Setosa\"], [5.4, 3.4, 1.5, 0.4, \"Setosa\"], [5.2, 4.1, 1.5, 0.1, \"Setosa\"], [5.5, 4.2, 1.4, 0.2, \"Setosa\"], [4.9, 3.1, 1.5, 0.2, \"Setosa\"], [5.0, 3.2, 1.2, 0.2, \"Setosa\"], [5.5, 3.5, 1.3, 0.2, \"Setosa\"], [4.9, 3.6, 1.4, 0.1, \"Setosa\"], [4.4, 3.0, 1.3, 0.2, \"Setosa\"], [5.1, 3.4, 1.5, 0.2, \"Setosa\"], [5.0, 3.5, 1.3, 0.3, \"Setosa\"], [4.5, 2.3, 1.3, 0.3, \"Setosa\"], [4.4, 3.2, 1.3, 0.2, \"Setosa\"], [5.0, 3.5, 1.6, 0.6, \"Setosa\"], [5.1, 3.8, 1.9, 0.4, \"Setosa\"], [4.8, 3.0, 1.4, 0.3, \"Setosa\"], [5.1, 3.8, 1.6, 0.2, \"Setosa\"], [4.6, 3.2, 1.4, 0.2, \"Setosa\"], [5.3, 3.7, 1.5, 0.2, \"Setosa\"], [5.0, 3.3, 1.4, 0.2, \"Setosa\"]], \"hoverlabel\": {\"namelength\": 0}, \"hovertemplate\": \"variety=%{customdata[4]}<br>sepal.length=%{customdata[0]}<br>sepal.width=%{customdata[1]}<br>petal.length=%{customdata[2]}<br>petal.width=%{customdata[3]}\", \"legendgroup\": \"variety=Setosa\", \"marker\": {\"color\": \"#636efa\"}, \"name\": \"variety=Setosa\", \"offsetgroup\": \"variety=Setosa\", \"orientation\": \"v\", \"scalegroup\": \"True\", \"showlegend\": true, \"type\": \"violin\", \"x0\": \" \", \"xaxis\": \"x\", \"y\": [5.1, 4.9, 4.7, 4.6, 5.0, 5.4, 4.6, 5.0, 4.4, 4.9, 5.4, 4.8, 4.8, 4.3, 5.8, 5.7, 5.4, 5.1, 5.7, 5.1, 5.4, 5.1, 4.6, 5.1, 4.8, 5.0, 5.0, 5.2, 5.2, 4.7, 4.8, 5.4, 5.2, 5.5, 4.9, 5.0, 5.5, 4.9, 4.4, 5.1, 5.0, 4.5, 4.4, 5.0, 5.1, 4.8, 5.1, 4.6, 5.3, 5.0], \"y0\": \" \", \"yaxis\": \"y\"}, {\"alignmentgroup\": \"True\", \"box\": {\"visible\": false}, \"customdata\": [[7.0, 3.2, 4.7, 1.4, \"Versicolor\"], [6.4, 3.2, 4.5, 1.5, \"Versicolor\"], [6.9, 3.1, 4.9, 1.5, \"Versicolor\"], [5.5, 2.3, 4.0, 1.3, \"Versicolor\"], [6.5, 2.8, 4.6, 1.5, \"Versicolor\"], [5.7, 2.8, 4.5, 1.3, \"Versicolor\"], [6.3, 3.3, 4.7, 1.6, \"Versicolor\"], [4.9, 2.4, 3.3, 1.0, \"Versicolor\"], [6.6, 2.9, 4.6, 1.3, \"Versicolor\"], [5.2, 2.7, 3.9, 1.4, \"Versicolor\"], [5.0, 2.0, 3.5, 1.0, \"Versicolor\"], [5.9, 3.0, 4.2, 1.5, \"Versicolor\"], [6.0, 2.2, 4.0, 1.0, \"Versicolor\"], [6.1, 2.9, 4.7, 1.4, \"Versicolor\"], [5.6, 2.9, 3.6, 1.3, \"Versicolor\"], [6.7, 3.1, 4.4, 1.4, \"Versicolor\"], [5.6, 3.0, 4.5, 1.5, \"Versicolor\"], [5.8, 2.7, 4.1, 1.0, \"Versicolor\"], [6.2, 2.2, 4.5, 1.5, \"Versicolor\"], [5.6, 2.5, 3.9, 1.1, \"Versicolor\"], [5.9, 3.2, 4.8, 1.8, \"Versicolor\"], [6.1, 2.8, 4.0, 1.3, \"Versicolor\"], [6.3, 2.5, 4.9, 1.5, \"Versicolor\"], [6.1, 2.8, 4.7, 1.2, \"Versicolor\"], [6.4, 2.9, 4.3, 1.3, \"Versicolor\"], [6.6, 3.0, 4.4, 1.4, \"Versicolor\"], [6.8, 2.8, 4.8, 1.4, \"Versicolor\"], [6.7, 3.0, 5.0, 1.7, \"Versicolor\"], [6.0, 2.9, 4.5, 1.5, \"Versicolor\"], [5.7, 2.6, 3.5, 1.0, \"Versicolor\"], [5.5, 2.4, 3.8, 1.1, \"Versicolor\"], [5.5, 2.4, 3.7, 1.0, \"Versicolor\"], [5.8, 2.7, 3.9, 1.2, \"Versicolor\"], [6.0, 2.7, 5.1, 1.6, \"Versicolor\"], [5.4, 3.0, 4.5, 1.5, \"Versicolor\"], [6.0, 3.4, 4.5, 1.6, \"Versicolor\"], [6.7, 3.1, 4.7, 1.5, \"Versicolor\"], [6.3, 2.3, 4.4, 1.3, \"Versicolor\"], [5.6, 3.0, 4.1, 1.3, \"Versicolor\"], [5.5, 2.5, 4.0, 1.3, \"Versicolor\"], [5.5, 2.6, 4.4, 1.2, \"Versicolor\"], [6.1, 3.0, 4.6, 1.4, \"Versicolor\"], [5.8, 2.6, 4.0, 1.2, \"Versicolor\"], [5.0, 2.3, 3.3, 1.0, \"Versicolor\"], [5.6, 2.7, 4.2, 1.3, \"Versicolor\"], [5.7, 3.0, 4.2, 1.2, \"Versicolor\"], [5.7, 2.9, 4.2, 1.3, \"Versicolor\"], [6.2, 2.9, 4.3, 1.3, \"Versicolor\"], [5.1, 2.5, 3.0, 1.1, \"Versicolor\"], [5.7, 2.8, 4.1, 1.3, \"Versicolor\"]], \"hoverlabel\": {\"namelength\": 0}, \"hovertemplate\": \"variety=%{customdata[4]}<br>sepal.length=%{customdata[0]}<br>sepal.width=%{customdata[1]}<br>petal.length=%{customdata[2]}<br>petal.width=%{customdata[3]}\", \"legendgroup\": \"variety=Versicolor\", \"marker\": {\"color\": \"#EF553B\"}, \"name\": \"variety=Versicolor\", \"offsetgroup\": \"variety=Versicolor\", \"orientation\": \"v\", \"scalegroup\": \"True\", \"showlegend\": true, \"type\": \"violin\", \"x0\": \" \", \"xaxis\": \"x\", \"y\": [7.0, 6.4, 6.9, 5.5, 6.5, 5.7, 6.3, 4.9, 6.6, 5.2, 5.0, 5.9, 6.0, 6.1, 5.6, 6.7, 5.6, 5.8, 6.2, 5.6, 5.9, 6.1, 6.3, 6.1, 6.4, 6.6, 6.8, 6.7, 6.0, 5.7, 5.5, 5.5, 5.8, 6.0, 5.4, 6.0, 6.7, 6.3, 5.6, 5.5, 5.5, 6.1, 5.8, 5.0, 5.6, 5.7, 5.7, 6.2, 5.1, 5.7], \"y0\": \" \", \"yaxis\": \"y\"}, {\"alignmentgroup\": \"True\", \"box\": {\"visible\": false}, \"customdata\": [[6.3, 3.3, 6.0, 2.5, \"Virginica\"], [5.8, 2.7, 5.1, 1.9, \"Virginica\"], [7.1, 3.0, 5.9, 2.1, \"Virginica\"], [6.3, 2.9, 5.6, 1.8, \"Virginica\"], [6.5, 3.0, 5.8, 2.2, \"Virginica\"], [7.6, 3.0, 6.6, 2.1, \"Virginica\"], [4.9, 2.5, 4.5, 1.7, \"Virginica\"], [7.3, 2.9, 6.3, 1.8, \"Virginica\"], [6.7, 2.5, 5.8, 1.8, \"Virginica\"], [7.2, 3.6, 6.1, 2.5, \"Virginica\"], [6.5, 3.2, 5.1, 2.0, \"Virginica\"], [6.4, 2.7, 5.3, 1.9, \"Virginica\"], [6.8, 3.0, 5.5, 2.1, \"Virginica\"], [5.7, 2.5, 5.0, 2.0, \"Virginica\"], [5.8, 2.8, 5.1, 2.4, \"Virginica\"], [6.4, 3.2, 5.3, 2.3, \"Virginica\"], [6.5, 3.0, 5.5, 1.8, \"Virginica\"], [7.7, 3.8, 6.7, 2.2, \"Virginica\"], [7.7, 2.6, 6.9, 2.3, \"Virginica\"], [6.0, 2.2, 5.0, 1.5, \"Virginica\"], [6.9, 3.2, 5.7, 2.3, \"Virginica\"], [5.6, 2.8, 4.9, 2.0, \"Virginica\"], [7.7, 2.8, 6.7, 2.0, \"Virginica\"], [6.3, 2.7, 4.9, 1.8, \"Virginica\"], [6.7, 3.3, 5.7, 2.1, \"Virginica\"], [7.2, 3.2, 6.0, 1.8, \"Virginica\"], [6.2, 2.8, 4.8, 1.8, \"Virginica\"], [6.1, 3.0, 4.9, 1.8, \"Virginica\"], [6.4, 2.8, 5.6, 2.1, \"Virginica\"], [7.2, 3.0, 5.8, 1.6, \"Virginica\"], [7.4, 2.8, 6.1, 1.9, \"Virginica\"], [7.9, 3.8, 6.4, 2.0, \"Virginica\"], [6.4, 2.8, 5.6, 2.2, \"Virginica\"], [6.3, 2.8, 5.1, 1.5, \"Virginica\"], [6.1, 2.6, 5.6, 1.4, \"Virginica\"], [7.7, 3.0, 6.1, 2.3, \"Virginica\"], [6.3, 3.4, 5.6, 2.4, \"Virginica\"], [6.4, 3.1, 5.5, 1.8, \"Virginica\"], [6.0, 3.0, 4.8, 1.8, \"Virginica\"], [6.9, 3.1, 5.4, 2.1, \"Virginica\"], [6.7, 3.1, 5.6, 2.4, \"Virginica\"], [6.9, 3.1, 5.1, 2.3, \"Virginica\"], [5.8, 2.7, 5.1, 1.9, \"Virginica\"], [6.8, 3.2, 5.9, 2.3, \"Virginica\"], [6.7, 3.3, 5.7, 2.5, \"Virginica\"], [6.7, 3.0, 5.2, 2.3, \"Virginica\"], [6.3, 2.5, 5.0, 1.9, \"Virginica\"], [6.5, 3.0, 5.2, 2.0, \"Virginica\"], [6.2, 3.4, 5.4, 2.3, \"Virginica\"], [5.9, 3.0, 5.1, 1.8, \"Virginica\"]], \"hoverlabel\": {\"namelength\": 0}, \"hovertemplate\": \"variety=%{customdata[4]}<br>sepal.length=%{customdata[0]}<br>sepal.width=%{customdata[1]}<br>petal.length=%{customdata[2]}<br>petal.width=%{customdata[3]}\", \"legendgroup\": \"variety=Virginica\", \"marker\": {\"color\": \"#00cc96\"}, \"name\": \"variety=Virginica\", \"offsetgroup\": \"variety=Virginica\", \"orientation\": \"v\", \"scalegroup\": \"True\", \"showlegend\": true, \"type\": \"violin\", \"x0\": \" \", \"xaxis\": \"x\", \"y\": [6.3, 5.8, 7.1, 6.3, 6.5, 7.6, 4.9, 7.3, 6.7, 7.2, 6.5, 6.4, 6.8, 5.7, 5.8, 6.4, 6.5, 7.7, 7.7, 6.0, 6.9, 5.6, 7.7, 6.3, 6.7, 7.2, 6.2, 6.1, 6.4, 7.2, 7.4, 7.9, 6.4, 6.3, 6.1, 7.7, 6.3, 6.4, 6.0, 6.9, 6.7, 6.9, 5.8, 6.8, 6.7, 6.7, 6.3, 6.5, 6.2, 5.9], \"y0\": \" \", \"yaxis\": \"y\"}],\n",
              "                        {\"height\": 600, \"legend\": {\"tracegroupgap\": 0}, \"margin\": {\"t\": 60}, \"template\": {\"data\": {\"bar\": [{\"error_x\": {\"color\": \"#2a3f5f\"}, \"error_y\": {\"color\": \"#2a3f5f\"}, \"marker\": {\"line\": {\"color\": \"#E5ECF6\", \"width\": 0.5}}, \"type\": \"bar\"}], \"barpolar\": [{\"marker\": {\"line\": {\"color\": \"#E5ECF6\", \"width\": 0.5}}, \"type\": \"barpolar\"}], \"carpet\": [{\"aaxis\": {\"endlinecolor\": \"#2a3f5f\", \"gridcolor\": \"white\", \"linecolor\": \"white\", \"minorgridcolor\": \"white\", \"startlinecolor\": \"#2a3f5f\"}, \"baxis\": {\"endlinecolor\": \"#2a3f5f\", \"gridcolor\": \"white\", \"linecolor\": \"white\", \"minorgridcolor\": \"white\", \"startlinecolor\": \"#2a3f5f\"}, \"type\": \"carpet\"}], \"choropleth\": [{\"colorbar\": {\"outlinewidth\": 0, \"ticks\": \"\"}, \"type\": \"choropleth\"}], \"contour\": [{\"colorbar\": {\"outlinewidth\": 0, \"ticks\": \"\"}, \"colorscale\": [[0.0, \"#0d0887\"], [0.1111111111111111, \"#46039f\"], [0.2222222222222222, \"#7201a8\"], [0.3333333333333333, \"#9c179e\"], [0.4444444444444444, \"#bd3786\"], [0.5555555555555556, \"#d8576b\"], [0.6666666666666666, \"#ed7953\"], [0.7777777777777778, \"#fb9f3a\"], [0.8888888888888888, \"#fdca26\"], [1.0, \"#f0f921\"]], \"type\": \"contour\"}], \"contourcarpet\": [{\"colorbar\": {\"outlinewidth\": 0, \"ticks\": \"\"}, \"type\": \"contourcarpet\"}], \"heatmap\": [{\"colorbar\": {\"outlinewidth\": 0, \"ticks\": \"\"}, \"colorscale\": [[0.0, \"#0d0887\"], [0.1111111111111111, \"#46039f\"], [0.2222222222222222, \"#7201a8\"], [0.3333333333333333, \"#9c179e\"], [0.4444444444444444, \"#bd3786\"], [0.5555555555555556, \"#d8576b\"], [0.6666666666666666, \"#ed7953\"], [0.7777777777777778, \"#fb9f3a\"], [0.8888888888888888, \"#fdca26\"], [1.0, \"#f0f921\"]], \"type\": \"heatmap\"}], \"heatmapgl\": [{\"colorbar\": {\"outlinewidth\": 0, \"ticks\": \"\"}, \"colorscale\": [[0.0, \"#0d0887\"], [0.1111111111111111, \"#46039f\"], [0.2222222222222222, \"#7201a8\"], [0.3333333333333333, \"#9c179e\"], [0.4444444444444444, \"#bd3786\"], [0.5555555555555556, \"#d8576b\"], [0.6666666666666666, \"#ed7953\"], [0.7777777777777778, \"#fb9f3a\"], [0.8888888888888888, \"#fdca26\"], [1.0, \"#f0f921\"]], \"type\": \"heatmapgl\"}], \"histogram\": [{\"marker\": {\"colorbar\": {\"outlinewidth\": 0, \"ticks\": \"\"}}, \"type\": \"histogram\"}], \"histogram2d\": [{\"colorbar\": {\"outlinewidth\": 0, \"ticks\": \"\"}, \"colorscale\": [[0.0, \"#0d0887\"], [0.1111111111111111, \"#46039f\"], [0.2222222222222222, \"#7201a8\"], [0.3333333333333333, \"#9c179e\"], [0.4444444444444444, \"#bd3786\"], [0.5555555555555556, \"#d8576b\"], [0.6666666666666666, \"#ed7953\"], [0.7777777777777778, \"#fb9f3a\"], [0.8888888888888888, \"#fdca26\"], [1.0, \"#f0f921\"]], \"type\": \"histogram2d\"}], \"histogram2dcontour\": [{\"colorbar\": {\"outlinewidth\": 0, \"ticks\": \"\"}, \"colorscale\": [[0.0, \"#0d0887\"], [0.1111111111111111, \"#46039f\"], [0.2222222222222222, \"#7201a8\"], [0.3333333333333333, \"#9c179e\"], [0.4444444444444444, \"#bd3786\"], [0.5555555555555556, \"#d8576b\"], [0.6666666666666666, \"#ed7953\"], [0.7777777777777778, \"#fb9f3a\"], [0.8888888888888888, \"#fdca26\"], [1.0, \"#f0f921\"]], \"type\": \"histogram2dcontour\"}], \"mesh3d\": [{\"colorbar\": {\"outlinewidth\": 0, \"ticks\": \"\"}, \"type\": \"mesh3d\"}], \"parcoords\": [{\"line\": {\"colorbar\": {\"outlinewidth\": 0, \"ticks\": \"\"}}, \"type\": \"parcoords\"}], \"scatter\": [{\"marker\": {\"colorbar\": {\"outlinewidth\": 0, \"ticks\": \"\"}}, \"type\": \"scatter\"}], \"scatter3d\": [{\"line\": {\"colorbar\": {\"outlinewidth\": 0, \"ticks\": \"\"}}, \"marker\": {\"colorbar\": {\"outlinewidth\": 0, \"ticks\": \"\"}}, \"type\": \"scatter3d\"}], \"scattercarpet\": [{\"marker\": {\"colorbar\": {\"outlinewidth\": 0, \"ticks\": \"\"}}, \"type\": \"scattercarpet\"}], \"scattergeo\": [{\"marker\": {\"colorbar\": {\"outlinewidth\": 0, \"ticks\": \"\"}}, \"type\": \"scattergeo\"}], \"scattergl\": [{\"marker\": {\"colorbar\": {\"outlinewidth\": 0, \"ticks\": \"\"}}, \"type\": \"scattergl\"}], \"scattermapbox\": [{\"marker\": {\"colorbar\": {\"outlinewidth\": 0, \"ticks\": \"\"}}, \"type\": \"scattermapbox\"}], \"scatterpolar\": [{\"marker\": {\"colorbar\": {\"outlinewidth\": 0, \"ticks\": \"\"}}, \"type\": \"scatterpolar\"}], \"scatterpolargl\": [{\"marker\": {\"colorbar\": {\"outlinewidth\": 0, \"ticks\": \"\"}}, \"type\": \"scatterpolargl\"}], \"scatterternary\": [{\"marker\": {\"colorbar\": {\"outlinewidth\": 0, \"ticks\": \"\"}}, \"type\": \"scatterternary\"}], \"surface\": [{\"colorbar\": {\"outlinewidth\": 0, \"ticks\": \"\"}, \"colorscale\": [[0.0, \"#0d0887\"], [0.1111111111111111, \"#46039f\"], [0.2222222222222222, \"#7201a8\"], [0.3333333333333333, \"#9c179e\"], [0.4444444444444444, \"#bd3786\"], [0.5555555555555556, \"#d8576b\"], [0.6666666666666666, \"#ed7953\"], [0.7777777777777778, \"#fb9f3a\"], [0.8888888888888888, \"#fdca26\"], [1.0, \"#f0f921\"]], \"type\": \"surface\"}], \"table\": [{\"cells\": {\"fill\": {\"color\": \"#EBF0F8\"}, \"line\": {\"color\": \"white\"}}, \"header\": {\"fill\": {\"color\": \"#C8D4E3\"}, \"line\": {\"color\": \"white\"}}, \"type\": \"table\"}]}, \"layout\": {\"annotationdefaults\": {\"arrowcolor\": \"#2a3f5f\", \"arrowhead\": 0, \"arrowwidth\": 1}, \"colorscale\": {\"diverging\": [[0, \"#8e0152\"], [0.1, \"#c51b7d\"], [0.2, \"#de77ae\"], [0.3, \"#f1b6da\"], [0.4, \"#fde0ef\"], [0.5, \"#f7f7f7\"], [0.6, \"#e6f5d0\"], [0.7, \"#b8e186\"], [0.8, \"#7fbc41\"], [0.9, \"#4d9221\"], [1, \"#276419\"]], \"sequential\": [[0.0, \"#0d0887\"], [0.1111111111111111, \"#46039f\"], [0.2222222222222222, \"#7201a8\"], [0.3333333333333333, \"#9c179e\"], [0.4444444444444444, \"#bd3786\"], [0.5555555555555556, \"#d8576b\"], [0.6666666666666666, \"#ed7953\"], [0.7777777777777778, \"#fb9f3a\"], [0.8888888888888888, \"#fdca26\"], [1.0, \"#f0f921\"]], \"sequentialminus\": [[0.0, \"#0d0887\"], [0.1111111111111111, \"#46039f\"], [0.2222222222222222, \"#7201a8\"], [0.3333333333333333, \"#9c179e\"], [0.4444444444444444, \"#bd3786\"], [0.5555555555555556, \"#d8576b\"], [0.6666666666666666, \"#ed7953\"], [0.7777777777777778, \"#fb9f3a\"], [0.8888888888888888, \"#fdca26\"], [1.0, \"#f0f921\"]]}, \"colorway\": [\"#636efa\", \"#EF553B\", \"#00cc96\", \"#ab63fa\", \"#FFA15A\", \"#19d3f3\", \"#FF6692\", \"#B6E880\", \"#FF97FF\", \"#FECB52\"], \"font\": {\"color\": \"#2a3f5f\"}, \"geo\": {\"bgcolor\": \"white\", \"lakecolor\": \"white\", \"landcolor\": \"#E5ECF6\", \"showlakes\": true, \"showland\": true, \"subunitcolor\": \"white\"}, \"hoverlabel\": {\"align\": \"left\"}, \"hovermode\": \"closest\", \"mapbox\": {\"style\": \"light\"}, \"paper_bgcolor\": \"white\", \"plot_bgcolor\": \"#E5ECF6\", \"polar\": {\"angularaxis\": {\"gridcolor\": \"white\", \"linecolor\": \"white\", \"ticks\": \"\"}, \"bgcolor\": \"#E5ECF6\", \"radialaxis\": {\"gridcolor\": \"white\", \"linecolor\": \"white\", \"ticks\": \"\"}}, \"scene\": {\"xaxis\": {\"backgroundcolor\": \"#E5ECF6\", \"gridcolor\": \"white\", \"gridwidth\": 2, \"linecolor\": \"white\", \"showbackground\": true, \"ticks\": \"\", \"zerolinecolor\": \"white\"}, \"yaxis\": {\"backgroundcolor\": \"#E5ECF6\", \"gridcolor\": \"white\", \"gridwidth\": 2, \"linecolor\": \"white\", \"showbackground\": true, \"ticks\": \"\", \"zerolinecolor\": \"white\"}, \"zaxis\": {\"backgroundcolor\": \"#E5ECF6\", \"gridcolor\": \"white\", \"gridwidth\": 2, \"linecolor\": \"white\", \"showbackground\": true, \"ticks\": \"\", \"zerolinecolor\": \"white\"}}, \"shapedefaults\": {\"line\": {\"color\": \"#2a3f5f\"}}, \"ternary\": {\"aaxis\": {\"gridcolor\": \"white\", \"linecolor\": \"white\", \"ticks\": \"\"}, \"baxis\": {\"gridcolor\": \"white\", \"linecolor\": \"white\", \"ticks\": \"\"}, \"bgcolor\": \"#E5ECF6\", \"caxis\": {\"gridcolor\": \"white\", \"linecolor\": \"white\", \"ticks\": \"\"}}, \"title\": {\"x\": 0.05}, \"xaxis\": {\"automargin\": true, \"gridcolor\": \"white\", \"linecolor\": \"white\", \"ticks\": \"\", \"zerolinecolor\": \"white\", \"zerolinewidth\": 2}, \"yaxis\": {\"automargin\": true, \"gridcolor\": \"white\", \"linecolor\": \"white\", \"ticks\": \"\", \"zerolinecolor\": \"white\", \"zerolinewidth\": 2}}}, \"violinmode\": \"overlay\", \"xaxis\": {\"anchor\": \"y\", \"domain\": [0.0, 0.98]}, \"yaxis\": {\"anchor\": \"x\", \"domain\": [0.0, 1.0], \"title\": {\"text\": \"sepal.length\"}}},\n",
              "                        {\"responsive\": true}\n",
              "                    ).then(function(){\n",
              "                            \n",
              "var gd = document.getElementById('b00bdbdb-624a-4516-af77-6b4ae066a9c5');\n",
              "var x = new MutationObserver(function (mutations, observer) {{\n",
              "        var display = window.getComputedStyle(gd).display;\n",
              "        if (!display || display === 'none') {{\n",
              "            console.log([gd, 'removed!']);\n",
              "            Plotly.purge(gd);\n",
              "            observer.disconnect();\n",
              "        }}\n",
              "}});\n",
              "\n",
              "// Listen for the removal of the full notebook cells\n",
              "var notebookContainer = gd.closest('#notebook-container');\n",
              "if (notebookContainer) {{\n",
              "    x.observe(notebookContainer, {childList: true});\n",
              "}}\n",
              "\n",
              "// Listen for the clearing of the current output cell\n",
              "var outputEl = gd.closest('.output');\n",
              "if (outputEl) {{\n",
              "    x.observe(outputEl, {childList: true});\n",
              "}}\n",
              "\n",
              "                        })\n",
              "                };\n",
              "                \n",
              "            </script>\n",
              "        </div>\n",
              "</body>\n",
              "</html>"
            ]
          },
          "metadata": {
            "tags": []
          }
        }
      ]
    }
  ]
}