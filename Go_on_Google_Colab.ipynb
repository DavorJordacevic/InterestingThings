{
  "nbformat": 4,
  "nbformat_minor": 0,
  "metadata": {
    "colab": {
      "name": "Go_on_Google_Colab.ipynb",
      "provenance": [],
      "collapsed_sections": [],
      "include_colab_link": true
    },
    "kernelspec": {
      "name": "gophernotes",
      "display_name": "Go"
    }
  },
  "cells": [
    {
      "cell_type": "markdown",
      "metadata": {
        "id": "view-in-github",
        "colab_type": "text"
      },
      "source": [
        "<a href=\"https://colab.research.google.com/github/DavorJordacevic/InterestingThings/blob/main/Go_on_Google_Colab.ipynb\" target=\"_parent\"><img src=\"https://colab.research.google.com/assets/colab-badge.svg\" alt=\"Open In Colab\"/></a>"
      ]
    },
    {
      "cell_type": "code",
      "metadata": {
        "id": "caT1iMfshw62",
        "colab": {
          "base_uri": "https://localhost:8080/"
        },
        "outputId": "3d607f49-fa3d-4533-d55c-13b709247e29"
      },
      "source": [
        "# run this cell first time using python runtime\n",
        "!add-apt-repository ppa:longsleep/golang-backports -y\n",
        "!apt update\n",
        "!apt install golang-go\n",
        "%env GOPATH=/root/go\n",
        "!go get -u github.com/gopherdata/gophernotes\n",
        "!cp ~/go/bin/gophernotes /usr/bin/\n",
        "!mkdir /usr/local/share/jupyter/kernels/gophernotes\n",
        "!cp ~/go/src/github.com/gopherdata/gophernotes/kernel/* \\\n",
        "       /usr/local/share/jupyter/kernels/gophernotes\n",
        "# then refresh, it will now use gophernotes. Skip to golang in later cells"
      ],
      "execution_count": null,
      "outputs": [
        {
          "output_type": "stream",
          "text": [
            "\r0% [Working]\r            \rIgn:1 https://developer.download.nvidia.com/compute/cuda/repos/ubuntu1804/x86_64  InRelease\n",
            "\r0% [Connecting to archive.ubuntu.com (91.189.88.142)] [Waiting for headers] [Co\r                                                                               \rGet:2 https://cloud.r-project.org/bin/linux/ubuntu bionic-cran40/ InRelease [3,626 B]\n",
            "\r0% [Connecting to archive.ubuntu.com (91.189.88.142)] [Waiting for headers] [2 \r0% [Connecting to archive.ubuntu.com (91.189.88.142)] [Waiting for headers] [Co\r0% [2 InRelease gpgv 3,626 B] [Connecting to archive.ubuntu.com (91.189.88.142)\r                                                                               \rIgn:3 https://developer.download.nvidia.com/compute/machine-learning/repos/ubuntu1804/x86_64  InRelease\n",
            "\r0% [2 InRelease gpgv 3,626 B] [Connecting to archive.ubuntu.com (91.189.88.142)\r                                                                               \rGet:4 https://developer.download.nvidia.com/compute/cuda/repos/ubuntu1804/x86_64  Release [697 B]\n",
            "\r0% [2 InRelease gpgv 3,626 B] [Connecting to archive.ubuntu.com (91.189.88.142)\r                                                                               \rHit:5 https://developer.download.nvidia.com/compute/machine-learning/repos/ubuntu1804/x86_64  Release\n",
            "\r0% [2 InRelease gpgv 3,626 B] [Connecting to archive.ubuntu.com (91.189.88.142)\r                                                                               \rGet:6 http://security.ubuntu.com/ubuntu bionic-security InRelease [88.7 kB]\n",
            "Get:7 https://developer.download.nvidia.com/compute/cuda/repos/ubuntu1804/x86_64  Release.gpg [836 B]\n",
            "Get:8 http://ppa.launchpad.net/c2d4u.team/c2d4u4.0+/ubuntu bionic InRelease [15.9 kB]\n",
            "Hit:9 http://archive.ubuntu.com/ubuntu bionic InRelease\n",
            "Get:10 http://archive.ubuntu.com/ubuntu bionic-updates InRelease [88.7 kB]\n",
            "Hit:12 http://ppa.launchpad.net/graphics-drivers/ppa/ubuntu bionic InRelease\n",
            "Ign:13 https://developer.download.nvidia.com/compute/cuda/repos/ubuntu1804/x86_64  Packages\n",
            "Get:13 https://developer.download.nvidia.com/compute/cuda/repos/ubuntu1804/x86_64  Packages [443 kB]\n",
            "Get:14 http://archive.ubuntu.com/ubuntu bionic-backports InRelease [74.6 kB]\n",
            "Get:15 http://ppa.launchpad.net/longsleep/golang-backports/ubuntu bionic InRelease [15.4 kB]\n",
            "Get:16 http://security.ubuntu.com/ubuntu bionic-security/universe amd64 Packages [1,365 kB]\n",
            "Get:17 http://ppa.launchpad.net/c2d4u.team/c2d4u4.0+/ubuntu bionic/main Sources [1,690 kB]\n",
            "Get:18 http://security.ubuntu.com/ubuntu bionic-security/main amd64 Packages [1,781 kB]\n",
            "Get:19 http://archive.ubuntu.com/ubuntu bionic-updates/universe amd64 Packages [2,130 kB]\n",
            "Get:20 http://archive.ubuntu.com/ubuntu bionic-updates/restricted amd64 Packages [252 kB]\n",
            "Get:21 http://archive.ubuntu.com/ubuntu bionic-updates/multiverse amd64 Packages [54.3 kB]\n",
            "Get:22 http://archive.ubuntu.com/ubuntu bionic-updates/main amd64 Packages [2,208 kB]\n",
            "Get:23 http://ppa.launchpad.net/c2d4u.team/c2d4u4.0+/ubuntu bionic/main amd64 Packages [865 kB]\n",
            "Get:24 http://ppa.launchpad.net/longsleep/golang-backports/ubuntu bionic/main amd64 Packages [5,494 B]\n",
            "Fetched 11.1 MB in 4s (2,838 kB/s)\n",
            "Reading package lists... Done\n",
            "Hit:1 https://cloud.r-project.org/bin/linux/ubuntu bionic-cran40/ InRelease\n",
            "Ign:2 https://developer.download.nvidia.com/compute/cuda/repos/ubuntu1804/x86_64  InRelease\n",
            "Ign:3 https://developer.download.nvidia.com/compute/machine-learning/repos/ubuntu1804/x86_64  InRelease\n",
            "Hit:4 https://developer.download.nvidia.com/compute/cuda/repos/ubuntu1804/x86_64  Release\n",
            "Hit:5 https://developer.download.nvidia.com/compute/machine-learning/repos/ubuntu1804/x86_64  Release\n",
            "Hit:6 http://ppa.launchpad.net/c2d4u.team/c2d4u4.0+/ubuntu bionic InRelease\n",
            "Hit:7 http://security.ubuntu.com/ubuntu bionic-security InRelease\n",
            "Hit:8 http://archive.ubuntu.com/ubuntu bionic InRelease\n",
            "Hit:10 http://archive.ubuntu.com/ubuntu bionic-updates InRelease\n",
            "Hit:11 http://archive.ubuntu.com/ubuntu bionic-backports InRelease\n",
            "Hit:12 http://ppa.launchpad.net/graphics-drivers/ppa/ubuntu bionic InRelease\n",
            "Hit:14 http://ppa.launchpad.net/longsleep/golang-backports/ubuntu bionic InRelease\n",
            "Reading package lists... Done\n",
            "Building dependency tree       \n",
            "Reading state information... Done\n",
            "60 packages can be upgraded. Run 'apt list --upgradable' to see them.\n",
            "Reading package lists... Done\n",
            "Building dependency tree       \n",
            "Reading state information... Done\n",
            "The following additional packages will be installed:\n",
            "  golang-1.15-go golang-1.15-src golang-src\n",
            "Suggested packages:\n",
            "  bzr | brz mercurial subversion\n",
            "The following NEW packages will be installed:\n",
            "  golang-1.15-go golang-1.15-src golang-go golang-src\n",
            "0 upgraded, 4 newly installed, 0 to remove and 60 not upgraded.\n",
            "Need to get 61.3 MB of archives.\n",
            "After this operation, 358 MB of additional disk space will be used.\n",
            "Get:1 http://ppa.launchpad.net/longsleep/golang-backports/ubuntu bionic/main amd64 golang-1.15-src amd64 1.15.2-1longsleep1+bionic [13.8 MB]\n",
            "Get:2 http://ppa.launchpad.net/longsleep/golang-backports/ubuntu bionic/main amd64 golang-1.15-go amd64 1.15.2-1longsleep1+bionic [47.4 MB]\n",
            "Get:3 http://ppa.launchpad.net/longsleep/golang-backports/ubuntu bionic/main amd64 golang-src amd64 2:1.15-1longsleep1+bionic [3,924 B]\n",
            "Get:4 http://ppa.launchpad.net/longsleep/golang-backports/ubuntu bionic/main amd64 golang-go amd64 2:1.15-1longsleep1+bionic [23.0 kB]\n",
            "Fetched 61.3 MB in 6s (10.3 MB/s)\n",
            "Selecting previously unselected package golang-1.15-src.\n",
            "(Reading database ... 144793 files and directories currently installed.)\n",
            "Preparing to unpack .../golang-1.15-src_1.15.2-1longsleep1+bionic_amd64.deb ...\n",
            "Unpacking golang-1.15-src (1.15.2-1longsleep1+bionic) ...\n",
            "Selecting previously unselected package golang-1.15-go.\n",
            "Preparing to unpack .../golang-1.15-go_1.15.2-1longsleep1+bionic_amd64.deb ...\n",
            "Unpacking golang-1.15-go (1.15.2-1longsleep1+bionic) ...\n",
            "Selecting previously unselected package golang-src.\n",
            "Preparing to unpack .../golang-src_2%3a1.15-1longsleep1+bionic_amd64.deb ...\n",
            "Unpacking golang-src (2:1.15-1longsleep1+bionic) ...\n",
            "Selecting previously unselected package golang-go.\n",
            "Preparing to unpack .../golang-go_2%3a1.15-1longsleep1+bionic_amd64.deb ...\n",
            "Unpacking golang-go (2:1.15-1longsleep1+bionic) ...\n",
            "Setting up golang-1.15-src (1.15.2-1longsleep1+bionic) ...\n",
            "Setting up golang-1.15-go (1.15.2-1longsleep1+bionic) ...\n",
            "Setting up golang-src (2:1.15-1longsleep1+bionic) ...\n",
            "Setting up golang-go (2:1.15-1longsleep1+bionic) ...\n",
            "Processing triggers for man-db (2.8.3-2ubuntu0.1) ...\n",
            "env: GOPATH=/root/go\n"
          ],
          "name": "stdout"
        }
      ]
    },
    {
      "cell_type": "markdown",
      "metadata": {
        "id": "_YNAC3asN-Yw"
      },
      "source": [
        "**CHANGE RUNTYPE TO: GO**"
      ]
    },
    {
      "cell_type": "code",
      "metadata": {
        "id": "iU0OKR8Natzl",
        "colab": {
          "base_uri": "https://localhost:8080/",
          "height": 34
        },
        "outputId": "1535c182-c8b0-46a7-b6f9-bbeecd62d408"
      },
      "source": [
        "display.HTML(\"<b>Hello, World</b>\")"
      ],
      "execution_count": 6,
      "outputs": [
        {
          "output_type": "execute_result",
          "data": {
            "text/plain": [
              "<b>Hello, World</b>"
            ],
            "text/html": [
              "<b>Hello, World</b>"
            ]
          },
          "metadata": {
            "tags": []
          },
          "execution_count": 6
        }
      ]
    },
    {
      "cell_type": "code",
      "metadata": {
        "id": "4gfyTd0Pa2dD"
      },
      "source": [
        "import \"fmt\""
      ],
      "execution_count": 7,
      "outputs": []
    },
    {
      "cell_type": "code",
      "metadata": {
        "id": "-QuMO9OULjjK"
      },
      "source": [
        "func main() {\n",
        "\tfmt.Println(\"Hello, World\")\n",
        "}"
      ],
      "execution_count": 8,
      "outputs": []
    }
  ]
}